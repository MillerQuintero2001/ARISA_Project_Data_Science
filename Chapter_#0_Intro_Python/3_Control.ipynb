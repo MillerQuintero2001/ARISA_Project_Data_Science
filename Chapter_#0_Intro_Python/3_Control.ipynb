{
 "cells": [
  {
   "cell_type": "markdown",
   "metadata": {},
   "source": [
    "## Tabla de contenidos del notebook <a id=\"index\"></a>\n",
    "\n",
    "1. [Estructuras de control](#control)\n",
    "2. [Funciones](#funciones)\n",
    "3. [Librerias](#modules)"
   ]
  },
  {
   "cell_type": "markdown",
   "metadata": {},
   "source": [
    "# Estructuras de control <a id=\"control\"></a><a href=\"#index\"><i class=\"fa fa-list-alt\" aria-hidden=\"true\"></i></a>\n",
    "\n",
    "## Condicionales \n",
    "\n",
    "La estructura de control más conocida es el <kbd>if</kbd>. La condición <kbd>if</kbd> permite representar una regla del tipo condición/acción:\n",
    "\n",
    "```\n",
    "si hace sol entonces juego al tenis\n",
    "```\n",
    "\n",
    "En Python se podría codificar del siguiente modo:\n",
    "\n",
    "```Python\n",
    "if sol == True:\n",
    "    jugar_tenis()\n",
    "```\n",
    "\n",
    "En términos generales, las condiciones en Python tienen la siguiente sintaxis.\n",
    "\n",
    "```Python\n",
    "if primera condición:\n",
    "    primer cuerpo\n",
    "elif segunda condición:\n",
    "    segundo cuerpo\n",
    "elif tercera condición:\n",
    "    tercer cuerpo\n",
    "else:\n",
    "    cuarto cuerpo\n",
    "```\n",
    "\n",
    "- El inicio del cuerpo son los «<kbd>:</kbd>».\n",
    "- La indentación determina la extensión del cuerpo.\n",
    "- Puede haber cero o más partes <kbd>elif</kbd>.\n",
    "- La parte <kbd>else</kbd> es única y es opcional.\n",
    "\n",
    "<span class=\"label label-info\"><i class=\"fa fa-info-circle\" aria-hidden=\"true\"></i> Nota</span>  En las condiciones en Python: el número 0 se evalua a <kbd>False</kbd>, el resto de números se evaluan a <kbd>True</kbd>. Una secuencia vacía se evalua a <kbd>False</kbd>, el resto de secuencias se evaluan a <kbd>True</kbd>."
   ]
  },
  {
   "cell_type": "code",
   "execution_count": 1,
   "metadata": {},
   "outputs": [
    {
     "name": "stdout",
     "output_type": "stream",
     "text": [
      "Número positivo\n"
     ]
    }
   ],
   "source": [
    "x = int(input(\"Introduce un número: \"))\n",
    "\n",
    "if x < 0:\n",
    "    print(\"Número negativo\")\n",
    "elif x > 0:\n",
    "    print(\"Número positivo\")\n",
    "else:\n",
    "    print(\"Cero\")"
   ]
  },
  {
   "cell_type": "code",
   "execution_count": 2,
   "metadata": {},
   "outputs": [
    {
     "name": "stdout",
     "output_type": "stream",
     "text": [
      "El resto de número se evaluan a True (Imprime)\n",
      "El resto de secuencias se evaluan a True (Imprime)\n"
     ]
    }
   ],
   "source": [
    "if 0:\n",
    "    print(\"El 0 se evalua a False (No imprime nada)\")\n",
    "    \n",
    "if 1:\n",
    "    print(\"El resto de número se evaluan a True (Imprime)\")\n",
    "    \n",
    "if \"\":\n",
    "    print(\"Secuencias vacías se evaluan a False (No imprime)\")\n",
    "    \n",
    "if [1,2]:\n",
    "    print(\"El resto de secuencias se evaluan a True (Imprime)\")"
   ]
  },
  {
   "cell_type": "markdown",
   "metadata": {},
   "source": [
    "En Python NO existe la secuencia <kbd>switch</kbd>, que sí existe en otros lenguajes (C, Java...).\n",
    "\n",
    "```cpp  \n",
    "switch (hijos) {\n",
    "    case 0: \n",
    "        printf(\"Sin hijos\");          \n",
    "        break;\n",
    "    case 1:  \n",
    "        printf(\"Un hijo\"); \n",
    "        break;\n",
    "    case 2: \n",
    "        printf(\"Dos hijos\");\n",
    "        break;\n",
    "    default: \n",
    "        printf(\"Familia numerosa\");\n",
    "}\n",
    "```\n",
    "\n",
    "Con el  <kbd>if</kbd> … <kbd>elif</kbd> … <kbd>elif</kbd>, se puede hacer exactamente lo mismo que con un <kbd>switch</kbd>. Prúebalo tu mismo."
   ]
  },
  {
   "cell_type": "markdown",
   "metadata": {},
   "source": [
    "## Bucles\n",
    "\n",
    "Los bucles permiten ejecutar un mismo código de manera repetida. En Python existen los siguientes bucles:\n",
    "\n",
    "- <kbd>while</kbd>\n",
    "- <kbd>for</kbd>\n",
    "\n",
    "### El while\n",
    "\n",
    "Bucle general basado en la comprobación repetida de una condición booleana. Mientras se cumpla la condición, ejecutará las sentencias del cuerpo.\n",
    "\n",
    "```Python\n",
    "while condición:\n",
    "    cuerpo\n",
    "```"
   ]
  },
  {
   "cell_type": "code",
   "execution_count": 3,
   "metadata": {
    "scrolled": true
   },
   "outputs": [
    {
     "name": "stdout",
     "output_type": "stream",
     "text": [
      "10\n",
      "9\n",
      "8\n",
      "7\n",
      "6\n",
      "5\n",
      "4\n",
      "3\n",
      "2\n",
      "1\n"
     ]
    }
   ],
   "source": [
    "# Recordemos que el 0 se evalúa a False\n",
    "n = 10\n",
    "while n:\n",
    "    print(n)\n",
    "    n -= 1"
   ]
  },
  {
   "cell_type": "markdown",
   "metadata": {},
   "source": [
    "### El for\n",
    "\n",
    "El bucle <kbd>for</kbd> permite iterar/recorrer secuencias/colecciones.\n",
    "\n",
    "El <kbd>for</kbd> en Python difiere un poco de como se usa esta sentencia en lenguajes como C o Java. En C y otros lenguajes se permite definir: el inicio, el final y el incremento/decremento.\n",
    "\n",
    "En Python se itera sobre los valores de una secuencia (lista, tupla, set)\n",
    "\n",
    "```Python\n",
    "for elemento in iterable:\n",
    "    cuerpo\n",
    "```"
   ]
  },
  {
   "cell_type": "code",
   "execution_count": 4,
   "metadata": {},
   "outputs": [
    {
     "name": "stdout",
     "output_type": "stream",
     "text": [
      "1\n",
      "3\n",
      "7\n",
      "8\n"
     ]
    }
   ],
   "source": [
    "# Ejemplo, iterar sobre una lista\n",
    "lista = [1, 3, 7, 8]\n",
    "\n",
    "for i in lista:\n",
    "    print(i)"
   ]
  },
  {
   "cell_type": "code",
   "execution_count": 5,
   "metadata": {},
   "outputs": [
    {
     "name": "stdout",
     "output_type": "stream",
     "text": [
      "The age of Susana is 33\n",
      "The age of Pedro is 25\n",
      "The age of Juan is 32\n",
      "The age of Jose is 22\n",
      "The age of María is 28\n"
     ]
    }
   ],
   "source": [
    "# Ejemplo, iterar sobre las claves de un diccionario\n",
    "names_age = {\"Susana\": 33, \"Pedro\": 25, \"Juan\": 32, \"Jose\": 22, 'María': 28}\n",
    "\n",
    "for name, age in names_age.items():\n",
    "    print(\"The age of\", name, \"is\", age)"
   ]
  },
  {
   "cell_type": "markdown",
   "metadata": {},
   "source": [
    "Si se desea realizar el bucle un número fijo de iteraciones, hay que crear una secuencia de números. Para ello, se puede usar <kbd>range</kbd>: que genera secuencias de enteros personalizadas.\n",
    "\n",
    "Se puede llamar con 1, 2 ó 3 parámetros, dependiendo de lo que se desee:\n",
    "\n",
    "1. Se especifica el final. \n",
    "```Python\n",
    "range(10)       # de 0 hasta 9\n",
    "```\n",
    "2. Se especifica el inicio y el final.\n",
    "```Python\n",
    "range(5, 10)    # de 5 hasta 9\n",
    "```\n",
    "3. Se especifica el inicio, el final y el incremento.\n",
    "```Python\n",
    "range(5, 10, 2) # de 5 hasta 9 contando de 2 en 2\n",
    "```\n",
    "\n",
    "<span class=\"label label-info\"><i class=\"fa fa-info-circle\" aria-hidden=\"true\"></i> Info</span>  El incremento podría ser negativo, como se ve en el siguiente ejemplo."
   ]
  },
  {
   "cell_type": "code",
   "execution_count": 6,
   "metadata": {},
   "outputs": [
    {
     "name": "stdout",
     "output_type": "stream",
     "text": [
      "25\n",
      "23\n",
      "21\n",
      "19\n",
      "17\n",
      "15\n",
      "13\n",
      "11\n",
      "9\n",
      "7\n"
     ]
    }
   ],
   "source": [
    "for i in range(25, 5, -2):\n",
    "    print(i)"
   ]
  },
  {
   "cell_type": "code",
   "execution_count": 7,
   "metadata": {},
   "outputs": [
    {
     "name": "stdout",
     "output_type": "stream",
     "text": [
      "0 Pedro\n",
      "1 Juan\n",
      "2 Jose\n"
     ]
    }
   ],
   "source": [
    "# Ejemplo, iterar sobre una lista, pero manteniendo el índice como en C o Java\n",
    "alumnos = [\"Pedro\", \"Juan\", \"Jose\"]\n",
    "\n",
    "for i in range(len(alumnos)):\n",
    "    print(i, alumnos[i])"
   ]
  },
  {
   "cell_type": "markdown",
   "metadata": {},
   "source": [
    "<span class=\"label label-info\"><i class=\"fa fa-info-circle\" aria-hidden=\"true\"></i> Info</span>  La sentencia <kbd>enumerate</kbd> puede ser muy útil y cómoda para algunas ocasiones. Permite iterar sobre la secuencia de elementos y recuperar el elemento y su índice directamente."
   ]
  },
  {
   "cell_type": "code",
   "execution_count": 8,
   "metadata": {},
   "outputs": [
    {
     "name": "stdout",
     "output_type": "stream",
     "text": [
      "0 Pedro\n",
      "1 Juan\n",
      "2 Jose\n"
     ]
    }
   ],
   "source": [
    "# El mismo ejemplo que el anterior pero utilizando enumerate\n",
    "alumnos = [\"Pedro\", \"Juan\", \"Jose\"]\n",
    "for i, alumno in enumerate(alumnos):\n",
    "    print(i, alumno)"
   ]
  },
  {
   "cell_type": "markdown",
   "metadata": {},
   "source": [
    "### break, continue, pass\n",
    "\n",
    "Tanto <kbd>break</kbd> como <kbd>continue</kbd> son sentencias tomadas de C, se pueden usar dentro de cualquier bucle: <kbd>for</kbd> y <kbd>while</kbd>.\n",
    "\n",
    "El <kbd>break</kbd> permite abandonar/interrumpir el bucle antes de haber iterado sobre todos los elementos."
   ]
  },
  {
   "cell_type": "code",
   "execution_count": 9,
   "metadata": {},
   "outputs": [
    {
     "name": "stdout",
     "output_type": "stream",
     "text": [
      "2 es un número primo\n",
      "3 es un número primo\n",
      "4 es igual a 2 * 2\n",
      "5 es un número primo\n",
      "6 es igual a 2 * 3\n",
      "7 es un número primo\n",
      "8 es igual a 2 * 4\n",
      "9 es igual a 3 * 3\n"
     ]
    }
   ],
   "source": [
    "for n in range(2, 10):\n",
    "    for x in range(2, n):\n",
    "        # Se comprueba que x sea un factor de n\n",
    "        if n % x == 0:\n",
    "            # si lo es, ya sabemos que no es primo,\n",
    "            # se deja de buscar y abandonamos con break\n",
    "            print(n, 'es igual a', x, '*', n//x) \n",
    "            # el comando // es la función 'floor(n/x)', \n",
    "            # por lo tanto es igual que int(n/x)\n",
    "            break\n",
    "    else:\n",
    "        # el bucle finaliza sin encontrar un factor\n",
    "        print(n, 'es un número primo')"
   ]
  },
  {
   "cell_type": "markdown",
   "metadata": {},
   "source": [
    "La sentencia <kbd>continue</kbd> también tiene un funcionamiento equivalente a su versión en C. El <kbd>continue</kbd> finaliza la interación actual y continúa en la siguiente.\n",
    "\n",
    "El <kbd>break</kbd> permite abandonar/interrumpir el bucle antes de haber iterado sobre todos los elementos.\n",
    "\n",
    "\n",
    "Su caso de uso típico es como una precondición antes de hacer algún procesamiento."
   ]
  },
  {
   "cell_type": "code",
   "execution_count": 10,
   "metadata": {},
   "outputs": [
    {
     "name": "stdout",
     "output_type": "stream",
     "text": [
      "Pepe sacó un  10\n",
      "Sonia sacó un  6\n",
      "Lara sacó un  4\n"
     ]
    }
   ],
   "source": [
    "alumnos_notas = [(\"Pepe\", 10), (\"Lucas\", -4), (\"Sonia\", 6), (\"Lara\", 4), (\"Manuel\",12)]\n",
    "\n",
    "for alumno, nota in alumnos_notas:\n",
    "    # Controlamos que la nota sea correcta en el rango [0, 10]\n",
    "    if nota > 10 or nota < 0:\n",
    "        continue\n",
    "    print(alumno, \"sacó un \", nota)\n",
    "    # aquí podría haber procesamientos adicionales"
   ]
  },
  {
   "cell_type": "markdown",
   "metadata": {},
   "source": [
    "El <kbd>pass</kbd> literalmente no hace nada. Simplemente permite que la sintaxis de un bucle vacío sea correcta. También se utiliza en programación orientada a objetos."
   ]
  },
  {
   "cell_type": "code",
   "execution_count": 11,
   "metadata": {},
   "outputs": [],
   "source": [
    "for i in range(100):\n",
    "    pass # si lo quitamos falla, ¡pruébalo!"
   ]
  },
  {
   "cell_type": "markdown",
   "metadata": {},
   "source": [
    "# Funciones <a id=\"funciones\"></a><a href=\"#index\"><i class=\"fa fa-list-alt\" aria-hidden=\"true\"></i></a>\n",
    "\n",
    "Las funciones permiten estructurar el código, al igual que en otros lenguajes de programación, tienen parámetros de entrada, un cuerpo (sentencias/instrucciones) y pueden retornar valores a quien las haya invocado.\n",
    "\n",
    "```Python\n",
    "def función(argumento1, argumento2):\n",
    "    # comentario de la función\n",
    "    # cuerpo de la función \n",
    "    return 0 # retorno (opcional)\n",
    "```\n",
    "\n",
    "- Las funciones se definen con la palabra reservada <kbd>def</kbd>.\n",
    "- Ni los parámetros de entrada, ni el resultado tiene tipos.\n",
    "- El cuerpo está indentado.\n",
    "- Si no se devuelve nada explicitamente, la función retornará <kbd>None</kbd>. "
   ]
  },
  {
   "cell_type": "code",
   "execution_count": 12,
   "metadata": {},
   "outputs": [],
   "source": [
    "# ejemplo de una función comentada correctamente\n",
    "def cuenta(datos, objetivo):\n",
    "    '''\n",
    "    Cuenta las veces que aparece un valor objetivo\n",
    "    \n",
    "    Parameters\n",
    "    ----------\n",
    "    datos : lista\n",
    "        lista de datos donde buscar.\n",
    "    objetivo : cualquier tipo de dato\n",
    "       objeto que se busca\n",
    "       \n",
    "    Returns\n",
    "    -------\n",
    "    int : número de veces que se encontró el objetivo en la lista\n",
    "    '''\n",
    "    n = 0\n",
    "    for item in datos:\n",
    "        if item == objetivo:\n",
    "            n += 1\n",
    "    return n"
   ]
  },
  {
   "cell_type": "markdown",
   "metadata": {},
   "source": [
    "La invocación de una función, como ya se ha visto en el curso previamente, se realiza escribiendo el nombre de la función seguido de los parámetros de entrada entre paréntesis)."
   ]
  },
  {
   "cell_type": "code",
   "execution_count": 13,
   "metadata": {},
   "outputs": [
    {
     "data": {
      "text/plain": [
       "2"
      ]
     },
     "execution_count": 13,
     "metadata": {},
     "output_type": "execute_result"
    }
   ],
   "source": [
    "# Recibe dos objetos: una secuencia/colección y un elemento\n",
    "cuenta([1, 2, 3, 4, 4, 1, 2], 4) # Cuenta las veces que sale el número 4 en la lista."
   ]
  },
  {
   "cell_type": "code",
   "execution_count": 14,
   "metadata": {},
   "outputs": [
    {
     "name": "stdout",
     "output_type": "stream",
     "text": [
      "Help on function cuenta in module __main__:\n",
      "\n",
      "cuenta(datos, objetivo)\n",
      "    Cuenta las veces que aparece un valor objetivo\n",
      "    \n",
      "    Parameters\n",
      "    ----------\n",
      "    datos : lista\n",
      "        lista de datos donde buscar.\n",
      "    objetivo : cualquier tipo de dato\n",
      "       objeto que se busca\n",
      "       \n",
      "    Returns\n",
      "    -------\n",
      "    int : número de veces que se encontró el objetivo en la lista\n",
      "\n"
     ]
    }
   ],
   "source": [
    "help(cuenta)"
   ]
  },
  {
   "cell_type": "markdown",
   "metadata": {},
   "source": [
    "Los argumentos de entrada y de salida no tienen tipos, por lo tanto no hay comprobación de tipos en compilación. Esto provoca que los errores, en caso de haberlos, serán detectados durante la ejecución.\n",
    "\n",
    "Es responsabilidad del programador asegurarse de que aplica operaciones a tipos de datos que soporten dichas operaciones.\n",
    "\n",
    "<span class=\"label label-info\"><i class=\"fa fa-info-circle\" aria-hidden=\"true\"></i> Nota</span> Se ha añadido un nuevo estándar que permite añadir <q>pistas</q> al entorno de desarrollo, de este modo en tiempo de compilación nos avisa si hay un problema con los tipos \n",
    "https://docs.python.org/3/library/typing.html.\n"
   ]
  },
  {
   "cell_type": "code",
   "execution_count": 15,
   "metadata": {},
   "outputs": [],
   "source": [
    "# Función que calcula a + b (dependiendo del tipo de a y b, será distinto el comportamiento de la suma)\n",
    "def sumar(a, b):\n",
    "    return a + b"
   ]
  },
  {
   "cell_type": "code",
   "execution_count": 16,
   "metadata": {},
   "outputs": [
    {
     "data": {
      "text/plain": [
       "6.433299999999999"
      ]
     },
     "execution_count": 16,
     "metadata": {},
     "output_type": "execute_result"
    }
   ],
   "source": [
    "sumar(5.1, 1.3333)"
   ]
  },
  {
   "cell_type": "code",
   "execution_count": 17,
   "metadata": {},
   "outputs": [
    {
     "data": {
      "text/plain": [
       "'Hola Mundo'"
      ]
     },
     "execution_count": 17,
     "metadata": {},
     "output_type": "execute_result"
    }
   ],
   "source": [
    "sumar(\"Hola \",\"Mundo\")"
   ]
  },
  {
   "cell_type": "code",
   "execution_count": 18,
   "metadata": {},
   "outputs": [
    {
     "data": {
      "text/plain": [
       "[1, 2, 3, 4, 5, 6]"
      ]
     },
     "execution_count": 18,
     "metadata": {},
     "output_type": "execute_result"
    }
   ],
   "source": [
    "sumar([1, 2, 3, 4], [5, 6])"
   ]
  },
  {
   "cell_type": "code",
   "execution_count": 19,
   "metadata": {},
   "outputs": [
    {
     "data": {
      "text/plain": [
       "'hola7'"
      ]
     },
     "execution_count": 19,
     "metadata": {},
     "output_type": "execute_result"
    }
   ],
   "source": [
    "# Esto fallaría si no se casteara a 'str' porque la suma entre int y str no está definida.\n",
    "sumar(\"hola\", str(7))"
   ]
  },
  {
   "cell_type": "code",
   "execution_count": 20,
   "metadata": {},
   "outputs": [],
   "source": [
    "# función que saluda y no devuelve nada\n",
    "def saludo():\n",
    "    print(\"Hola\")"
   ]
  },
  {
   "cell_type": "code",
   "execution_count": 21,
   "metadata": {},
   "outputs": [
    {
     "name": "stdout",
     "output_type": "stream",
     "text": [
      "Hola\n"
     ]
    }
   ],
   "source": [
    "valor = saludo()"
   ]
  },
  {
   "cell_type": "code",
   "execution_count": 22,
   "metadata": {},
   "outputs": [
    {
     "name": "stdout",
     "output_type": "stream",
     "text": [
      "None\n"
     ]
    }
   ],
   "source": [
    "print(valor) # Valor es None"
   ]
  },
  {
   "cell_type": "markdown",
   "metadata": {},
   "source": [
    "## Alcance de las variables\n",
    "\n",
    "El alcance de una variable hace referencia a cuál es la porción de código donde la variable <q>vive</q> y puede ser usada o referenciada.\n",
    "El alcance puede ser:\n",
    "- **global**: Todo el código, o todo el notebook (desde donde se declaró la variable en adelante).\n",
    "- **local**: Alcance al bloque donde se define la variable.\n",
    "\n",
    "Los identificadores creados dentro del cuerpo tienen ámbito local.\n",
    "- Se puede forzar que usen el ámbito global con <kbd>global</kbd>."
   ]
  },
  {
   "cell_type": "code",
   "execution_count": 23,
   "metadata": {},
   "outputs": [
    {
     "name": "stdout",
     "output_type": "stream",
     "text": [
      "Dentro de la función  5\n",
      "Fuera de la función  10\n",
      "Dentro de la función  5\n",
      "Fuera de la función  5\n"
     ]
    }
   ],
   "source": [
    "'''\n",
    "La variable global y la local se llaman 'a' intencionadamente para \n",
    "ver cómo se puede forzar que en un caso sea una nueva variable y \n",
    "en el otro la global definida fuera.\n",
    "''' \n",
    "\n",
    "a = 10\n",
    "\n",
    "def sin_global():\n",
    "    a = 5    # esta 'a' es una variable local, distinta de la de arriba\n",
    "    print(\"Dentro de la función \", a)\n",
    "    \n",
    "def con_global():\n",
    "    global a # ahora sí es la misma\n",
    "    a = 5\n",
    "    print(\"Dentro de la función \", a)\n",
    "    \n",
    "sin_global()\n",
    "print(\"Fuera de la función \", a)\n",
    "con_global()\n",
    "print(\"Fuera de la función \", a) # ha cambiado la variable global"
   ]
  },
  {
   "cell_type": "markdown",
   "metadata": {},
   "source": [
    "## Funciones con parámetros por defecto\n",
    "\n",
    "Algo muy interesante en Python, es que las funciones pueden tener valores por defecto para sus parámetros. De este modo, algunos parámetros pueden tener un valor aunque el usuario no lo haya pasado en la invocación/llamada de la función.\n",
    "\n",
    "```Python\n",
    "def f (a, b=15, c=27):\n",
    "    ...\n",
    "```\n",
    "\n",
    "<span class=\"label label-danger\"><i class=\"fa fa-bomb\" aria-hidden=\"true\"></i> ¡Cuidado!</span>\n",
    "Si un parámetro tiene un valor por defecto, todos los parámetros definidos a continuación también deben tenerlo."
   ]
  },
  {
   "cell_type": "code",
   "execution_count": 24,
   "metadata": {},
   "outputs": [],
   "source": [
    "def potencia(base, exponente=2):\n",
    "    return base ** exponente"
   ]
  },
  {
   "cell_type": "code",
   "execution_count": 25,
   "metadata": {},
   "outputs": [
    {
     "name": "stdout",
     "output_type": "stream",
     "text": [
      "25\n",
      "25\n",
      "125\n"
     ]
    }
   ],
   "source": [
    "print(potencia(5))    # por defecto exponente = 2\n",
    "print(potencia(5, 2)) # así que esto es equivalente\n",
    "\n",
    "print(potencia(5, 3))"
   ]
  },
  {
   "cell_type": "code",
   "execution_count": 26,
   "metadata": {},
   "outputs": [
    {
     "name": "stdout",
     "output_type": "stream",
     "text": [
      "obligatorio op1 op2\n"
     ]
    }
   ],
   "source": [
    "def foo(obligatorio, opciona1 = \"op1\", opcional2 = \"op2\"):\n",
    "    print(obligatorio, opciona1, opcional2)\n",
    "\n",
    "foo(\"obligatorio\")"
   ]
  },
  {
   "cell_type": "markdown",
   "metadata": {},
   "source": [
    "<span class=\"label label-info\"><i class=\"fa fa-info-circle\" aria-hidden=\"true\"></i> Pregunta</span> ¿Qué crees que ocurrirá si se codifica lo siguiente?\n",
    "\n",
    "```Python\n",
    "def foo2(obligatorio, opciona1 = \"op1\", obligatorio2):\n",
    "    print(obligatorio, opciona1, opcional2)\n",
    "    \n",
    "foo2(\"obligatorio1\", opciona1 = \"op1\", \"obligatorio2\")\n",
    "```\n",
    "Devolverá el siguiente error.\n",
    "<pre>\n",
    "SyntaxError: non-default argument follows default argument\n",
    "</pre>\n"
   ]
  },
  {
   "cell_type": "code",
   "execution_count": 27,
   "metadata": {},
   "outputs": [
    {
     "name": "stdout",
     "output_type": "stream",
     "text": [
      "obligatorio1 op2 obligatorio2\n"
     ]
    }
   ],
   "source": [
    "def foo2(obligatorio, opcional1 = \"op1\", obligatorio2= \"ob2\"):\n",
    "    print(obligatorio, opcional1, obligatorio2)\n",
    "\n",
    "foo2(\"obligatorio1\", 'op2' ,\"obligatorio2\")"
   ]
  },
  {
   "cell_type": "markdown",
   "metadata": {},
   "source": [
    "## Retorno de valores\n",
    "\n",
    "En Python, a diferencia de otros lenguajes de programación, se puede devolver más de un valor. Tan sólo hay que separar cada uno de ellos por comas."
   ]
  },
  {
   "cell_type": "code",
   "execution_count": 28,
   "metadata": {},
   "outputs": [],
   "source": [
    "def multiple_return():\n",
    "    a = 10\n",
    "    b = 5\n",
    "    c = 2\n",
    "    # aquí puede haber tantas operaciones como se quiera\n",
    "    return a, b, c"
   ]
  },
  {
   "cell_type": "code",
   "execution_count": 29,
   "metadata": {},
   "outputs": [
    {
     "data": {
      "text/plain": [
       "(10, 5, 2)"
      ]
     },
     "execution_count": 29,
     "metadata": {},
     "output_type": "execute_result"
    }
   ],
   "source": [
    "multiple_return()"
   ]
  },
  {
   "cell_type": "markdown",
   "metadata": {},
   "source": [
    "Una cosa es el tipo que retorna la `function()` y otra el tipo de `function` en sí misma."
   ]
  },
  {
   "cell_type": "code",
   "execution_count": 30,
   "metadata": {},
   "outputs": [
    {
     "name": "stdout",
     "output_type": "stream",
     "text": [
      "<class 'tuple'>\n",
      "<class 'function'>\n"
     ]
    }
   ],
   "source": [
    "print(type(multiple_return()))\n",
    "print(type(multiple_return))"
   ]
  },
  {
   "cell_type": "markdown",
   "metadata": {},
   "source": [
    "**Nota:** En realidad lo que devuelve la función es un único objeto: una tupla. El contenido de la tupla está formado por todos los valores que se indicaron en el <kbd>return</kbd>."
   ]
  },
  {
   "cell_type": "markdown",
   "metadata": {},
   "source": [
    "# Librerias <a id=\"modules\"></a><a href=\"#index\"><i class=\"fa fa-list-alt\" aria-hidden=\"true\"></i></a>\n",
    "\n",
    "Hay multitud de funciones (ej: <kbd>print</kbd>) y clases (ej: <kbd>list</kbd>) definidas en el espacio de nombres de usuario (es decir, que están disponibles sin necesidad de importarlas explícitamente).\n",
    "\n",
    "## Carga de módulos\n",
    "Pero otras funciones no están en el espacio de nombre de usuario y hay que añadirlas. Se pueden añadir bibliotecas adicionales haciendo uso de la sentencia <kbd>import</kbd>.\n",
    "\n",
    "<span class=\"label label-info\"><i class=\"fa fa-info-circle\" aria-hidden=\"true\"></i> Nota</span> Los módulos están estructurados en paquetes. Ej: <kbd>sound.effects.surround.py</kbd> significa que el módulo <kbd>surround</kbd> está dentro del paquete <kbd>sound</kbd> en el subpaquete <kbd>effects</kbd>."
   ]
  },
  {
   "cell_type": "markdown",
   "metadata": {},
   "source": [
    "Se pueden importar los módulos de diversas maneras:\n",
    "\n",
    "- Importar elementos concretos con <kbd>from</kbd>. Queda accesible sin usar el nombre completo.\n",
    "\n",
    "    ```Python\n",
    "    from math import pi, sqrt\n",
    "    print(pi)\n",
    "    print(sqrt(9))\n",
    "    ```\n",
    "\n",
    "<span class=\"label label-info\"><i class=\"fa fa-info-circle\" aria-hidden=\"true\"></i> Nota</span> Se pueden renombrar los objetos importados usando la palabra reservada <kbd>as</kbd>.\n",
    "    ```Python\n",
    "    from math import sqrt as raiz_cuadrada\n",
    "    print(raiz_cuadrada(9))\n",
    "    ```\n",
    "- Importar todo el módulo. \n",
    "\n",
    "    ```Python\n",
    "    from math import *   \n",
    "    ```\n",
    "<span class=\"label label-warning\"><i class=\"fa fa-bomb\" aria-hidden=\"true\"></i> ¡Cuidado!</span> No recomendable, porque algunos nombres podrían estar ya en uso, así que es preferible no utilizarlo. <p>\n",
    "\n",
    "\n",
    "- Importar el módulo utilizando solo <kbd>import</kbd>, en este caso se debe usar el nombre completo (```math.objeto```) para acceder a las definiciones de ```math```.\n",
    "\n",
    "    ```Python\n",
    "    import math \n",
    "    print(math.pi)\n",
    "    ```"
   ]
  },
  {
   "cell_type": "markdown",
   "metadata": {},
   "source": [
    "## Creación de módulos\n",
    "Se puede crear un módulo simplemente creando un fichero con extensión <kbd>.py</kbd>.\n",
    "- Las definiciones de dicho fichero se pueden importar desde cualquier otro módulo del mismo directorio. O desde el módulo <kbd>main</kbd>.\n",
    "\n",
    "El módulo <kbd>main</kbd> es el conjunto de variables y funciones a las que se pueden acceder desde el intérprete.\n",
    "\n",
    "- A parte de definiciones de variables y definiciones de funciones, un módulo puede tener más código. Ese código solo se ejecuta una vez, al importarlo.\n",
    "\n",
    "- También se puede ejecutar un módulo como un programa. \n",
    "\n",
    "```Python\n",
    "if __name__ == \"__main__\":\n",
    "    import sys\n",
    "    factorial(int(sys.argv[1]))\n",
    "```\n",
    "\n",
    "Si el módulo en el que está este fragmento se ejecuta desde el intérprete, entonces se invocan las expresiones que estén dentro de ese <kbd>if</kbd>."
   ]
  },
  {
   "cell_type": "markdown",
   "metadata": {},
   "source": [
    "### Ejercicios de Autoevaluacion"
   ]
  },
  {
   "cell_type": "markdown",
   "metadata": {},
   "source": [
    "## Ejercicio 1\n",
    "\n",
    "Crear una función que calcule el número de [Fibonacci](https://en.wikipedia.org/wiki/Fibonacci_number) de la posición que se le pase.\n",
    "\n",
    "La sucesión de Fibonacci se calcula sumando los dos elementos previos, ej:\n",
    "- ```Fib(1) = 1```\n",
    "- ```Fib(2) = 1```\n",
    "- ```Fib(3) = 2```\n",
    "- ```Fib(4) = 3```\n",
    "- ```Fib(5) = 5```\n",
    "- ```Fib(6) = 8```\n",
    "- ```Fib(7) = 13```\n",
    "\n",
    "Este ejercicio se puede realizar de dos formas:\n",
    "- Mediante llamadas recursivas, es decir una función que se llame a sí misma.\n",
    "- Mediante bucles, no es tan directo pero es sencillo"
   ]
  },
  {
   "cell_type": "code",
   "execution_count": 31,
   "metadata": {},
   "outputs": [
    {
     "name": "stdout",
     "output_type": "stream",
     "text": [
      "0\n",
      "1\n",
      "1\n",
      "2\n",
      "3\n",
      "5\n",
      "8\n",
      "13\n",
      "21\n",
      "34\n",
      "55\n",
      "1 1 2 3 5 8 13 21 34 55 "
     ]
    }
   ],
   "source": [
    "def fibonacci(n = 1):\n",
    "    if n == 0:\n",
    "        return 0\n",
    "    elif n <= 2:\n",
    "        return 1\n",
    "    else:\n",
    "        return fibonacci(n-1) + fibonacci(n-2)\n",
    "    \n",
    "def fib(n):    # escribe la serie Fibonacci hasta n\n",
    "    a, b = 0, 1\n",
    "    counter = 0\n",
    "    while counter < n:\n",
    "        print(b, end=' ')\n",
    "        a, b = b, a+b\n",
    "        counter += 1\n",
    "    \n",
    "for i in range(11):\n",
    "    print(fibonacci(i))\n",
    "\n",
    "fib(10)"
   ]
  },
  {
   "cell_type": "markdown",
   "metadata": {},
   "source": [
    "### Ejercicio 2\n",
    "\n",
    "Escribir un programa que pida al usuario un número entero positivo mayor que 2 y muestre por pantalla si es un número primo o no.\n",
    "\n"
   ]
  },
  {
   "cell_type": "code",
   "execution_count": 32,
   "metadata": {},
   "outputs": [
    {
     "name": "stdout",
     "output_type": "stream",
     "text": [
      "El 2 es primo.\n",
      "El 3 es primo.\n",
      "El 4 NO es primo.\n",
      "El 5 es primo.\n",
      "El 6 NO es primo.\n",
      "El 7 es primo.\n",
      "El 8 NO es primo.\n",
      "El 9 NO es primo.\n",
      "El 10 NO es primo.\n",
      "El 11 es primo.\n",
      "El 12 NO es primo.\n",
      "El 13 es primo.\n",
      "El 14 NO es primo.\n",
      "El 15 NO es primo.\n",
      "El 16 NO es primo.\n",
      "El 17 es primo.\n",
      "El 18 NO es primo.\n",
      "El 19 es primo.\n"
     ]
    }
   ],
   "source": [
    "def es_primo(n = 2):\n",
    "    # Todo número primo es divisible solo por 1 y por sí mismo, por lo tanto se itera desde 2 hasta n\n",
    "    i = 2\n",
    "    while n % i != 0:\n",
    "        i += 1\n",
    "    if i == n:\n",
    "        print(f\"El {n} es primo.\")\n",
    "    else:\n",
    "        print(f\"El {n} NO es primo.\")\n",
    "\n",
    "numbers = range(2,20)\n",
    "for i in numbers:\n",
    "    es_primo(i)"
   ]
  },
  {
   "cell_type": "markdown",
   "metadata": {},
   "source": [
    "### Ejercicio 3\n",
    "Escribir un programa en el que se pregunte al usuario por una frase y una letra, y muestre por pantalla el número de veces que aparece la letra en la frase.(usa un bucle for no los metodos de strings)"
   ]
  },
  {
   "cell_type": "code",
   "execution_count": 33,
   "metadata": {},
   "outputs": [
    {
     "name": "stdout",
     "output_type": "stream",
     "text": [
      "La letra o está  2 veces en la frase 'Hola amigos'\n"
     ]
    }
   ],
   "source": [
    "while True:\n",
    "    frase = input(\"Ingrese una frase: \")\n",
    "    if len(frase) > 1:\n",
    "        break\n",
    "\n",
    "while True:\n",
    "    letra = input(\"Ingrese una letra: \")\n",
    "    if len(letra) == 1:\n",
    "        break\n",
    "\n",
    "counter = 0\n",
    "for i in frase:\n",
    "    if i == letra:\n",
    "        counter +=1\n",
    "# Aquí otra forma de imprimir string en formato, el '%2i' singinifica que se imprime un integer (i) y ocupa al menos 2 espacios\n",
    "# NOTA: Eso puede ser importante para alineación si lo que se imprime va a conformar una tabla\n",
    "print(\"La letra %s está %2i veces en la frase '%s'\" % (letra, counter, frase))"
   ]
  },
  {
   "cell_type": "markdown",
   "metadata": {},
   "source": [
    "### Ejercicio 4\n",
    "Escribir una función que reciba una muestra de números en una lista y devuelva un diccionario con su media, varianza y desviación típica."
   ]
  },
  {
   "cell_type": "code",
   "execution_count": 34,
   "metadata": {},
   "outputs": [
    {
     "name": "stdout",
     "output_type": "stream",
     "text": [
      "{'media': 3.0, 'varianza': 2.0, 'desviación típica': 1.4142135623730951}\n",
      "{'media': 8.700000000000001, 'varianza': 18.956666666666663, 'desviación típica': 4.353925431913902}\n"
     ]
    }
   ],
   "source": [
    "def statistics(lista):\n",
    "    stats = {}\n",
    "    stats['media'] = sum(lista)/len(lista)\n",
    "    stats[\"varianza\"] = sum([(x-stats['media'])**2 for x in lista])/len(lista)\n",
    "    stats[\"desviación típica\"] = stats['varianza']**0.5\n",
    "    \n",
    "    return stats\n",
    "\n",
    "print(statistics([1, 2, 3, 4, 5]))\n",
    "print(statistics([2.3, 5.7, 6.8, 9.7, 12.1, 15.6]))"
   ]
  },
  {
   "cell_type": "markdown",
   "metadata": {},
   "source": [
    "### Ejercicio 5\n",
    "Escribir un programa que reciba una cadena de caracteres y devuelva un diccionario con cada palabra que contiene y su frecuencia. Escribir otra función que reciba el diccionario generado con la función anterior y devuelva una tupla con la palabra más repetida y su frecuencia."
   ]
  },
  {
   "cell_type": "code",
   "execution_count": 35,
   "metadata": {},
   "outputs": [
    {
     "name": "stdout",
     "output_type": "stream",
     "text": [
      "None\n",
      "[('amor', 5), ('odio', 7)]\n"
     ]
    }
   ],
   "source": [
    "a = {'amor': 5, 'odio': 7}\n",
    "print(a.get('vida'))\n",
    "print(sorted(list(a.items())))"
   ]
  },
  {
   "cell_type": "code",
   "execution_count": 36,
   "metadata": {},
   "outputs": [
    {
     "name": "stdout",
     "output_type": "stream",
     "text": [
      "{'habia': 1, 'una': 1, 'vez': 1, 'un': 3, 'barquito': 2, 'chiquitito': 1, 'que': 1, 'no': 1, 'podia': 1, 'navegar': 1, 'pasaron': 2, 'dos': 2, 'tre': 1, 'cuatro': 2, 'cinco': 2, 'seis': 2, 'semanas': 2, 'tres': 1, 'y': 1, 'aquel': 1, 'navego': 1}\n",
      "('un', 3)\n"
     ]
    }
   ],
   "source": [
    "def contar_palabras(texto):\n",
    "    palabras = texto.split()\n",
    "    diccionario = {}\n",
    "    for palabra in palabras:\n",
    "        # Si la clave no existe, se crea\n",
    "        if not palabra in diccionario:\n",
    "            diccionario[palabra] = 1\n",
    "        else:\n",
    "            diccionario[palabra] += 1\n",
    "    return diccionario\n",
    "\n",
    "def encontrar_frecuente(dictionario):\n",
    "    keyMax = None\n",
    "    maxValue = 0\n",
    "    for key, value in dictionario.items():\n",
    "        if value > maxValue:\n",
    "            keyMax = key\n",
    "            maxValue = value\n",
    "    return keyMax, maxValue\n",
    "\n",
    "text = 'habia una vez un barquito chiquitito que no podia navegar pasaron un dos tre cuatro cinco seis semanas pasaron un dos tres cuatro cinco seis semanas y aquel barquito navego'\n",
    "palabras = contar_palabras(text)\n",
    "print(palabras)\n",
    "print(encontrar_frecuente(palabras))"
   ]
  },
  {
   "cell_type": "markdown",
   "metadata": {},
   "source": [
    "### Ejercicio 6 \n",
    "Excribe una funcion que transforme un numero binario en decimal - haciendo las transformaciones segun la posicion de cada cifra y sumando los resultados (no uses funciones internas de python)"
   ]
  },
  {
   "cell_type": "code",
   "execution_count": 37,
   "metadata": {},
   "outputs": [
    {
     "name": "stdout",
     "output_type": "stream",
     "text": [
      "20\n",
      "13017\n"
     ]
    }
   ],
   "source": [
    "def binary_to_decimal(bin):\n",
    "    return sum([(2**exp)*int(value) for exp, value in enumerate(str(bin)[::-1])])\n",
    "\n",
    "print(binary_to_decimal(10100))\n",
    "print(binary_to_decimal(11001011011001))"
   ]
  },
  {
   "cell_type": "markdown",
   "metadata": {},
   "source": [
    "### Ejercicio 7\n",
    "Escribir una función que calcule el máximo común divisor de dos números y otra que calcule el mínimo común múltiplo.\n"
   ]
  },
  {
   "cell_type": "code",
   "execution_count": 38,
   "metadata": {},
   "outputs": [
    {
     "name": "stdout",
     "output_type": "stream",
     "text": [
      "12\n",
      "72\n"
     ]
    }
   ],
   "source": [
    "def mcd(n1, n2):\n",
    "    menor = n1 if n1 < n2 else n2\n",
    "    maxDiv = 1\n",
    "    for i in range(2, menor+1):\n",
    "        if ((n1 % i == 0) and (n2 % i == 0) and (i > maxDiv)):\n",
    "            maxDiv = i\n",
    "    return maxDiv\n",
    "\n",
    "def mcm(n1, n2):\n",
    "    minMult = n2 if n2 > n1 else n1\n",
    "    while not(minMult % n1 == 0 and minMult % n2 == 0):\n",
    "        minMult += 1\n",
    "    return minMult\n",
    "\n",
    "print(mcd(24,36))\n",
    "print(mcm(24,36))\n"
   ]
  },
  {
   "cell_type": "code",
   "execution_count": 39,
   "metadata": {},
   "outputs": [
    {
     "name": "stdout",
     "output_type": "stream",
     "text": [
      "12\n",
      "72\n"
     ]
    }
   ],
   "source": [
    "# Este usa el algortimo de Euclides\n",
    "def mcd(n, m):\n",
    "    \"\"\"Función que calcula el máximo común divisor de dos números.\n",
    "    Parámetros:\n",
    "        - n: Es un número entero.\n",
    "        - m: Es un número entero.\n",
    "    Devuelve:\n",
    "        El máximo común divisor de n y m.\n",
    "    \"\"\"\n",
    "    rest = 0\n",
    "    while(m > 0):\n",
    "        rest = m\n",
    "        m = n % m\n",
    "        n = rest\n",
    "    return n\n",
    "\n",
    "def mcm(n, m):\n",
    "    \"\"\"Función que calcula el mínimo común múltiplo de dos números.\n",
    "    Parámetros:\n",
    "        - n: Es un número entero.\n",
    "        - m: Es un número entero.\n",
    "    Devuelve:\n",
    "        El mínimo común múltiplo de n y m.\n",
    "    \"\"\"\n",
    "    if n > m:\n",
    "        greater = n\n",
    "    else:\n",
    "        greater = m\n",
    "    while (greater % n != 0) or (greater % m != 0):\n",
    "        greater += 1\n",
    "    return greater\n",
    "\n",
    "print(mcd(24,36))\n",
    "print(mcm(24,36))"
   ]
  },
  {
   "cell_type": "markdown",
   "metadata": {},
   "source": [
    "### Ejercicio 8\n",
    "Usa el concepto de tupla para implementar matrices, por ejemplo \n",
    "a = ((1, 2, 3),\n",
    "     (4, 5, 6))\n",
    "b = ((-1, 0),\n",
    "     (0, 1),\n",
    "     (1,1))\n",
    "     \n",
    " representan una matriz a de 2x3 y una matriz b de 3x2. Implementa una funcion que calcule el producto de matrices para matrices de este tamaño-    "
   ]
  },
  {
   "cell_type": "code",
   "execution_count": 40,
   "metadata": {},
   "outputs": [
    {
     "name": "stdout",
     "output_type": "stream",
     "text": [
      "((2, 5), (2, 11))\n"
     ]
    }
   ],
   "source": [
    "a = ((1, 2, 3),\n",
    "     (4, 5, 6))\n",
    "\n",
    "b = ((-1, 0),\n",
    "     (0, 1),\n",
    "     (1,1))\n",
    "\n",
    "def matrix_mult(m1, m2):\n",
    "\n",
    "    columns = len(m1[0])\n",
    "    rows = len(m2)\n",
    "    if not (columns == rows):\n",
    "        print(\"No es posible multiplicar estas matrices.\")\n",
    "    else:\n",
    "        # Creamos la matriz\n",
    "        result = []\n",
    "        # Cantidad de filas de la matriz resultante\n",
    "        for i in range(len(m1)):\n",
    "            # Cantidad de columnas de la matriz resultante\n",
    "            result.append(([0 for j in range(len(m2[0]))]))\n",
    "        \n",
    "        # Llenamos la matriz con los valores\n",
    "        for i in range(len(m1)):\n",
    "            for j in range(len(m2[0])):\n",
    "                for k in range(rows):\n",
    "                    result[i][j] += m1[i][k]*m2[k][j]\n",
    "    \n",
    "    for i in range(len(result)):\n",
    "        result[i] = tuple(result[i])\n",
    "\n",
    "    return tuple(result)\n",
    "\n",
    "print(matrix_mult(a, b))"
   ]
  }
 ],
 "metadata": {
  "kernelspec": {
   "display_name": "dataScience",
   "language": "python",
   "name": "python3"
  },
  "language_info": {
   "codemirror_mode": {
    "name": "ipython",
    "version": 3
   },
   "file_extension": ".py",
   "mimetype": "text/x-python",
   "name": "python",
   "nbconvert_exporter": "python",
   "pygments_lexer": "ipython3",
   "version": "3.9.21"
  }
 },
 "nbformat": 4,
 "nbformat_minor": 2
}
