{
 "cells": [
  {
   "cell_type": "markdown",
   "metadata": {
    "slideshow": {
     "slide_type": "slide"
    }
   },
   "source": [
    "<a id=\"index\"></a>\n",
    "## Tabla de contenidos del notebook\n",
    "\n",
    "1. [Repaso de conceptos](#concepts)\n",
    "2. [Enteros y flotantes &mdash; datos numéricos](#nums)\n",
    "3. [Valores lógicos y comparaciones](#booleans)\n",
    "4. [Cadenas &mdash; datos textuales](#strings)\n"
   ]
  },
  {
   "cell_type": "markdown",
   "metadata": {
    "slideshow": {
     "slide_type": "slide"
    }
   },
   "source": [
    "# Repaso de conceptos <a id=\"concepts\"></a><a href=\"#index\"><i class=\"fa fa-list-alt\"></i></a>\n",
    "\n",
    "Se presupone que los alumnos de este curso tienen algún conocimiento previo de programación en otro lenguaje, con lo que los siguientes conceptos les deberían resultar familiares. Aunque más adelante se profundizará en algunos de ellos, a modo de repaso, se da aquí una breve definición:\n",
    "\n",
    "- **Lenguaje de programación**: lenguaje artificial de propósito limitado, que permite expresar cálculos y algoritmos.\n",
    "- **Algoritmo**: secuencia de pasos que permiten resolver un problema («receta» para la solución de un problema), normalmente combina la ejecución secuencial de algunos de los pasos, con la ejecución repetida de algunos de ellos, con la ejecución condicional dependiendo de alguna condición.\n",
    "- **Instrucción**: especificación de una acción que queremos que el ordenador lleve a cabo, por ejemplo, asignación de un valor a una variable, incremento de un valor, comparación de valores. Normalmente se corresponde con el paso de un algoritmo.\n",
    "- **Programa**: secuencia de instrucciones que permiten la solución de un problema, se corresponde con la implementación de un algoritmo en un lenguaje de programación que entienda el ordenador.\n",
    "- **Variable**: en un lenguaje de programación, una variable está formada por un espacio de almacenaje en memoria y un nombre simbólico (un _identificador_) que está asociado a dicho espacio. Ese espacio contiene una cantidad de información conocida o desconocida, es decir un _valor_. El nombre de la variable es la forma usual de referirse al valor almacenado. Esta separación entre nombre y contenido permite que el nombre sea usado independientemente de la información exacta que representa y del espacio de memoria donde se almacena. \n",
    "- **Variable contador**: variable cuyo contenido pasa por una secuencia de valores cada uno de los cuales es el valor anterior tras su incremento o decremento de una cantidad constante (normalmente el valor 1).\n",
    "- **Sentencia**: Instrucción de un lenguaje de programación cuya ejecución consigue un cambio de estado (cambio del valor de una variable, impresión por pantalla, ...).\n",
    "- **Operador**: Es el carácter (o caracteres) utilizados para representar las acciones de combinación de uno o más valores, por ejemplo `+` para representar la suma, o `**` para representar la potencia.\n",
    "- **Expresión**: Combinación de valores mediante operadores que da a lugar a un nuevo valor. Por ejemplo, la suma, diferencia, producto o división de los valores que se combinan.\n",
    "---\n",
    "\n",
    "- **Booleano**: Tipo especial de datos que puede tomar uno de dos posibles valores (`True` o `False`).\n",
    "- **Condición** o **expresión condicional**: Expresión que devuelve un valor lógico, un booleano (valor cierto o falso), y que puede utilizarse para controlarse el flujo de ejecución de las sentencias. Por ejemplo la comparación entre dos valores.\n",
    "- **Sentencia condicional**: Instrucción que tras evaluar una expresión condicional ejecuta o no una secuencia de sentencias, o bien ejecuta un conjunto entre dos conjuntos alternativos.\n",
    "- **Bucle** o **sentencia iterativa**: Instrucción que permite la ejecución repetitiva de una secuencia de instrucciones, el número de veces en que la secuencia se ejecuta se controla mediante una expresión condicional o depende del valor de una variable contador.\n",
    "- **Función**: Secuencia de instrucciones a las que se le da un nombre para que pueda ser reutilizada en diversas partes del programa. Una función puede devolver un valor y recibir como entrada varios valores.\n",
    "- **Llamar o invocar una función**: Utilizar el nombre de la función para ejecutar sus instrucciones.\n",
    "- **Parámetro o argumento**: Variable especial a través de la que una función puede recibir valores que utilizar en sus instrucciones. \n",
    "---\n",
    "\n",
    "- **Objeto**: Es una abstracción de algunos lenguajes de programación que permite agrupar en una única entidad los valores y atributos de un elemento de interés, asimismo agrupa la funcionalidad que permite modificar y acceder a estos valores. \n",
    "- **Clase**: Es una plantilla de construcción de objetos, define los métodos y atributos que tendrá los objetos que se definan por instanciación de la plantilla. \n",
    "- **Método**: Es un conjunto de acciones a las que se le asocia un nombre y que se utilizan para recuperar o modificar los valores almacenados en un objeto.\n",
    "- **Herencia**: Mecanismo en los lenguajes orientados a objetos que permite construir nuevas clases a partir de otras a las que se le añaden funcionalidad o datos."
   ]
  },
  {
   "cell_type": "markdown",
   "metadata": {
    "slideshow": {
     "slide_type": "slide"
    }
   },
   "source": [
    "# Enteros y flotantes/datos numéricos  <a id=\"nums\"></a><a href=\"#index\"><i class=\"fa fa-list-alt\" aria-hidden=\"true\"></i></a>\n",
    "\n",
    "El tipo más básico que podemos considerar son los datos numéricos. Para prácticamente cualquier tarea necesitamos \n",
    "hacer operaciones como contar ocurrencias o acumular magnitudes y valores. "
   ]
  },
  {
   "cell_type": "markdown",
   "metadata": {},
   "source": [
    "## Los tipos numéricos de Python <a href=\"#index\"><i class=\"fa fa-list-alt\"></i></a>"
   ]
  },
  {
   "cell_type": "code",
   "execution_count": 1,
   "metadata": {},
   "outputs": [
    {
     "name": "stdout",
     "output_type": "stream",
     "text": [
      "<class 'int'>\n",
      "<class 'float'>\n",
      "<class 'complex'>\n"
     ]
    }
   ],
   "source": [
    "# Todo lo que sigue al carácter # es un comentario y es ignorado por el interprete Python,\n",
    "\n",
    "'''\n",
    "Los comentarios de varias líneas se delimitan\n",
    "con triples comillas (simples o dobles).\n",
    "'''\n",
    "\n",
    "num = 4 # Usando el constructor sería: num = int(4)\n",
    "print(type(num)) # => <class 'int'>\n",
    "# La función type devuelve el tipo del valor almacenado en una variable.\n",
    "\n",
    "num = 3.14 # Usando el constructor sería: num = float(3.14)\n",
    "print(type(num)) # => <class 'float'>\n",
    "\n",
    "# Este tipo no es tan común en otros lenguajes\n",
    "num = 3j # 2 + 3j\n",
    "print(type(num)) # => <class 'complex'>"
   ]
  },
  {
   "cell_type": "code",
   "execution_count": 2,
   "metadata": {},
   "outputs": [
    {
     "data": {
      "text/plain": [
       "1.0"
      ]
     },
     "execution_count": 2,
     "metadata": {},
     "output_type": "execute_result"
    }
   ],
   "source": [
    "1**-1"
   ]
  },
  {
   "cell_type": "code",
   "execution_count": 3,
   "metadata": {},
   "outputs": [
    {
     "name": "stdout",
     "output_type": "stream",
     "text": [
      "<class 'complex'>\n",
      "(1+3j)\n",
      "3.0\n",
      "1.0\n",
      "<class 'float'>\n"
     ]
    }
   ],
   "source": [
    "num = 3j+1\n",
    "print(type(num)) # => <class 'complex'>\n",
    "print(num) # => (1+3j)\n",
    "print(num.imag) # => 3.0\n",
    "print(num.real) # => 1.0\n",
    "print(type(num.imag))"
   ]
  },
  {
   "cell_type": "markdown",
   "metadata": {},
   "source": [
    "## Operaciones aritméticas <a href=\"#index\"><i class=\"fa fa-list-alt\"></i></a>"
   ]
  },
  {
   "cell_type": "code",
   "execution_count": 4,
   "metadata": {},
   "outputs": [
    {
     "name": "stdout",
     "output_type": "stream",
     "text": [
      "1.5\n",
      "1\n"
     ]
    }
   ],
   "source": [
    "# Suma:            3 + 2\n",
    "# Resta:           3 - 2\n",
    "# Multiplicación:  3 * 2\n",
    "# División:        3 / 2\n",
    "# División entera: 3 // 2  \n",
    "# Resto:           3 % 2   \n",
    "# Potencia:        3 ** 2  \n",
    "# Raíz cuadrada:   3 ** (1/2)\n",
    "\n",
    "print(3 / 2)       # Devuelve 1.5 en Python 3, sin embargo, el resultado es 1 en Python 2\n",
    "print(3 // 2)      # Devuelve 1 tanto en Python 2 como en Python 3"
   ]
  },
  {
   "cell_type": "code",
   "execution_count": 5,
   "metadata": {},
   "outputs": [
    {
     "name": "stdout",
     "output_type": "stream",
     "text": [
      "3\n",
      "1\n",
      "0\n"
     ]
    }
   ],
   "source": [
    "print(13 % 5)      # => 3\n",
    "print(13 % 2)      # => 1, es una forma de comprobar que un número es impar\n",
    "print(14 % 2)      # => 0, si el resultado es cero, el número es par"
   ]
  },
  {
   "cell_type": "code",
   "execution_count": 6,
   "metadata": {},
   "outputs": [
    {
     "name": "stdout",
     "output_type": "stream",
     "text": [
      "16\n",
      "2.0\n",
      "7\n",
      "9\n"
     ]
    }
   ],
   "source": [
    "print(4 ** 2)      # => 16\n",
    "print(4 ** .5)     # => 2.0\n",
    "print(3 * 2 + 1)   # => 7 \n",
    "print(3 * (2 + 1)) # => 9 "
   ]
  },
  {
   "cell_type": "markdown",
   "metadata": {},
   "source": [
    "## Precedencias, incrementos y decrementos  <a href=\"#index\"><i class=\"fa fa-list-alt\"></i></a>\n",
    "\n",
    "Después de haber visto los resultados para el operador `**`, intenta anticiparte al resultado de la siguiente operación `2 ** 1 ** 4`"
   ]
  },
  {
   "cell_type": "code",
   "execution_count": 7,
   "metadata": {},
   "outputs": [
    {
     "name": "stdout",
     "output_type": "stream",
     "text": [
      "¡Sorpresa! el resultado es 2 en lugar de 16, pero ¿por qué?\n",
      "16\n"
     ]
    }
   ],
   "source": [
    "x = 2 ** 1 ** 4\n",
    "print(f'¡Sorpresa! el resultado es {x} en lugar de 16, pero ¿por qué?')\n",
    "print( (2 ** 1) ** 4 )"
   ]
  },
  {
   "cell_type": "markdown",
   "metadata": {},
   "source": [
    "¿Te atreves a anticipar el resultado de <span class=\"incode\">-1 &ast;&ast; .5</span>?"
   ]
  },
  {
   "cell_type": "code",
   "execution_count": 8,
   "metadata": {},
   "outputs": [
    {
     "name": "stdout",
     "output_type": "stream",
     "text": [
      "-1.0\n"
     ]
    }
   ],
   "source": [
    "# OJO\n",
    "num = -1 ** .5\n",
    "print(num) # => -1 WTF!"
   ]
  },
  {
   "cell_type": "code",
   "execution_count": 9,
   "metadata": {},
   "outputs": [
    {
     "name": "stdout",
     "output_type": "stream",
     "text": [
      "(6.123233995736766e-17+1j)\n",
      "-8\n",
      "-4\n",
      "4\n"
     ]
    }
   ],
   "source": [
    "num = (-1)**.5 \n",
    "print(num) # => (6.123233995736766e-17+1j)\n",
    "print(-2 ** 3) # => -8\n",
    "print(-2 ** 2) # => -4\n",
    "print((-2) ** 2) # => 4"
   ]
  },
  {
   "cell_type": "markdown",
   "metadata": {},
   "source": [
    "<div class=\"alert alert-danger\">\n",
    "   <i style=\"color: #a94442; font-size: larger\" class=\"fa fa-warning\" aria-hidden=\"true\"> <b>Conclusión:</b> Cuidado con las precedencias.\n",
    "</div>\n",
    "\n",
    "Las precedencias de los operadores definen el orden en el que tienen lugar las operaciones, de modo que los operadores más precedentes se aplican antes que los menos precedentes. Por eso el resultado de `1+2*3` es `7` y no `9`, como sucedería si el operador `+` fuera más precedente que el `*`."
   ]
  },
  {
   "cell_type": "code",
   "execution_count": 10,
   "metadata": {},
   "outputs": [
    {
     "name": "stdout",
     "output_type": "stream",
     "text": [
      "256\n"
     ]
    }
   ],
   "source": [
    "print(2 ** 2 ** 3)"
   ]
  },
  {
   "cell_type": "markdown",
   "metadata": {},
   "source": [
    "<button class=\"btn btn-primary label label-info\" style=\"display: inline-block; padding-top: .5em; margin-bottom: 2mm\" type=\"button\" data-toggle=\"collapse\" data-target=\"#collapseInfo00\">\n",
    "    <i class=\"fa fa-info-circle\" aria-hidden=\"true\"></i> Info\n",
    "</button>\n",
    "\n",
    "<div class=\"collapse\" id=\"collapseInfo00\">\n",
    "\n",
    "Si no tienes experiencia previa con otros lenguajes de programación, es posible que no te esperaras el resultado anterior y pensarás que el resultado tendría que haber sido `64`. Al fin y al cabo dos por dos son cuatro, y cuatro elevado a tres son 64. Si has pensado eso, te digo...\n",
    "\n",
    "<div class=\"alert alert-danger\">\n",
    "    <i style=\"color:rgb(216, 63, 60); font-size: larger\" class=\"fa fa-warning\" aria-hidden=\"true\"></i> Cuidado también con las <a href=\"https://es.wikipedia.org/wiki/Asociatividad_(%C3%A1lgebra)\">asociatividades</a>.\n",
    "</div>\n",
    "\n",
    "La asociatividad de un operador define sobre que operandos actuará cuando ese operando está también al lado de otro operador. Con la suma y el producto da lo mismo, dado que estos operadores tienen la [propiedad asociativa](https://definicion.de/propiedad-asociativa/) que hace que el resultado sea el mismo independientemente de la asociatividad que se utilice. Pero el operador de exponenciación, primero no tiene la propiedad asociativa, segundo es asociativa a derechas, no a izquierdas. Eso significa que un operando que aparezca entre dos exponenciaciones va a ser utilizado primero por el operador a su derecha. Por eso el resultado es `256`, porque `2**3` es `8` y `2` a la `8` es `256`.\n",
    "    \n",
    "</div>\n",
    "\n",
    "\n",
    "\n"
   ]
  },
  {
   "cell_type": "code",
   "execution_count": 11,
   "metadata": {},
   "outputs": [
    {
     "name": "stdout",
     "output_type": "stream",
     "text": [
      "2\n",
      "3\n",
      "30\n"
     ]
    }
   ],
   "source": [
    "num = 2\n",
    "print(num) # => 2\n",
    "num += 1\n",
    "print(num) # => 3\n",
    "num *= 10\n",
    "print(num) # => 30"
   ]
  },
  {
   "cell_type": "markdown",
   "metadata": {},
   "source": [
    "## Funciones matemáticas predefinidas  <a href=\"#index\"><i class=\"fa fa-list-alt\"></i></a>"
   ]
  },
  {
   "cell_type": "code",
   "execution_count": 12,
   "metadata": {},
   "outputs": [
    {
     "name": "stdout",
     "output_type": "stream",
     "text": [
      "3\n",
      "4\n",
      "4.0\n",
      "3.9\n",
      "30.0\n"
     ]
    }
   ],
   "source": [
    "# Valor absoluto y redondeo\n",
    "print(abs(-3)); print(round(3.86)) # varias sentencia en una línea separadas por `;`\n",
    "print(round(3.86, 0))\n",
    "print(round(3.86, 1)) \n",
    "# Los negativos en el 'ndigits' de round() redondean a la decena(-1), centena(-2), etc.\n",
    "print(round(30.86, -1)) "
   ]
  },
  {
   "cell_type": "markdown",
   "metadata": {},
   "source": [
    "<div class=\"alert alert-info\">\n",
    "   <i style=\"font-size: larger;\" class=\"fa fa-info-circle\" aria-hidden=\"true\"></i> Se puede utilizar el comando **help** para obtener ayuda sobre funciones.\n",
    "</div>\n"
   ]
  },
  {
   "cell_type": "code",
   "execution_count": 13,
   "metadata": {},
   "outputs": [
    {
     "name": "stdout",
     "output_type": "stream",
     "text": [
      "Help on built-in function round in module builtins:\n",
      "\n",
      "round(number, ndigits=None)\n",
      "    Round a number to a given precision in decimal digits.\n",
      "    \n",
      "    The return value is an integer if ndigits is omitted or None.  Otherwise\n",
      "    the return value has the same type as the number.  ndigits may be negative.\n",
      "\n"
     ]
    }
   ],
   "source": [
    "help(round)"
   ]
  },
  {
   "cell_type": "code",
   "execution_count": 14,
   "metadata": {},
   "outputs": [
    {
     "name": "stdout",
     "output_type": "stream",
     "text": [
      "(6.123233995736766e-17+1j)\n",
      "6.123233995736766e-17\n",
      "0.0\n"
     ]
    }
   ],
   "source": [
    "# Otra forma de hacer potencias es la función `pow`\n",
    "print(pow(-1, .5)) # => (6.123233995736766e-17+1j)\n",
    "print(pow(-1, .5).real)\n",
    "# Proceso para obtener el resultado correcto debido a la precisión de los números flotantes\n",
    "print(pow(-1, .5).real + 1.0 - 1.0)"
   ]
  },
  {
   "cell_type": "code",
   "execution_count": 15,
   "metadata": {},
   "outputs": [
    {
     "name": "stdout",
     "output_type": "stream",
     "text": [
      "8\n",
      "1\n"
     ]
    }
   ],
   "source": [
    "print(max(6,1,8))\n",
    "print(min(6,1,8))"
   ]
  },
  {
   "cell_type": "code",
   "execution_count": 16,
   "metadata": {},
   "outputs": [
    {
     "name": "stdout",
     "output_type": "stream",
     "text": [
      "Help on built-in function max in module builtins:\n",
      "\n",
      "max(...)\n",
      "    max(iterable, *[, default=obj, key=func]) -> value\n",
      "    max(arg1, arg2, *args, *[, key=func]) -> value\n",
      "    \n",
      "    With a single iterable argument, return its biggest item. The\n",
      "    default keyword-only argument specifies an object to return if\n",
      "    the provided iterable is empty.\n",
      "    With two or more arguments, return the largest argument.\n",
      "\n"
     ]
    }
   ],
   "source": [
    "help(max)"
   ]
  },
  {
   "cell_type": "code",
   "execution_count": 17,
   "metadata": {},
   "outputs": [
    {
     "data": {
      "text/plain": [
       "(1, 3)"
      ]
     },
     "execution_count": 17,
     "metadata": {},
     "output_type": "execute_result"
    }
   ],
   "source": [
    "# Si vamos a necesitar tanto el cociente entero como el resto podemos usar `divmod``\n",
    "divmod(8, 5) # El resultado es una TUPLA, un tipo de datos que veremos más adelante"
   ]
  },
  {
   "cell_type": "markdown",
   "metadata": {},
   "source": [
    "## Coerción de tipos  <a href=\"#index\"><i class=\"fa fa-list-alt\"></i></a>\n",
    "\n",
    "La <a class=\"concept\" href=\"http://diccionario.raing.es/es/lema/coerci%C3%B3n-de-tipos\">coerción de tipos</a> es la <q cite=\"http://diccionario.raing.es/es/lema/coerci%C3%B3n-de-tipos\">Característica de los lenguajes de programación que permite, implícita o explícitamente, convertir un elemento de un tipo de datos en otro, sin tener en cuenta la comprobación de tipos</q>."
   ]
  },
  {
   "cell_type": "code",
   "execution_count": 18,
   "metadata": {},
   "outputs": [
    {
     "name": "stdout",
     "output_type": "stream",
     "text": [
      "<class 'int'>\n",
      "<class 'str'>\n"
     ]
    },
    {
     "data": {
      "text/plain": [
       "'255'"
      ]
     },
     "execution_count": 18,
     "metadata": {},
     "output_type": "execute_result"
    }
   ],
   "source": [
    "num = 255\n",
    "print(type(num))\n",
    "num = str(num)\n",
    "print(type(num))\n",
    "num"
   ]
  },
  {
   "cell_type": "code",
   "execution_count": 19,
   "metadata": {},
   "outputs": [
    {
     "name": "stdout",
     "output_type": "stream",
     "text": [
      "2.0\n",
      "22\n",
      "22\n",
      "True\n",
      "True\n",
      "False\n"
     ]
    }
   ],
   "source": [
    "print(float(2))\n",
    "print(int(22.3))\n",
    "print(int(22.8))\n",
    "print(bool(2+3j))\n",
    "print(bool(4))\n",
    "print(bool(0))"
   ]
  },
  {
   "cell_type": "markdown",
   "metadata": {},
   "source": [
    "También hay funciones de conversión entre carácter y código ASCII."
   ]
  },
  {
   "cell_type": "code",
   "execution_count": 20,
   "metadata": {},
   "outputs": [
    {
     "name": "stdout",
     "output_type": "stream",
     "text": [
      "ord('a') = 97 de tipo <class 'int'>\n",
      "chr(97) = a de tipo <class 'str'>\n",
      "ñ\n",
      "32\n"
     ]
    }
   ],
   "source": [
    "print(f\"ord('a') = {ord('a')} de tipo {type(ord('a'))}\")\n",
    "print(f\"chr(97) = {chr(97)} de tipo {type(chr(97))}\")\n",
    "print(chr(ord('ñ')))\n",
    "print(ord(chr(32)))"
   ]
  },
  {
   "cell_type": "markdown",
   "metadata": {},
   "source": [
    "# Comparaciones y valores lógicos  <a id=\"booleans\"></a><a href=\"#index\"><i class=\"fa fa-list-alt\" aria-hidden=\"true\"></i></a>"
   ]
  },
  {
   "cell_type": "markdown",
   "metadata": {},
   "source": [
    "Comparar valores es fundamental en el control del flujo de ejecución: \n",
    "- la ejecución alternativa de sentencias, en las instrucciones condicionales\n",
    "- la ejecución repetitiva de sentencias, en los bucles\n",
    "\n",
    "Python tiene las comparaciones típicas de otros lenguajes de programación."
   ]
  },
  {
   "cell_type": "code",
   "execution_count": 21,
   "metadata": {},
   "outputs": [
    {
     "name": "stdout",
     "output_type": "stream",
     "text": [
      "False\n",
      "True\n",
      "True\n"
     ]
    }
   ],
   "source": [
    "# Igualdad:      3 == 2\n",
    "# Desigualdad:   3 != 2 (también con: not 3 == 2)\n",
    "# Mayor que:     3 >  2\n",
    "# Menor que:     3 <  2\n",
    "# Mayor o igual: 3 >= 2\n",
    "# Menor o igual: 3 <= 2\n",
    "print(3 == 2)\n",
    "print(3 != 2)\n",
    "print(3 > 2)"
   ]
  },
  {
   "cell_type": "markdown",
   "metadata": {},
   "source": [
    "Pero también otras no tan comunes en otros lenguajes."
   ]
  },
  {
   "cell_type": "code",
   "execution_count": 22,
   "metadata": {},
   "outputs": [
    {
     "data": {
      "text/plain": [
       "True"
      ]
     },
     "execution_count": 22,
     "metadata": {},
     "output_type": "execute_result"
    }
   ],
   "source": [
    "5 > 4 > 1 # secuencia decreciente"
   ]
  },
  {
   "cell_type": "code",
   "execution_count": 23,
   "metadata": {},
   "outputs": [
    {
     "data": {
      "text/plain": [
       "True"
      ]
     },
     "execution_count": 23,
     "metadata": {},
     "output_type": "execute_result"
    }
   ],
   "source": [
    "-5 < -4 < -1 # secuencia creciente"
   ]
  },
  {
   "cell_type": "markdown",
   "metadata": {},
   "source": [
    "Además las comparaciones pueden combinarse con los operadores lógicos `and`, `or`, `not`. "
   ]
  },
  {
   "cell_type": "code",
   "execution_count": 24,
   "metadata": {},
   "outputs": [
    {
     "name": "stdout",
     "output_type": "stream",
     "text": [
      "True\n",
      "False\n"
     ]
    }
   ],
   "source": [
    "val=18\n",
    "print(val>10 and val % 2 == 0)\n",
    "print((val % 5 == 1) or (val % 2 == 1))"
   ]
  },
  {
   "cell_type": "code",
   "execution_count": 25,
   "metadata": {},
   "outputs": [
    {
     "name": "stdout",
     "output_type": "stream",
     "text": [
      "False\n",
      "False\n",
      "False\n",
      "True\n",
      "True\n",
      "False\n"
     ]
    }
   ],
   "source": [
    "print(False and False)\n",
    "print(False and True)\n",
    "print(True and False)\n",
    "print(True and True)\n",
    "print(False or True)\n",
    "print(False or False)"
   ]
  },
  {
   "cell_type": "code",
   "execution_count": 26,
   "metadata": {},
   "outputs": [
    {
     "name": "stdout",
     "output_type": "stream",
     "text": [
      "False\n",
      "True\n"
     ]
    }
   ],
   "source": [
    "print(not True)\n",
    "print(not False)"
   ]
  },
  {
   "cell_type": "markdown",
   "metadata": {},
   "source": [
    "La evaluación de expresiones lógicas se hace en «cortocircuito», eso significa que en el momento en el que el valor de unos de los operandos nos permite conocer el valor de toda la expresión, no se siguen evaluando el resto de operandos."
   ]
  },
  {
   "cell_type": "code",
   "execution_count": 27,
   "metadata": {},
   "outputs": [
    {
     "data": {
      "text/plain": [
       "False"
      ]
     },
     "execution_count": 27,
     "metadata": {},
     "output_type": "execute_result"
    }
   ],
   "source": [
    "False and print(\"¡Sorpresa!\")"
   ]
  },
  {
   "cell_type": "code",
   "execution_count": 28,
   "metadata": {},
   "outputs": [
    {
     "name": "stdout",
     "output_type": "stream",
     "text": [
      "¡Sorpresa!\n"
     ]
    }
   ],
   "source": [
    "True and print(\"¡Sorpresa!\")"
   ]
  },
  {
   "cell_type": "code",
   "execution_count": 29,
   "metadata": {},
   "outputs": [
    {
     "name": "stdout",
     "output_type": "stream",
     "text": [
      "¡Sorpresa!\n"
     ]
    }
   ],
   "source": [
    "False or print(\"¡Sorpresa!\")"
   ]
  },
  {
   "cell_type": "code",
   "execution_count": 30,
   "metadata": {},
   "outputs": [
    {
     "data": {
      "text/plain": [
       "True"
      ]
     },
     "execution_count": 30,
     "metadata": {},
     "output_type": "execute_result"
    }
   ],
   "source": [
    "True or print(\"¡Sorpresa!\")"
   ]
  },
  {
   "cell_type": "markdown",
   "metadata": {},
   "source": [
    "<span class=\"label label-info\"><i class=\"fa fa-info-circle\" aria-hidden=\"true\"></i> Truco</span> Una comparación `and` sobre varios valores se puede hacer también con la función `all`."
   ]
  },
  {
   "cell_type": "code",
   "execution_count": 31,
   "metadata": {
    "scrolled": true
   },
   "outputs": [
    {
     "name": "stdout",
     "output_type": "stream",
     "text": [
      "True\n",
      "True\n"
     ]
    }
   ],
   "source": [
    "v1 = val>10\n",
    "v2 = val % 2 == 0\n",
    "v3 = True\n",
    "print(v1 and v2 and v3)\n",
    "print(all([v1, v2, v3])) # la secuencia [v1, v2, v3] es una lista, las listas se ven más adelante"
   ]
  },
  {
   "cell_type": "markdown",
   "metadata": {},
   "source": [
    "<span class=\"label label-info\"><i class=\"fa fa-info-circle\" aria-hidden=\"true\"></i> Truco</span> Una comparación `or` sobre varios valores se puede hacer también con la función `any`."
   ]
  },
  {
   "cell_type": "code",
   "execution_count": 32,
   "metadata": {
    "scrolled": true
   },
   "outputs": [
    {
     "name": "stdout",
     "output_type": "stream",
     "text": [
      "True\n",
      "True\n"
     ]
    }
   ],
   "source": [
    "v1 = val>10\n",
    "v2 = val % 2 == 0\n",
    "v3 = True\n",
    "print(v1 or v2 or v3)\n",
    "print(any([v1, v2, v3]))"
   ]
  },
  {
   "cell_type": "code",
   "execution_count": 33,
   "metadata": {},
   "outputs": [
    {
     "name": "stdout",
     "output_type": "stream",
     "text": [
      "False\n",
      "False\n"
     ]
    },
    {
     "data": {
      "text/plain": [
       "(False, False, False)"
      ]
     },
     "execution_count": 33,
     "metadata": {},
     "output_type": "execute_result"
    }
   ],
   "source": [
    "v1 = val % 5 == 1\n",
    "v2 = val % 2 == 1\n",
    "v3 = False\n",
    "print(v1 or v2 or v3)\n",
    "print(any([v1, v2, v3]))\n",
    "v1, v2, v3"
   ]
  },
  {
   "cell_type": "code",
   "execution_count": 34,
   "metadata": {},
   "outputs": [
    {
     "name": "stdout",
     "output_type": "stream",
     "text": [
      "True\n",
      "False\n",
      "False\n",
      "False\n",
      "False\n"
     ]
    }
   ],
   "source": [
    "print(all([True, True, True, True]))\n",
    "print(all([True, True, False, True]))\n",
    "print(any([False, False, False, False]))\n",
    "print(all([True, True, False, True]))\n",
    "# También se puede usar una tupla en lugar de una lista\n",
    "print(all((True, True, False, True)))"
   ]
  },
  {
   "cell_type": "markdown",
   "metadata": {},
   "source": [
    "## «Extrañas» comparaciones  <a href=\"#index\"><i class=\"fa fa-list-alt\"></i></a>\n",
    "\n",
    "Algunos resultados de comparaciones que de primeras te pueden sorprender, pero que si reflexionas un poco son bastante lógicos, ¿o no? "
   ]
  },
  {
   "cell_type": "code",
   "execution_count": 35,
   "metadata": {},
   "outputs": [
    {
     "name": "stdout",
     "output_type": "stream",
     "text": [
      "True True True True\n"
     ]
    }
   ],
   "source": [
    "print(int() == 0,\n",
    "      int(3.14) == int(3.999) == int(\"3\") == 3,\n",
    "      int(True) == 1,\n",
    "      int(False) == 0)"
   ]
  },
  {
   "cell_type": "code",
   "execution_count": 36,
   "metadata": {},
   "outputs": [
    {
     "data": {
      "text/plain": [
       "True"
      ]
     },
     "execution_count": 36,
     "metadata": {},
     "output_type": "execute_result"
    }
   ],
   "source": [
    "int(\"1111\", 2) == int(\"f\", 16) == int(\"17\", 8) == 15"
   ]
  },
  {
   "cell_type": "code",
   "execution_count": 37,
   "metadata": {},
   "outputs": [
    {
     "data": {
      "text/plain": [
       "True"
      ]
     },
     "execution_count": 37,
     "metadata": {},
     "output_type": "execute_result"
    }
   ],
   "source": [
    "float(True) == 1.0"
   ]
  },
  {
   "cell_type": "code",
   "execution_count": 38,
   "metadata": {},
   "outputs": [
    {
     "data": {
      "text/plain": [
       "True"
      ]
     },
     "execution_count": 38,
     "metadata": {},
     "output_type": "execute_result"
    }
   ],
   "source": [
    "float() == float(False) == 0.0"
   ]
  },
  {
   "cell_type": "code",
   "execution_count": 39,
   "metadata": {},
   "outputs": [
    {
     "data": {
      "text/plain": [
       "True"
      ]
     },
     "execution_count": 39,
     "metadata": {},
     "output_type": "execute_result"
    }
   ],
   "source": [
    "bool() == bool(0) == bool(0.0) == False"
   ]
  },
  {
   "cell_type": "code",
   "execution_count": 40,
   "metadata": {},
   "outputs": [
    {
     "data": {
      "text/plain": [
       "True"
      ]
     },
     "execution_count": 40,
     "metadata": {},
     "output_type": "execute_result"
    }
   ],
   "source": [
    "bool(1) == bool(0.32) == True"
   ]
  },
  {
   "cell_type": "code",
   "execution_count": 41,
   "metadata": {},
   "outputs": [
    {
     "data": {
      "text/plain": [
       "True"
      ]
     },
     "execution_count": 41,
     "metadata": {},
     "output_type": "execute_result"
    }
   ],
   "source": [
    "bool(\"False\") == True"
   ]
  },
  {
   "cell_type": "code",
   "execution_count": 42,
   "metadata": {},
   "outputs": [
    {
     "data": {
      "text/plain": [
       "True"
      ]
     },
     "execution_count": 42,
     "metadata": {},
     "output_type": "execute_result"
    }
   ],
   "source": [
    "x = '7'\n",
    "chr(ord(x)) == x"
   ]
  },
  {
   "cell_type": "code",
   "execution_count": 43,
   "metadata": {},
   "outputs": [
    {
     "data": {
      "text/plain": [
       "True"
      ]
     },
     "execution_count": 43,
     "metadata": {},
     "output_type": "execute_result"
    }
   ],
   "source": [
    "n = 12\n",
    "ord(chr(n)) == n"
   ]
  },
  {
   "cell_type": "code",
   "execution_count": 44,
   "metadata": {},
   "outputs": [
    {
     "data": {
      "text/plain": [
       "True"
      ]
     },
     "execution_count": 44,
     "metadata": {},
     "output_type": "execute_result"
    }
   ],
   "source": [
    "str(23.4) == '23.4'"
   ]
  },
  {
   "cell_type": "code",
   "execution_count": 45,
   "metadata": {},
   "outputs": [
    {
     "data": {
      "text/plain": [
       "True"
      ]
     },
     "execution_count": 45,
     "metadata": {},
     "output_type": "execute_result"
    }
   ],
   "source": [
    "str(False) == 'False'"
   ]
  },
  {
   "cell_type": "code",
   "execution_count": 46,
   "metadata": {},
   "outputs": [
    {
     "data": {
      "text/plain": [
       "True"
      ]
     },
     "execution_count": 46,
     "metadata": {},
     "output_type": "execute_result"
    }
   ],
   "source": [
    "bool(\"hola\") == True"
   ]
  },
  {
   "cell_type": "code",
   "execution_count": 47,
   "metadata": {},
   "outputs": [
    {
     "data": {
      "text/plain": [
       "True"
      ]
     },
     "execution_count": 47,
     "metadata": {},
     "output_type": "execute_result"
    }
   ],
   "source": [
    "bool(\"\") == False"
   ]
  },
  {
   "cell_type": "code",
   "execution_count": 48,
   "metadata": {},
   "outputs": [
    {
     "data": {
      "text/plain": [
       "True"
      ]
     },
     "execution_count": 48,
     "metadata": {},
     "output_type": "execute_result"
    }
   ],
   "source": [
    "bool(str(False)) == True"
   ]
  },
  {
   "cell_type": "code",
   "execution_count": 49,
   "metadata": {},
   "outputs": [
    {
     "data": {
      "text/plain": [
       "True"
      ]
     },
     "execution_count": 49,
     "metadata": {},
     "output_type": "execute_result"
    }
   ],
   "source": [
    "str(bool('False')) == 'True'"
   ]
  },
  {
   "cell_type": "code",
   "execution_count": 50,
   "metadata": {},
   "outputs": [
    {
     "data": {
      "text/plain": [
       "True"
      ]
     },
     "execution_count": 50,
     "metadata": {},
     "output_type": "execute_result"
    }
   ],
   "source": [
    "bool([]) == False"
   ]
  },
  {
   "cell_type": "code",
   "execution_count": 51,
   "metadata": {},
   "outputs": [
    {
     "data": {
      "text/plain": [
       "True"
      ]
     },
     "execution_count": 51,
     "metadata": {},
     "output_type": "execute_result"
    }
   ],
   "source": [
    "bool([False]) == True"
   ]
  },
  {
   "cell_type": "code",
   "execution_count": 52,
   "metadata": {},
   "outputs": [
    {
     "data": {
      "text/plain": [
       "True"
      ]
     },
     "execution_count": 52,
     "metadata": {},
     "output_type": "execute_result"
    }
   ],
   "source": [
    "bool([2, 4]) == True"
   ]
  },
  {
   "cell_type": "code",
   "execution_count": 53,
   "metadata": {},
   "outputs": [
    {
     "data": {
      "text/plain": [
       "True"
      ]
     },
     "execution_count": 53,
     "metadata": {},
     "output_type": "execute_result"
    }
   ],
   "source": [
    "True + True == 2"
   ]
  },
  {
   "cell_type": "code",
   "execution_count": 54,
   "metadata": {},
   "outputs": [
    {
     "data": {
      "text/plain": [
       "True"
      ]
     },
     "execution_count": 54,
     "metadata": {},
     "output_type": "execute_result"
    }
   ],
   "source": [
    "False + False == 0"
   ]
  },
  {
   "cell_type": "code",
   "execution_count": 55,
   "metadata": {},
   "outputs": [
    {
     "data": {
      "text/plain": [
       "True"
      ]
     },
     "execution_count": 55,
     "metadata": {},
     "output_type": "execute_result"
    }
   ],
   "source": [
    "True ** 2 == 1"
   ]
  },
  {
   "cell_type": "code",
   "execution_count": 56,
   "metadata": {},
   "outputs": [
    {
     "data": {
      "text/plain": [
       "True"
      ]
     },
     "execution_count": 56,
     "metadata": {},
     "output_type": "execute_result"
    }
   ],
   "source": [
    "a = 3\n",
    "(type(a) == type(a // 2)) == True"
   ]
  },
  {
   "cell_type": "code",
   "execution_count": 57,
   "metadata": {},
   "outputs": [
    {
     "data": {
      "text/plain": [
       "True"
      ]
     },
     "execution_count": 57,
     "metadata": {},
     "output_type": "execute_result"
    }
   ],
   "source": [
    "a = 3.0\n",
    "type(a) == type(a / 2) "
   ]
  },
  {
   "cell_type": "code",
   "execution_count": 58,
   "metadata": {},
   "outputs": [
    {
     "data": {
      "text/plain": [
       "False"
      ]
     },
     "execution_count": 58,
     "metadata": {},
     "output_type": "execute_result"
    }
   ],
   "source": [
    "a = 3\n",
    "type(a) == type(a / 2)"
   ]
  },
  {
   "cell_type": "markdown",
   "metadata": {},
   "source": [
    "# Cadenas/datos textuales   <a id=\"strings\"></a><a href=\"#index\"><i class=\"fa fa-list-alt\" aria-hidden=\"true\"></i></a>\n",
    "\n",
    "Las <a href=\"https://es.wikipedia.org/wiki/Cadena_de_caracteres\"><i class=\"concept\">cadenas</i></a> son el tipo de datos utilizado para las secuencias de caracteres, su sintaxis más habitual es la secuencia de caracteres delimitada por comillas simples `'` o dobles `\"`.\n"
   ]
  },
  {
   "cell_type": "markdown",
   "metadata": {},
   "source": [
    "## Ejemplos básicos  <a href=\"#index\"><i class=\"fa fa-list-alt\"></i></a>"
   ]
  },
  {
   "cell_type": "code",
   "execution_count": 59,
   "metadata": {},
   "outputs": [
    {
     "name": "stdout",
     "output_type": "stream",
     "text": [
      "¡Hola mundo!\n"
     ]
    }
   ],
   "source": [
    "mi_mensaje = '¡Hola mundo!' # ¡OJO! 'mi_mensaje' se prefiere a 'miMensaje' como nombre de variable que almacena el dato\n",
    "print(mi_mensaje)"
   ]
  },
  {
   "cell_type": "code",
   "execution_count": 62,
   "metadata": {},
   "outputs": [
    {
     "data": {
      "text/plain": [
       "\"aaaaaaah! se me ha 'colgado' el ordenador!\""
      ]
     },
     "execution_count": 62,
     "metadata": {},
     "output_type": "execute_result"
    }
   ],
   "source": [
    "# Los operadores `*` y `+` están sobrecargados para actuar también sobre cadenas\n",
    "\"a\" * 7 + \"h! se me ha 'colgado' el ordenador!\""
   ]
  },
  {
   "cell_type": "code",
   "execution_count": 63,
   "metadata": {},
   "outputs": [
    {
     "data": {
      "text/plain": [
       "'Hola mundo'"
      ]
     },
     "execution_count": 63,
     "metadata": {},
     "output_type": "execute_result"
    }
   ],
   "source": [
    "cad1 = \"Hola\"\n",
    "cad2 = \"mundo\"\n",
    "cad1 + \" \" + cad2"
   ]
  },
  {
   "cell_type": "code",
   "execution_count": 64,
   "metadata": {},
   "outputs": [
    {
     "name": "stdout",
     "output_type": "stream",
     "text": [
      "Juan dijo: \"Hola\"\n"
     ]
    }
   ],
   "source": [
    "# Se pueden combinar los dos tipos de comillas por comodidad.\n",
    "cadena = 'Juan dijo: \"Hola\"'\n",
    "print(cadena)"
   ]
  },
  {
   "cell_type": "code",
   "execution_count": 65,
   "metadata": {},
   "outputs": [
    {
     "name": "stdout",
     "output_type": "stream",
     "text": [
      "En un lugar\n",
      "de La Mancha de cuyo\n",
      "nombre no quiero acordarme vivía ...\n"
     ]
    }
   ],
   "source": [
    "# las cadenas multilínea se pueden usar también como comentarios multilínea\n",
    "mi_mensaje_largo = '''En un lugar\n",
    "de La Mancha de cuyo\n",
    "nombre no quiero acordarme vivía ...''' \n",
    "print(mi_mensaje_largo)"
   ]
  },
  {
   "cell_type": "markdown",
   "metadata": {},
   "source": [
    "<div style=\"with: 100%; border-top: 1px dashed red\">"
   ]
  },
  {
   "cell_type": "markdown",
   "metadata": {},
   "source": [
    "Antes de seguir con las cadenas,  es interesante hacer una pequeña digresión sobre los convenios a la hora de nombrar las variables. Como decía en el comentario de la primera celda de esta sección, en Python, por [motivos históricos](https://towardsdatascience.com/why-does-python-recommend-the-snake-case-nomenclature-bf908777c2dc), se prefiere `nombrar_las_variables_así`, a eso se le llama [snake case](https://en.wikipedia.org/wiki/Snake_case). Es decir, nos permite poner nombres de variables con más carga semántica, sustituyendo los espacios por caracteres de subrayadado (en inglés *underscore*). En otros lenguajes se prefiere `nombrarLasVariablesAsí`, a eso se le llama [*camel case*](https://es.wikipedia.org/wiki/Camel_case) o *pascal case*, si la primera palabra está también en mayúsculas. Estos no son los únicos convenios de nombrado de variables, en los lenguajes en los que el signo menos puede ser parte del nombre de variables, `pueden-nombrarse-las-variables-así`, a eso se le llama *kebab case* o *spinal case*. Más información sobre esto en esta entrada de la Wikipedia: [Convención de nombres](https://es.wikipedia.org/wiki/Convenci%C3%B3n_de_nombres_(programaci%C3%B3n))\n",
    "\n",
    "En realidad el nombrado de variables no es el único aspecto para el que puede haber ciertas reglas. Puede haber otras que nos digan como formatear otros elementos de la sintaxis del lenguaje. La ventaja de seguir estos conjuntos de reglas es que se facilita la lectura del código por otros programadores que estén habituados a las mismas reglas. Para Python este conjunto de reglas está recogido en el PEP-8, más información sobre el PEP-8 y otras guías de estilo, en los siguientes enlaces:\n",
    "- [PEP-8 — Style Guide for Python Code](https://www.python.org/dev/peps/pep-0008/).\n",
    "- [How to Write Beautiful Python Code With PEP 8](https://realpython.com/python-pep8/).\n",
    "- [Google Python Style Guide](https://google.github.io/styleguide/pyguide.html)."
   ]
  },
  {
   "cell_type": "markdown",
   "metadata": {},
   "source": [
    "<div style=\"with: 100%; border-top: 1px dashed red\">"
   ]
  },
  {
   "cell_type": "code",
   "execution_count": 69,
   "metadata": {
    "scrolled": true
   },
   "outputs": [
    {
     "name": "stdout",
     "output_type": "stream",
     "text": [
      "12\n",
      "¡\n",
      "!\n"
     ]
    }
   ],
   "source": [
    "print(len(mi_mensaje))\n",
    "print(mi_mensaje[0])  # en Python, los índices empiezan en 0\n",
    "print(mi_mensaje[11])\n",
    "#print(mi_mensaje[41]) # ¡OJO! esta da error, mi_mensaje no es tan largo"
   ]
  },
  {
   "cell_type": "markdown",
   "metadata": {},
   "source": [
    "## Métodos de cadenas  <a href=\"#index\"><i class=\"fa fa-list-alt\"></i></a>\n",
    "Los <em class=\"concept\">métodos</em> son porciones de funcionalidad a las que se les da un nombre y se asocia con un objeto. Un <em class=\"concept\">objeto</em> es una entidad de código que agrupa variables (atributos) y\n",
    "funcionalidad (métodos). Son una forma de obtener valores y hacer operaciones sobre elementos."
   ]
  },
  {
   "cell_type": "code",
   "execution_count": 76,
   "metadata": {},
   "outputs": [
    {
     "name": "stdout",
     "output_type": "stream",
     "text": [
      "En un lugar\n",
      "de La Mancha de cuyo\n",
      "nombre no quiero acordarme vivía ...\n"
     ]
    }
   ],
   "source": [
    "print(mi_mensaje_largo)"
   ]
  },
  {
   "cell_type": "code",
   "execution_count": 77,
   "metadata": {},
   "outputs": [
    {
     "name": "stdout",
     "output_type": "stream",
     "text": [
      "¡HOLA MUNDO!\n",
      "2\n"
     ]
    }
   ],
   "source": [
    "print(mi_mensaje.upper())\n",
    "print(mi_mensaje_largo.count(\"ar\"))"
   ]
  },
  {
   "cell_type": "code",
   "execution_count": 78,
   "metadata": {},
   "outputs": [
    {
     "name": "stdout",
     "output_type": "stream",
     "text": [
      "-1\n"
     ]
    }
   ],
   "source": [
    "print(mi_mensaje_largo.find(\"mancha\"))"
   ]
  },
  {
   "cell_type": "code",
   "execution_count": 97,
   "metadata": {},
   "outputs": [
    {
     "name": "stdout",
     "output_type": "stream",
     "text": [
      "En un lugar\n",
      "de La Mancha de cuyo\n",
      "nombre no quiero acordarme vivía ...\n"
     ]
    },
    {
     "data": {
      "text/plain": [
       "'n lugar\\nde La Man'"
      ]
     },
     "execution_count": 97,
     "metadata": {},
     "output_type": "execute_result"
    }
   ],
   "source": [
    "print(mi_mensaje_largo)\n",
    "# Recordar que índice empieza desde cero y el final no se incluye\n",
    "mi_mensaje_largo[4:21]"
   ]
  },
  {
   "cell_type": "code",
   "execution_count": 94,
   "metadata": {},
   "outputs": [
    {
     "name": "stdout",
     "output_type": "stream",
     "text": [
      "-1\n"
     ]
    }
   ],
   "source": [
    "print(mi_mensaje_largo.find(\"n\", 5, 20))"
   ]
  },
  {
   "cell_type": "code",
   "execution_count": 100,
   "metadata": {
    "scrolled": true
   },
   "outputs": [
    {
     "name": "stdout",
     "output_type": "stream",
     "text": [
      "18\n"
     ]
    },
    {
     "data": {
      "text/plain": [
       "'¡Buenos días mundo!'"
      ]
     },
     "execution_count": 100,
     "metadata": {},
     "output_type": "execute_result"
    }
   ],
   "source": [
    "print(mi_mensaje_largo.lower().find(\"mancha\"))\n",
    "mi_mensaje.replace(\"Hola\", \"Buenos días\")"
   ]
  },
  {
   "cell_type": "code",
   "execution_count": 99,
   "metadata": {},
   "outputs": [
    {
     "name": "stdout",
     "output_type": "stream",
     "text": [
      "¡Hola mundo!\n"
     ]
    }
   ],
   "source": [
    "print(mi_mensaje)"
   ]
  },
  {
   "cell_type": "markdown",
   "metadata": {},
   "source": [
    "<div class=\"alert alert-danger\">\n",
    "\n",
    "En realidad, muchos de los métodos de cadena, como el método `replace`, no modifican la cadena sobre la que se invoca, utilizan su valor para construir nuevas cadena que devuelven como resultado de su aplicación.\n",
    "\n",
    "</div> "
   ]
  },
  {
   "cell_type": "code",
   "execution_count": 101,
   "metadata": {},
   "outputs": [
    {
     "name": "stdout",
     "output_type": "stream",
     "text": [
      "¡Buenos días mundo!\n"
     ]
    }
   ],
   "source": [
    "mi_nuevo_mensaje = mi_mensaje.replace(\"Hola\", \"Buenos días\")\n",
    "print(mi_nuevo_mensaje)"
   ]
  },
  {
   "cell_type": "markdown",
   "metadata": {},
   "source": [
    "## Rebanado de cadenas (<em class=\"concept\">String slicing</em>) <a href=\"#index\"><i class=\"fa fa-list-alt\"></i></a>\n",
    "\n",
    "El <em class=\"concept\">rebanado de cadenas</em> (aplicable también a las listas que se verán más adelante, así que en realidad debería hablarse de rebanado de secuencias) consiste en obtener una subcadena utilizando los índices de inicio y fin de la porción que quiere extraerse; adicionalmente se puede indicar un paso para extraer una subsecuencia. "
   ]
  },
  {
   "cell_type": "code",
   "execution_count": 102,
   "metadata": {},
   "outputs": [
    {
     "data": {
      "text/plain": [
       "'¡Hola mundo!'"
      ]
     },
     "execution_count": 102,
     "metadata": {},
     "output_type": "execute_result"
    }
   ],
   "source": [
    "mi_mensaje"
   ]
  },
  {
   "cell_type": "code",
   "execution_count": 103,
   "metadata": {},
   "outputs": [
    {
     "name": "stdout",
     "output_type": "stream",
     "text": [
      "a mun\n"
     ]
    }
   ],
   "source": [
    "print(mi_mensaje[4:9]) "
   ]
  },
  {
   "cell_type": "code",
   "execution_count": 104,
   "metadata": {},
   "outputs": [
    {
     "data": {
      "text/plain": [
       "'En un lugar\\nde La Mancha de cuyo\\nnombre no quiero acordarme vivía ...'"
      ]
     },
     "execution_count": 104,
     "metadata": {},
     "output_type": "execute_result"
    }
   ],
   "source": [
    "mi_mensaje_largo"
   ]
  },
  {
   "cell_type": "code",
   "execution_count": 105,
   "metadata": {},
   "outputs": [
    {
     "name": "stdout",
     "output_type": "stream",
     "text": [
      "uladLMc  ynb  iocdm\n"
     ]
    }
   ],
   "source": [
    "inicio = 3\n",
    "fin = 60\n",
    "paso = 3\n",
    "print(mi_mensaje_largo[inicio:fin:paso])"
   ]
  },
  {
   "cell_type": "markdown",
   "metadata": {},
   "source": [
    "Se pueden omitir los índices del inicio, del final o ambos."
   ]
  },
  {
   "cell_type": "code",
   "execution_count": 106,
   "metadata": {},
   "outputs": [
    {
     "name": "stdout",
     "output_type": "stream",
     "text": [
      "0123456\n",
      "0123456\n"
     ]
    }
   ],
   "source": [
    "dígitos = \"0123456789\"\n",
    "print(dígitos[0:7])\n",
    "print(dígitos[:7])"
   ]
  },
  {
   "cell_type": "code",
   "execution_count": 111,
   "metadata": {},
   "outputs": [
    {
     "name": "stdout",
     "output_type": "stream",
     "text": [
      "456789\n",
      "0123\n",
      "0123456789\n"
     ]
    }
   ],
   "source": [
    "print(f'{dígitos[4:]}\\n{dígitos[:4]}\\n{dígitos[:]}')"
   ]
  },
  {
   "cell_type": "markdown",
   "metadata": {},
   "source": [
    "También se pueden utilizar índices y pasos negativos."
   ]
  },
  {
   "cell_type": "code",
   "execution_count": 112,
   "metadata": {},
   "outputs": [
    {
     "data": {
      "text/plain": [
       "'9'"
      ]
     },
     "execution_count": 112,
     "metadata": {},
     "output_type": "execute_result"
    }
   ],
   "source": [
    "dígitos[-1]"
   ]
  },
  {
   "cell_type": "code",
   "execution_count": 113,
   "metadata": {},
   "outputs": [
    {
     "data": {
      "text/plain": [
       "'8'"
      ]
     },
     "execution_count": 113,
     "metadata": {},
     "output_type": "execute_result"
    }
   ],
   "source": [
    "dígitos[-2]"
   ]
  },
  {
   "cell_type": "code",
   "execution_count": 114,
   "metadata": {},
   "outputs": [
    {
     "data": {
      "text/plain": [
       "'012345678'"
      ]
     },
     "execution_count": 114,
     "metadata": {},
     "output_type": "execute_result"
    }
   ],
   "source": [
    "dígitos[:-1]"
   ]
  },
  {
   "cell_type": "code",
   "execution_count": 115,
   "metadata": {},
   "outputs": [
    {
     "data": {
      "text/plain": [
       "'34567'"
      ]
     },
     "execution_count": 115,
     "metadata": {},
     "output_type": "execute_result"
    }
   ],
   "source": [
    "dígitos[3:-2]"
   ]
  },
  {
   "cell_type": "code",
   "execution_count": 116,
   "metadata": {},
   "outputs": [
    {
     "data": {
      "text/plain": [
       "''"
      ]
     },
     "execution_count": 116,
     "metadata": {},
     "output_type": "execute_result"
    }
   ],
   "source": [
    "dígitos[7:3]"
   ]
  },
  {
   "cell_type": "code",
   "execution_count": 117,
   "metadata": {},
   "outputs": [
    {
     "data": {
      "text/plain": [
       "'7654'"
      ]
     },
     "execution_count": 117,
     "metadata": {},
     "output_type": "execute_result"
    }
   ],
   "source": [
    "dígitos[7:3:-1]"
   ]
  },
  {
   "cell_type": "code",
   "execution_count": 118,
   "metadata": {},
   "outputs": [
    {
     "data": {
      "text/plain": [
       "''"
      ]
     },
     "execution_count": 118,
     "metadata": {},
     "output_type": "execute_result"
    }
   ],
   "source": [
    "dígitos[3:7:-1]"
   ]
  },
  {
   "cell_type": "code",
   "execution_count": 119,
   "metadata": {},
   "outputs": [
    {
     "name": "stdout",
     "output_type": "stream",
     "text": [
      "0123456789\n"
     ]
    },
    {
     "data": {
      "text/plain": [
       "'87654'"
      ]
     },
     "execution_count": 119,
     "metadata": {},
     "output_type": "execute_result"
    }
   ],
   "source": [
    "print(dígitos)\n",
    "dígitos[-2:3:-1]"
   ]
  },
  {
   "cell_type": "code",
   "execution_count": 120,
   "metadata": {},
   "outputs": [
    {
     "data": {
      "text/plain": [
       "'9876543210'"
      ]
     },
     "execution_count": 120,
     "metadata": {},
     "output_type": "execute_result"
    }
   ],
   "source": [
    "dígitos[::-1] # Esto sería una forma de obtener la cadena inversa"
   ]
  },
  {
   "cell_type": "markdown",
   "metadata": {},
   "source": [
    "### Ejercicios de Autoevaluación"
   ]
  },
  {
   "cell_type": "markdown",
   "metadata": {},
   "source": [
    "### Ejercicio 1\n",
    "Los teléfonos de una empresa tienen el siguiente formato prefijo-número-extension donde el prefijo es el código del país +34, y la extensión tiene dos dígitos (por ejemplo +34-913724710-56). Escribir un programa que pregunte por un número de teléfono con este formato y muestre por pantalla el número de teléfono sin el prefijo y la extensión."
   ]
  },
  {
   "cell_type": "code",
   "execution_count": 127,
   "metadata": {},
   "outputs": [
    {
     "name": "stdout",
     "output_type": "stream",
     "text": [
      "913724710\n"
     ]
    }
   ],
   "source": [
    "tel = input(\"Introduce un número de teléfono con el formato +xx-xxxxxxxxx-xx: \")\n",
    "print(tel[ tel.find('-') + 1 : tel.find('-', tel.find('-') + 1)])"
   ]
  },
  {
   "cell_type": "markdown",
   "metadata": {},
   "source": [
    "### Ejercicio 2\n",
    "Escribir un programa que pida al usuario que introduzca una frase en la consola y una vocal, y después muestre por pantalla la misma frase pero con la vocal introducida en mayúscula."
   ]
  },
  {
   "cell_type": "code",
   "execution_count": 130,
   "metadata": {},
   "outputs": [
    {
     "name": "stdout",
     "output_type": "stream",
     "text": [
      "Hola mundo\n",
      "HOla mundO\n"
     ]
    }
   ],
   "source": [
    "frase = input(\"Introduce una frase: \")\n",
    "vocal = input(\"Introduce una vocal en minúscula:  \")\n",
    "print(frase)\n",
    "print(frase.replace(vocal, vocal.upper()))"
   ]
  },
  {
   "cell_type": "markdown",
   "metadata": {},
   "source": [
    "### Ejercicio 3\n",
    "Escribe un código que, mediante el uso de una variable de tipo lógico (bool), determine si una empresa es micro, según los estándares de la UE. Dichos estándares establecen que toda empresa que cuenta con menos de 10 empleados y una facturación por debajo de los 2 millones de euros o bien con un balance inferior a los 2 millones de euros, es una microempresa. Haz los cálculos que permiten saber si una empresa de 20 empleados, 18 millones de euros de facturación y 5 millones de euros de balance es una micro empresa y almacena el valor en una variable lógica."
   ]
  },
  {
   "cell_type": "code",
   "execution_count": 135,
   "metadata": {},
   "outputs": [
    {
     "name": "stdout",
     "output_type": "stream",
     "text": [
      "False\n",
      "<class 'bool'>\n"
     ]
    }
   ],
   "source": [
    "class Empresa:\n",
    "    def __init__(self, empleados, facturacion, balance):\n",
    "        self.empleados = empleados\n",
    "        self.facturacion = facturacion\n",
    "        self.balance = balance\n",
    "    def es_microempresa(self):\n",
    "        return (self.empleados < 10 and self.facturacion < 2) or \\\n",
    "               self.balance < 2\n",
    "\n",
    "\n",
    "empleados = 20\n",
    "facturacion = 18 # MEuros\n",
    "balance = 5 # MEuros\n",
    "\n",
    "empresa = Empresa(empleados, facturacion, balance)\n",
    "boolean_value = empresa.es_microempresa()\n",
    "print(boolean_value)\n",
    "print(type(boolean_value))"
   ]
  },
  {
   "cell_type": "markdown",
   "metadata": {},
   "source": [
    "### Ejercicio 4\n",
    "Calcular los ceros de una parábola.\n",
    "\n",
    "Dados los valores $a$, $b$, $c$ de un polinomio de segundo grado: $ax^2+bx+c$, encontrar los valores de $x$ para los que el polinomio se evalúa a cero: \n",
    "$$x=\\frac{-b\\pm\\sqrt{b^2-4ac}}{2a}$$"
   ]
  },
  {
   "cell_type": "code",
   "execution_count": 137,
   "metadata": {},
   "outputs": [
    {
     "name": "stdout",
     "output_type": "stream",
     "text": [
      "0.3660254037844386\n",
      "-1.3660254037844386\n"
     ]
    }
   ],
   "source": [
    "a = 2\n",
    "b = 2\n",
    "c = -1\n",
    "\n",
    "x = (-b + (b**2 - 4*a*c)**0.5)/(2*a)\n",
    "print(x)\n",
    "x = (-b - (b**2 - 4*a*c)**0.5)/(2*a)\n",
    "print(x)"
   ]
  },
  {
   "cell_type": "markdown",
   "metadata": {},
   "source": [
    "### Ejercicio 5\n",
    "\n",
    "Diseña un programa que pide el numero de segundos y detalle cuantos dias, horas minutos y segundos son. Por ejemplo 3600 segundo son 0 dias 1 hora 0 minutos y 0 segundos, o 86401 segundos son 1 dia 0 horas 0 minutos y 1 segundo.\n"
   ]
  },
  {
   "cell_type": "code",
   "execution_count": 145,
   "metadata": {},
   "outputs": [
    {
     "name": "stdout",
     "output_type": "stream",
     "text": [
      "985749 días, 23 horas, 35 minutos y 46 segundos\n"
     ]
    }
   ],
   "source": [
    "segundos = int(input(\"Introduce un número de segundos: \"))\n",
    "dias = segundos // (24 * 3600)\n",
    "horas = segundos % (24 * 3600) // 3600\n",
    "minutos = segundos % 3600 // 60\n",
    "segundos = segundos % 60\n",
    "print(f\"{dias} días, {horas} horas, {minutos} minutos y {segundos} segundos\")\n",
    "\n",
    "\n",
    "# Otras soluciones\n",
    "# segundos = int(input(\"Escriba la cantidad de segundos: \"))\n",
    "# dias = segundos // (24 * 60 * 60)\n",
    "# horas = (segundos - (dias*24*60*60)) // (60 * 60)\n",
    "# minutos = (segundos - (dias*24 + horas)*60*60) // 60\n",
    "# segundos = (segundos - (dias*24*60 + horas*60 + minutos)*60)\n",
    "# print(f\"{dias} días, {horas} horas, {minutos} minutos y {segundos} segundos\")\n",
    "\n",
    "\n",
    "# segundos = int(input(\"Escriba la cantidad de segundos: \"))\n",
    "# dias = segundos // (24 * 60 * 60)\n",
    "# segundos = segundos % (24 * 60 * 60)\n",
    "# horas = segundos // (60 * 60)\n",
    "# segundos = segundos % (60 * 60)\n",
    "# minutos = segundos // 60\n",
    "# segundos = segundos % 60\n",
    "\n",
    "# print(dias)\n",
    "# print(horas)\n",
    "# print(minutos)\n",
    "# print(segundos)"
   ]
  },
  {
   "cell_type": "markdown",
   "metadata": {},
   "source": [
    "### Ejercicio 6\n",
    "Diseña un programa que pida dos puntos bidimensionales (a1,b1) y (a2,b2) y calcule su punto medio."
   ]
  },
  {
   "cell_type": "code",
   "execution_count": 149,
   "metadata": {},
   "outputs": [
    {
     "name": "stdout",
     "output_type": "stream",
     "text": [
      "Ingrese las coordenadas de dos puntos para encontrar el punto medio entre ellos\n",
      "El punto medio entre (4.1, 4.59) y (7.1, 1.2) es (5.6, 2.895)\n"
     ]
    }
   ],
   "source": [
    "print(\"Ingrese las coordenadas de dos puntos para encontrar el punto medio entre ellos\")\n",
    "x1 = float(input(\"Introduce la coordenada x del primer punto: \"))\n",
    "y1 = float(input(\"Introduce la coordenada y del primer punto: \"))\n",
    "x2 = float(input(\"Introduce la coordenada x del segundo punto: \"))\n",
    "y2 = float(input(\"Introduce la coordenada y del segundo punto: \"))\n",
    "# Calculamos el punto medio\n",
    "xm, ym = (x1 + x2) / 2, (y1 + y2) / 2\n",
    "print(f\"El punto medio entre {x1,y1} y {x2,y2} es ({xm}, {ym})\")"
   ]
  },
  {
   "cell_type": "markdown",
   "metadata": {},
   "source": [
    "### Ejercicio 7\n",
    "Escribe un codigo que solicite una cadena y que sustituya todas las ocurrencias del primer caracter por la letra X, MENOS la primera ocurrencia del caracter. Ejemplo: Si la entrada es \"restart\" la salida sera \"restaXt\". El primer caracter, en este caso la r no se sustituye."
   ]
  },
  {
   "cell_type": "code",
   "execution_count": 150,
   "metadata": {},
   "outputs": [
    {
     "name": "stdout",
     "output_type": "stream",
     "text": [
      "restaXt\n",
      "restaXt\n"
     ]
    }
   ],
   "source": [
    "string = input(\"Introduce una cadena de texto: \")\n",
    "new_string = string[0] + string[1:].replace(string[0], 'X')\n",
    "print(new_string)"
   ]
  },
  {
   "cell_type": "markdown",
   "metadata": {},
   "source": [
    "### Ejercicio 8\n",
    "Los puntos y los comas se usan de forma distinta para los números segun el país. Por ejemplo en España se escribiria 3.125,22 \"tres mil ciento veintico con veintidos\" mientras que en otros paises como Estados Unidos se escribira \"3,125.22\". Asumiendo cifras que siempre tienen dos decimales (se indicaria ,00 en caso de no decimanles) escribe un programa que dado un valor escrito en formato español lo traduza a formato norteamericano. Ejemplo test=\"3.125,22\" seria \"3,125.22\". Recuerda siempre habra dos decimales\n"
   ]
  },
  {
   "cell_type": "code",
   "execution_count": 153,
   "metadata": {},
   "outputs": [
    {
     "name": "stdout",
     "output_type": "stream",
     "text": [
      "3,125.22\n"
     ]
    }
   ],
   "source": [
    "test = \"3.125,22\"\n",
    "print(test[:-3].replace(\".\", \",\") + test[-3:].replace(\",\", \".\"))"
   ]
  },
  {
   "cell_type": "markdown",
   "metadata": {},
   "source": [
    "### Ejercicio 9\n",
    "Escribe un programa que solicite dos cadenas (que tendran una longitud de 3 como minimo) y que imprima esas cadenas intercambiando los dos pirmeros caracteres entre ellas. Ejemplo: Sample String : 'abc', 'xyz' Expected Result : 'xyc abz'"
   ]
  },
  {
   "cell_type": "code",
   "execution_count": 158,
   "metadata": {},
   "outputs": [
    {
     "name": "stdout",
     "output_type": "stream",
     "text": [
      "xyc abz\n"
     ]
    }
   ],
   "source": [
    "a = \"abc\"\n",
    "b = \"xyz\"\n",
    "print(b[:2]+a[2:], a[:2]+b[2:])    "
   ]
  }
 ],
 "metadata": {
  "kernelspec": {
   "display_name": "dataScience",
   "language": "python",
   "name": "python3"
  },
  "language_info": {
   "codemirror_mode": {
    "name": "ipython",
    "version": 3
   },
   "file_extension": ".py",
   "mimetype": "text/x-python",
   "name": "python",
   "nbconvert_exporter": "python",
   "pygments_lexer": "ipython3",
   "version": "3.9.21"
  }
 },
 "nbformat": 4,
 "nbformat_minor": 2
}
