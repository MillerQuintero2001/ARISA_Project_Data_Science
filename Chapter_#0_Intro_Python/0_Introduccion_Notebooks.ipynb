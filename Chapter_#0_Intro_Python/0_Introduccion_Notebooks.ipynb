{
 "cells": [
  {
   "cell_type": "markdown",
   "metadata": {
    "nbpresent": {
     "id": "b8300535-6e4c-460b-b499-7db5c12d363e"
    },
    "slideshow": {
     "slide_type": "subslide"
    }
   },
   "source": [
    "## Tabla de contenidos del notebook <a id=\"index\"></a>\n",
    "\n",
    "1. [Python](#python)\n",
    "2. [Descarga e instalación](#download)\n",
    "3. [Primeros ejemplos](#ejes)\n",
    "4. [Cuadernos Jupyter](#notebooks)\n",
    "5. [Markdown, LaTeX y HTML](#markdown)\n",
    "6. [Referencias](#references)"
   ]
  },
  {
   "cell_type": "markdown",
   "metadata": {
    "nbpresent": {
     "id": "57e2b216-f721-4b20-b9d6-2117cd151dcb"
    },
    "slideshow": {
     "slide_type": "slide"
    }
   },
   "source": [
    "# Python <a id=\"python\"></a>&nbsp;&nbsp;<a href=\"#index\"><i class=\"fa fa-list-alt\" aria-hidden=\"true\"></i></a>\n",
    "\n",
    "Creado a finales de los ochenta por <a href=\"https://es.wikipedia.org/wiki/Guido_van_Rossum\">Guido van Rossum</a>, Python es un lenguaje de programación de alto nivel, moderno, robusto, interpretado, **muy potente y ampliamente utilizado**. Dispone estructuras de datos eficientes y de alto nivel así como de un enfoque simple para programación orientada a objetos."
   ]
  },
  {
   "cell_type": "markdown",
   "metadata": {
    "nbpresent": {
     "id": "fc47db58-1081-4763-885b-2f6f61beaa25"
    },
    "slideshow": {
     "slide_type": "subslide"
    }
   },
   "source": [
    "A diferencia de otros lenguajes tradicionales, como C, Python tiene algunas ventajas:\n",
    "\n",
    "- Es interpretado: no es necesaria una compilación para poder ejecutar el código programado.\n",
    "- Sintaxis simple y eficiente que permite realizar operaciones complejas con poco código y que hace que sea un <b>lenguaje fácil de aprender</b>, incluso para las personas que no han programado previamente.\n",
    "- **Multitud de bibliotecas disponibles**: computación científica, servicios web, juegos, procesamiento de lenguaje, dibujo, minería de datos, aprendizaje automático, deep learning, interfaces gráficas, etcétera.\n",
    "- Tipado dinámico: no es necesario definir el tipo de una variable. Puede verse como una desventaja porque puede producir errores en ejecución.\n",
    "- Permite utilizar <b>varios paradigmas de programación</b> como: [la orientación a objetos](https://es.wikipedia.org/wiki/Programaci%C3%B3n_orientada_a_objetos), [la programación imperativa](https://es.wikipedia.org/wiki/Programaci%C3%B3n_imperativa) y la [programación funcional](https://es.wikipedia.org/wiki/Programaci%C3%B3n_funcional).\n",
    "- Proporciona un sistema de módulos que <b>permite la creación de aplicaciones grandes y complejas</b>.\n",
    "\n",
    "Aunque también tiene sus desventajas, entre ellas la más llamativa, hasta hace poco, era la falta de compatibilidad entre las versiones 2.x y 3.x de Python. Hoy por hoy no es un problema, dado que la última versión de Python 2, la versión 2.7 dejó de mantenerse el 1 de enero del 2020. No obstante, cuando se busca información de Python, todavía hay muchas páginas que muestran información sobre Python 2.\n"
   ]
  },
  {
   "cell_type": "markdown",
   "metadata": {
    "nbpresent": {
     "id": "4ae3590e-3c7d-4751-b03e-243976c64ad4"
    },
    "slideshow": {
     "slide_type": "slide"
    }
   },
   "source": [
    "# Descarga e instalación <a id=\"download\"></a>&nbsp;&nbsp;<a href=\"#index\"><i class=\"fa fa-list-alt\" aria-hidden=\"true\"></i></a>\n",
    "\n",
    "Tenemos varias opciones para descargar e instalar Python en nuestro equipo:\n",
    "1.  Bajando el instalador desde [http://www.python.org](http://www.python.org).\n",
    "2.  **Instalarlo a través de una distribución como [Anaconda](https://www.anaconda.com/products/individual) (o [miniconda](https://docs.conda.io/en/latest/miniconda.html))**. $\\Longleftarrow$\n",
    "3.  En Linux y Mac, instalar los instaladores del sistema operativo (`apt`, `yum`, `brew`, ...)\n",
    "    - Ahora también en Windows, con el [Windows Subsystem for Linux](https://tinyurl.com/y6od36l7) o con\n",
    "      los instaladores de paquetes existentes para Windows: [Chocolatey](https://chocolatey.org/packages/python), [Npackd](https://npackd.appspot.com/), [Scoop](https://scoop.sh/), [OneGet](https://github.com/OneGet/oneget), ...\n",
    "4.  Incluso, podríamos bajar el código fuente y compilarlo (`configure && make && make install`).\n",
    "\n",
    "\n",
    "<div class=\"alert alert-success\">\n",
    "    Pero nosotros en este curso vamos a utilizar la distribución <a href=\"https://www.anaconda.com/download/\">Anaconda</a>.\n",
    "Es una de las maneras más sencillas de instalar para empezar a usar y programar en Python. Además, incluye cientos de los paquetes más comunes. Por último, su gestor de paquetes y entornos hace fácil y rápido el manejo de paquetes y entornos.\n",
    "</div>\n",
    "\n",
    "\n"
   ]
  },
  {
   "cell_type": "markdown",
   "metadata": {
    "slideshow": {
     "slide_type": "slide"
    }
   },
   "source": [
    "%%HTML\n",
    "<div class=\"v\"><iframe with=\"100%\" src=\"https://www.youtube.com/embed/c5Uo-ETjxqk\" allowfullscreen=\"\" frameborder=\"0\"></iframe></div>"
   ]
  },
  {
   "cell_type": "markdown",
   "metadata": {
    "nbpresent": {
     "id": "6cc96f8a-f04f-4598-a754-270afe185327"
    },
    "slideshow": {
     "slide_type": "slide"
    }
   },
   "source": [
    "# Primeros ejemplos <a id=\"ejes\"></a>&nbsp;&nbsp;<a href=\"#index\"><i class=\"fa fa-list-alt\" aria-hidden=\"true\"></i></a>\n",
    "Siguiendo la tradición en informática, el primer ejemplo de código Python será un [«Hola mundo»](https://es.wikipedia.org/wiki/Hola_mundo):"
   ]
  },
  {
   "cell_type": "code",
   "execution_count": 1,
   "metadata": {
    "collapsed": true,
    "nbpresent": {
     "id": "e6640e12-ed13-4dc8-8fae-5dc2fbc61320"
    },
    "slideshow": {
     "slide_type": "fragment"
    }
   },
   "outputs": [
    {
     "name": "stdout",
     "output_type": "stream",
     "text": [
      "¡Hola mundo!\n"
     ]
    }
   ],
   "source": [
    "# Mi primer ejemplo de Python\n",
    "print(\"¡Hola mundo!\")"
   ]
  },
  {
   "cell_type": "code",
   "execution_count": 2,
   "metadata": {
    "collapsed": true,
    "nbpresent": {
     "id": "e6640e12-ed13-4dc8-8fae-5dc2fbc61320"
    },
    "slideshow": {
     "slide_type": "fragment"
    }
   },
   "outputs": [
    {
     "data": {
      "text/plain": [
       "6.5"
      ]
     },
     "execution_count": 2,
     "metadata": {},
     "output_type": "execute_result"
    }
   ],
   "source": [
    "# Mi segundo ejemplo de Python\n",
    "1+2*3-1/2"
   ]
  },
  {
   "cell_type": "markdown",
   "metadata": {
    "nbpresent": {
     "id": "6e033a24-643a-4d91-b6df-8c976d3bec7c"
    },
    "slideshow": {
     "slide_type": "subslide"
    }
   },
   "source": [
    "Los ejemplos anteriores se evaluaron en una <i class=\"concept\">celda</i> de un <i class=\"concept\">cuaderno de Jupyter</i>, pero se puede utilizar el interprete de Python desde la línea de comandos con:\n",
    "<pre class=\"cgocode\">C:&gt; python -c \"print('¡Hola mundo!');\"\n",
    "¡Hola mundo!</pre>"
   ]
  },
  {
   "cell_type": "markdown",
   "metadata": {
    "nbpresent": {
     "id": "6e033a24-643a-4d91-b6df-8c976d3bec7c"
    },
    "slideshow": {
     "slide_type": "fragment"
    }
   },
   "source": [
    "O tras la ejecución del interprete:\n",
    "<pre class=\"cgocode\" style=\"font-size: smaller\">C:&gt; python\n",
    "Python 3.8.5 (default, Aug  5 2020, 03:39:04)\n",
    "[Clang 10.0.0 ] :: Anaconda, Inc. on darwin\n",
    "Type \"help\", \"copyright\", \"credits\" or \"license\" for more information.\n",
    "&gt;&gt;&gt; print(\"¡Hola mundo!\")\n",
    "¡Hola mundo!\n",
    "</pre>"
   ]
  },
  {
   "cell_type": "markdown",
   "metadata": {
    "nbpresent": {
     "id": "6e033a24-643a-4d91-b6df-8c976d3bec7c"
    },
    "slideshow": {
     "slide_type": "fragment"
    }
   },
   "source": [
    "<div class=\"alert alert-info\">\n",
    "   <i style=\"font-size: larger;\" class=\"fa fa-info-circle\" aria-hidden=\"true\"></i> Para salir del interprete, introducir <code>quit()</code>\n",
    "</div>"
   ]
  },
  {
   "cell_type": "markdown",
   "metadata": {
    "nbpresent": {
     "id": "6e033a24-643a-4d91-b6df-8c976d3bec7c"
    },
    "slideshow": {
     "slide_type": "subslide"
    }
   },
   "source": [
    "Por último, podemos crear el archivo `ejemplo.py` con el siguiente contenido:\n",
    "```\n",
    "print(\"¡Hola mundo!\")\n",
    "```"
   ]
  },
  {
   "cell_type": "markdown",
   "metadata": {
    "nbpresent": {
     "id": "6e033a24-643a-4d91-b6df-8c976d3bec7c"
    },
    "slideshow": {
     "slide_type": "fragment"
    }
   },
   "source": [
    "y ejecutarlo usando python:\n",
    "<pre class=\"cgocode\">C:&gt; python ejemplo.py\n",
    "¡Hola mundo!\n",
    "\n",
    "</pre>"
   ]
  },
  {
   "cell_type": "markdown",
   "metadata": {
    "nbpresent": {
     "id": "668c065a-f472-4ede-882d-dba2dd929df2"
    },
    "slideshow": {
     "slide_type": "slide"
    }
   },
   "source": [
    "# Cuadernos Jupyter <a id=\"notebooks\"></a>&nbsp;&nbsp;<a href=\"#index\"><i class=\"fa fa-list-alt\" aria-hidden=\"true\"></i></a>\n",
    "\n",
    "En este curso se utilizan los [cuadernos de Jupyter](http://jupyter.org/) (<i class=\"concept\">Jupyter notebooks</i>), que permiten combinar documentación y código. \n",
    "\n",
    "## ¿Qué son?\n",
    "\n",
    "Un notebook es un entorno de desarrollo que nos permite escribir y evaluar código. Permite, además, documentar de manera atractiva usando sintaxis [Markdown](https://es.wikipedia.org/wiki/Markdown) y [HTML](https://es.wikipedia.org/wiki/HTML), mostrar fórmulas con [LaTeX](https://es.wikipedia.org/wiki/LaTeX), visualizar los resultados y gestionar la interacción con el usuario. Se guardan en un archivo de texto de extensión <kbd>.ipynb</kbd> que contiene una estructura de datos en formato JSON."
   ]
  },
  {
   "cell_type": "markdown",
   "metadata": {
    "nbpresent": {
     "id": "bffc4427-4d54-41bc-9084-a6257ad63d05"
    },
    "slideshow": {
     "slide_type": "subslide"
    }
   },
   "source": [
    "## ¿Por qué utilizarlos?\n",
    "\n",
    "Su capacidad de poder intercalar explicaciones y código hace que sea una buena herramienta para la docencia y el aprendizaje. Además, existen visores de notebooks *on-line*, que permiten interactuar desde cualquier equipo con un lenguaje de programación de los que soporta, entre ellos: Python, R, Julia, y Scala."
   ]
  },
  {
   "cell_type": "markdown",
   "metadata": {
    "nbpresent": {
     "id": "2222db2c-46e4-4b97-998d-03d10a4a5f1d"
    },
    "slideshow": {
     "slide_type": "subslide"
    }
   },
   "source": [
    "## ¿Cómo funcionan?\n",
    "Un <i class=\"concept\">notebook</i> (<i class=\"concept\">cuaderno</i>) está formado por celdas, que se ejecutan una detrás de otra (o en el orden que quiera el usuario). Hasta que no se ejecute una celda, el programa no puede hacer uso de las variables o funciones que se definan en dicha celda.\n",
    "\n",
    "Para visualizar un notebook hay que iniciar una aplicación web llamada [Jupyter](http://jupyter.readthedocs.io/en/latest/), para arrancarla, desde la línea de comandos (o el Anaconda Powershell Prompt, en Windows), hay que ejecutar:\n",
    "\n",
    "<pre class=\"cgocode\">C:&gt; jupyter notebook</pre>\n",
    "\n",
    "A continuación se abrirá el navegador mostrando los archivos en el directorio de ejecución, si alguno es un notebook, pulsando en su nombre podremos visualizarlo.\n",
    "\n",
    "También podemos lanzar Jupyter desde el Anaconda Navigator. Primero iniciando el Navigator, y luego continuación lanzar Jupyter."
   ]
  },
  {
   "cell_type": "markdown",
   "metadata": {
    "nbpresent": {
     "id": "c2c81500-78b1-4f18-b05a-7810da9becd5"
    },
    "slideshow": {
     "slide_type": "slide"
    }
   },
   "source": [
    "## Elementos de Jupyter\n",
    "\n",
    "### Tablero inicial (<i class=\"concept\">dashboard</i>) \n",
    "\n",
    "Presenta tres pestañas:\n",
    "\n",
    "<ul class=\"nav nav-tabs\" id=\"myTab\" role=\"tablist\">\n",
    "  <li class=\"nav-item\">\n",
    "    <a style=\"text-decoration: none;\" class=\"nav-link active\" id=\"home-tab\" data-toggle=\"tab\" href=\"#home\" role=\"tab\" aria-controls=\"home\" aria-selected=\"true\">Files</a>\n",
    "  </li>\n",
    "  <li class=\"nav-item active\">\n",
    "    <a style=\"text-decoration: none;\" class=\"nav-link\" id=\"profile-tab\" data-toggle=\"tab\" href=\"#profile\" role=\"tab\" aria-controls=\"profile\" aria-selected=\"false\">Running</a>\n",
    "  </li>\n",
    "  <li class=\"nav-item\">\n",
    "    <a style=\"text-decoration: none;\" class=\"nav-link\" id=\"contact-tab\" data-toggle=\"tab\" href=\"#contact\" role=\"tab\" aria-controls=\"contact\" aria-selected=\"false\">Clusters</a>\n",
    "  </li>\n",
    "</ul>\n",
    "<div class=\"tab-content\" id=\"myTabContent\">\n",
    "  <div class=\"tab-pane fade active\" id=\"home\" role=\"tabpanel\" aria-labelledby=\"home-tab\"><b>Files</b>: Muestra todos los cuadernos en el directorio (carpeta) actual.\n",
    "</div>\n",
    "    \n",
    "  <div class=\"tab-pane fade\" id=\"profile\" role=\"tabpanel\" aria-labelledby=\"profile-tab\"><b>Running</b>: Muestra todos los kérneles en ejecución.\n",
    "</div>\n",
    "  \n",
    "  <div class=\"tab-pane fade\" id=\"contact\" role=\"tabpanel\" aria-labelledby=\"contact-tab\"><b>Clusters</b>: Permite lanzar kérneles adicionales para computación paralela.</div>\n",
    "  \n",
    "</div>"
   ]
  },
  {
   "cell_type": "markdown",
   "metadata": {
    "nbpresent": {
     "id": "551ef9ec-2a33-4b1c-9ce3-f61a858ea6df"
    },
    "slideshow": {
     "slide_type": "subslide"
    }
   },
   "source": [
    "### Modos de trabajo\n",
    "\n",
    "Los cuadernos de Jupyter utilizan una interfaz modal (como la del editor de textos [Vim](https://es.wikipedia.org/wiki/Vim)), con dos modos:\n",
    "\n",
    "- <b>Modo de edición</b> para escribir código o texto en la celda, este modo se activa cuando se hace *click* dentro de las celdas de código, o doble *click* dentro de las celdas Markdown (para dividir la celda: <kbd>CTRL</kbd>-<kbd>SHIFT</kbd>-<kbd>-</kbd>).\n",
    "\n",
    "- <b>Modo de comando</b>, se activa haciendo *click* fuera del área de entrada de la celda (margen izquierdo) o pulsando <kbd>ESC</kbd>, para hacer operaciones sobre las celdas como:\n",
    "    - copiar celda: <kbd>c</kbd>\n",
    "    - cortar celda: <kbd>x</kbd>\n",
    "    - borrar celda: <kbd>dd</kbd> (también podría usarse <kbd>x</kbd>, pero sin pegar a continuación).\n",
    "    - pegar celda copiada o cortada debajo de la celda actual: <kbd>v</kbd>\n",
    "    - pegar celda copiada o cortada encima de la celda actual: <kbd>V</kbd>\n",
    "    - fusionar celdas seleccionadas: <kbd>M</kbd> (<b>M</b>erge)\n",
    "    - mostrar/ocultar la salida de la celda: <kbd>o</kbd> (<b>O</b>utput)\n",
    "    - añadir una celda en blanco por arriba: <kbd>a</kbd> (<b>A</b>bove)\n",
    "    - añadir una celda en blanco por debajo: <kbd>b</kbd> (<b>B</b>elow)\n",
    "\n",
    "Hay comandos disponibles en los dos modos:\n",
    "- ejecutar y permanecer en la celda: <kbd>Ctrl</kbd>+<kbd>⮐ Enter</kbd> (Windows), <kbd>⌘</kbd>+<kbd>⮐ Enter</kbd> (Mac)\n",
    "- ejecutar y pasar a la siguiente celda: <kbd>⇧ Shift</kbd>+<kbd>⮐ Enter</kbd>.\n",
    "- ejecutar e insertar una celda: <kbd>Alt</kbd>-<kbd>⮐ Enter</kbd>\n",
    "- guardar el cuaderno <kbd>Ctrl</kbd>+<kbd>S</kbd> (Windows), <kbd>⌘</kbd>+<kbd>S</kbd> (Mac)\n",
    "    \n",
    "Las anteriores operaciones también están accesibles a través de las entradas en los menús «*Edit*», «*Insert*» y «*Cell*».\n"
   ]
  },
  {
   "cell_type": "markdown",
   "metadata": {
    "nbpresent": {
     "id": "8081a668-ef24-4987-88ab-43e94825f5e3"
    },
    "slideshow": {
     "slide_type": "subslide"
    }
   },
   "source": [
    "### Tipos de celda\n",
    "\n",
    "Hay dos tipos principales de celda:\n",
    "- <b>Celdas de documentación</b>: Se usan para documentar que se está haciendo en el cuaderno y en las sucesivas celdas. Se puede usar la sintaxis [Markdown](https://es.wikipedia.org/wiki/Markdown), pero también [HTML](https://es.wikipedia.org/wiki/HTML) y [$\\LaTeX$](https://es.wikipedia.org/wiki/LaTeX). \n",
    "- <b>Celdas de código</b>: Contiene el código a ejecutar por el *kernel*. El lenguaje de programación será el del *kernel*. Nosotros usaremos sólo Python, pero existen otros: [JavaScript](https://es.wikipedia.org/wiki/Javascript), <a href=\"https://es.wikipedia.org/wiki/R_(lenguaje_de_programaci%C3%B3n\\)\">R</a>, [Matlab](https://es.wikipedia.org/wiki/MATLAB), <a href=\"https://es.wikipedia.org/wiki/C_(lenguaje_de_programaci%C3%B3n)\">C</a>, etcétera.\n",
    "\n",
    "Se puede cambiar el tipo de celda seleccionado y eligiendo su tipo en el menú *Cell* ▹ *Cell Type*. Una vez seleccionada la celda (indicación de margen en azul), también se pueden usar los atajos de teclado <kbd>y</kbd> para código, y <kbd>m</kbd> para Markdown."
   ]
  },
  {
   "cell_type": "markdown",
   "metadata": {},
   "source": [
    "#### Salidas de una celda de código\n",
    "En una celda de código hay dos posibles salidas.\n",
    "- La salida **stdout**, como la que se produce en el `print`. Se muestra por pantalla en formato unicode.\n",
    "- El valor retornado por la celda, que es el valor resultante de evaluar la última expresión. Puede ser unicode, HTML, jpg, etcétera."
   ]
  },
  {
   "cell_type": "code",
   "execution_count": 3,
   "metadata": {},
   "outputs": [
    {
     "name": "stdout",
     "output_type": "stream",
     "text": [
      "hola\n"
     ]
    },
    {
     "data": {
      "text/plain": [
       "7"
      ]
     },
     "execution_count": 3,
     "metadata": {},
     "output_type": "execute_result"
    }
   ],
   "source": [
    "'''\n",
    "Imprime de forma explícita 'hola'.\n",
    "El valor de la última expresión evaluada es 7, y este es el valor que se muestra\n",
    "en el `Out` de la celda.\n",
    "'''\n",
    "print(\"hola\")\n",
    "5+2"
   ]
  },
  {
   "cell_type": "code",
   "execution_count": 4,
   "metadata": {},
   "outputs": [
    {
     "name": "stdout",
     "output_type": "stream",
     "text": [
      "hola\n"
     ]
    }
   ],
   "source": [
    "'''\n",
    "Imprime 'hola' de forma explícita.\n",
    "Esta celda no tiene `Out` porque `print` no devuelve ningún valor.\n",
    "'''\n",
    "\n",
    "5+2\n",
    "print(\"hola\")"
   ]
  },
  {
   "cell_type": "markdown",
   "metadata": {
    "nbpresent": {
     "id": "668c065a-f472-4ede-882d-dba2dd929df2"
    },
    "slideshow": {
     "slide_type": "slide"
    }
   },
   "source": [
    "# Markdown, LaTeX y HTML <a id=\"markdown\"></a>&nbsp;&nbsp;<a href=\"#index\"><i class=\"fa fa-list-alt\" aria-hidden=\"true\"></i></a>\n",
    "\n",
    "[Markdown](https://es.wikipedia.org/wiki/Markdown) es un lenguaje de marcado ligero (en contraste con otros como [HTML](https://es.wikipedia.org/wiki/HTML) o [$\\LaTeX$](https://es.wikipedia.org/wiki/LaTeX)). \n",
    "\n",
    "En curso es una introducción al lenguaje de programación Python, pero es también interesante tener unos mínimos conocimientos de Markdown para hacer las celdas de documentación más atractivas."
   ]
  },
  {
   "cell_type": "markdown",
   "metadata": {
    "nbpresent": {
     "id": "668c065a-f472-4ede-882d-dba2dd929df2"
    },
    "slideshow": {
     "slide_type": "subslide"
    }
   },
   "source": [
    "Con Markdown la sintaxis para los títulos es:\n",
    "<pre>\n",
    "# Título de nivel 1\n",
    "## Título de nivel 2\n",
    "### Título de nivel 3\n",
    "</pre>"
   ]
  },
  {
   "cell_type": "markdown",
   "metadata": {
    "nbpresent": {
     "id": "668c065a-f472-4ede-882d-dba2dd929df2"
    },
    "slideshow": {
     "slide_type": "fragment"
    }
   },
   "source": [
    "Que se formatea como:\n",
    "# Título de nivel 1\n",
    "## Título de nivel 2\n",
    "### Título de nivel 3\n",
    "###### Título de nivel 6"
   ]
  },
  {
   "cell_type": "markdown",
   "metadata": {
    "nbpresent": {
     "id": "668c065a-f472-4ede-882d-dba2dd929df2"
    },
    "slideshow": {
     "slide_type": "subslide"
    }
   },
   "source": [
    "La sintaxis para las listas de elementos y las listas ordenadas es:\n",
    "<pre>\n",
    "- Un elemento.\n",
    "- Otro elemento.\n",
    "  1. Primer elemento.\n",
    "  2. Segundo elemento.\n",
    "</pre>"
   ]
  },
  {
   "cell_type": "markdown",
   "metadata": {
    "nbpresent": {
     "id": "668c065a-f472-4ede-882d-dba2dd929df2"
    },
    "slideshow": {
     "slide_type": "fragment"
    }
   },
   "source": [
    "Que se formatea como:\n",
    "- Un elemento.\n",
    "- Otro elemento.\n",
    "    1. Primer sub-elemento.\n",
    "    2. Segundo sub-elemento."
   ]
  },
  {
   "cell_type": "markdown",
   "metadata": {
    "nbpresent": {
     "id": "668c065a-f472-4ede-882d-dba2dd929df2"
    },
    "slideshow": {
     "slide_type": "subslide"
    }
   },
   "source": [
    "La sintaxis para el enfatizado de texto es:\n",
    "```\n",
    "Los enfatizados pueden ser: **negritas**, _itálicas_ (o *itálicas*) y `literales de código`.\n",
    "```"
   ]
  },
  {
   "cell_type": "markdown",
   "metadata": {
    "nbpresent": {
     "id": "668c065a-f472-4ede-882d-dba2dd929df2"
    },
    "slideshow": {
     "slide_type": "fragment"
    }
   },
   "source": [
    "Que se formatea como:\n",
    "\n",
    "Los enfatizados pueden ser: **negritas**, _itálicas_ (o *itálicas*) y `literales de código`."
   ]
  },
  {
   "cell_type": "markdown",
   "metadata": {
    "nbpresent": {
     "id": "668c065a-f472-4ede-882d-dba2dd929df2"
    },
    "slideshow": {
     "slide_type": "subslide"
    }
   },
   "source": [
    "También se puede usar la siguiente sintaxis para mostrar bloques completos de código:\n",
    "<pre>\n",
    "```python\n",
    "nombre = input(\"¿Cómo te llamas?\")\n",
    "if nombre:\n",
    "    print(f\"Hola {nombre}, encantado de conocerte\")\n",
    "else:\n",
    "    print(\"Creo que eres un poco antipático.\")\n",
    "```\n",
    "<!--\n",
    "<span style=\"color:#a50;\">&#96;&#96;&#96;python</span>\n",
    "nombre = <span style=\"color:#30a;\">input</span>(<span style=\"color:#a11;\">\"¿Cómo te llamas?\"</span>)\n",
    "<span style=\"color:#708;font-weight:bold;\">if</span> nombre:\n",
    "    <span style=\"color:#30a;\">print</span>(<span style=\"color:#a11;\">f\"Hola {nombre}, encantado de conocerte\"</span>)\n",
    "<span style=\"color:#708;font-weight:bold;\">else</span>:\n",
    "    <span style=\"color:#30a;\">print</span>(<span style=\"color:#a11;\">\"Creo que eres un poco antipático.\"</span>)\n",
    "<span style=\"color:#a50;\">&#96;&#96;&#96;</span>\n",
    "-->\n",
    "</pre>\n"
   ]
  },
  {
   "cell_type": "markdown",
   "metadata": {
    "nbpresent": {
     "id": "668c065a-f472-4ede-882d-dba2dd929df2"
    },
    "slideshow": {
     "slide_type": "fragment"
    }
   },
   "source": [
    "Que se formatea como:\n",
    "```python\n",
    "nombre = input(\"¿Cómo te llamas?\")\n",
    "if nombre:\n",
    "    print(f\"Hola {nombre}, encantado de conocerte\")\n",
    "else:\n",
    "    print(\"Creo que eres un poco antipático.\")\n",
    "```\n"
   ]
  },
  {
   "cell_type": "markdown",
   "metadata": {
    "slideshow": {
     "slide_type": "subslide"
    }
   },
   "source": [
    "También se pueden hacer tablas Markdown. El siguiente código\n",
    "```\n",
    "\n",
    "|  C1  |  C2  |  C3  |   C4   |\n",
    "|:-----|:----:|------| -----: |\n",
    "|    1 |    2 |    3 |      4 |\n",
    "|  101 |  202 |  303 |    404 |\n",
    "|  Uno |  Dos | Tres | Cuatro |\n",
    "```\n",
    "\n",
    "No es necesario aprenderse la sintaxis, para generar tablas Markdown puede usarse el recurso [*Markdown Tables Generator*](https://www.tablesgenerator.com/markdown_tables)."
   ]
  },
  {
   "cell_type": "markdown",
   "metadata": {
    "slideshow": {
     "slide_type": "fragment"
    }
   },
   "source": [
    "Da lugar a la tabla:\n",
    "\n",
    "|  C1  |  C2  |  C3  |   C4   |\n",
    "|:-----|:----:|------| -----: |\n",
    "|    1 |    2 |    3 |      4 |\n",
    "|  101 |  202 |  303 |    404 |\n",
    "|  Uno |  Dos | Tres | Cuatro |\n"
   ]
  },
  {
   "cell_type": "markdown",
   "metadata": {
    "slideshow": {
     "slide_type": "slide"
    }
   },
   "source": [
    "<div class=\"alert alert-info\" style=\"text-indent:-.65em; padding-left: 2.2em\">\n",
    "   <i style=\"font-size: larger;\" class=\"fa fa-info-circle\" aria-hidden=\"true\"></i> \n",
    "La documentación con todas las opciones sintácticas de Markdown la puedes encontrar en estos enlaces:\n",
    "    <ul>\n",
    "        <li><a href=\"https://www.markdownguide.org/basic-syntax\"\n",
    "               style=\"font-family:monospace\">https://www.markdownguide.org/basic-syntax</a>.</li>\n",
    "        <li><a href=\"https://www.markdownguide.org/extended-syntax/\"\n",
    "               style=\"font-family:monospace\">https://www.markdownguide.org/extended-syntax/</a>.</li>\n",
    "    </ul>\n",
    "</div>"
   ]
  },
  {
   "cell_type": "markdown",
   "metadata": {
    "slideshow": {
     "slide_type": "slide"
    }
   },
   "source": [
    "## $\\LaTeX$\n",
    "\n",
    "Si ya sabes $\\LaTeX$, puedes usar sus comandos en las celdas de documentación: \n",
    "\n",
    "$$e^{i\\pi}+1=0$$\n",
    "\n",
    "$$\\frac{1}{\\pi}=\\frac{2\\sqrt{2}}{9801}\\sum_{k=0}^\\infty\\frac{(4k)!(1103+26390k)}{(k!)^4396^{4k}}$$\n",
    "\n",
    "$$ \\pi = \\sum_{k=0}^\\infty\\frac{1}{16^k}\\left[\\frac{4}{8k+1}-\\frac{2}{8k+4}-\\frac{1}{8k+5}-\\frac{1}{8k+6}\\right]$$\n",
    "\n",
    "\n",
    "$$\\left(\\begin{array}{c}m \\\\n\\end{array}\\right) = \\frac{m!}{n!\\cdot(m-n)!}$$\n",
    "\n",
    "$$f'(x)=\\lim_{\\Delta x\\to 0}\\frac{f(x+\\Delta x)-f(\\Delta x)}{\\Delta x}$$\n",
    "\n",
    "<!-- http://www.cracked.com/blog/5-math-equations-that-change-way-you-see-world/ -->"
   ]
  },
  {
   "cell_type": "markdown",
   "metadata": {
    "slideshow": {
     "slide_type": "subslide"
    }
   },
   "source": [
    "$$\\forall \\mathbf{x}\\in \\mathbb{R}^n \\text{,  }\\|\\mathbf{x}\\|=\\sqrt{\\sum_{i=1}^n x_i^2}$$\n",
    "\n",
    "$$\\lim_{x\\to 0}\\frac{\\sin(x)}{x}=1$$\n",
    "\n",
    "\n",
    "$$\\frac{1}{2} < \\left\\lfloor\\text{mod}\\left(\\left\\lfloor\\frac{y}{17}\\right\\rfloor 2^{-17\\lfloor x\\rfloor-\\text{mod}(\\lfloor y\\rfloor, 17)},2\\right)\\right\\rfloor$$\n",
    "\n",
    "$$\\int_a^b f'(x)dx = f(b)-f(a)$$\n",
    "\n",
    "$$\\left[M\\frac{\\partial}{\\partial M}+\\beta(g)\\frac{\\partial}{\\partial g}+n\\lambda\\right]G^n(x_1, x_2, \\ldots, x_n; M, g) = 0$$\n",
    "\n",
    "<div class=\"alert alert-info\" style=\"text-indent:-.65em; padding-left: 2.2em\">\n",
    "   <i style=\"font-size: larger;\" class=\"fa fa-info-circle\" aria-hidden=\"true\"></i> \n",
    "Aunque no sepas LaTeX, puedes utilizar ecuaciones con la ayuda de herramientas en línea de edición de fórmulas, como por ejemplo: \n",
    "    <ul>\n",
    "        <li><a href=\"https://www.latex4technics.com/\" \n",
    "               style=\"font-family:monospace\">https://www.latex4technics.com/</a>.</li>\n",
    "        <li><a href=\"https://latex.codecogs.com/legacy/eqneditor/editor.php\"\n",
    "               style=\"font-family:monospace\">https://latex.codecogs.com/legacy/eqneditor/editor.php</a>.</li>\n",
    "    </ul>\n",
    "</div>"
   ]
  },
  {
   "cell_type": "markdown",
   "metadata": {
    "slideshow": {
     "slide_type": "slide"
    }
   },
   "source": [
    "## HTML\n",
    "\n",
    "Si ya sabes HTML, puedes usar sus comandos en las celdas de documentación, para <b>formatear listas</b>:\n",
    "\n",
    "<ul><li>uno</li><li>otro</li></ul>\n",
    "<ol><li>uno</li><li>dos</li></ol>\n",
    "<dl>\n",
    "    <dt>Lista ordenada (<kbd>ol</kbd>)</dt><dd>Lista de elementos en los que el orden es relevante</dd>\n",
    "    <dt>Lista no ordenada (<kbd>ul</kbd>)</dt><dd>Lista de elementos en los que el orden no importa</dd>\n",
    "    <dt>Lista de términos (<kbd>dt</kbd>)</dt><dd>Para enumerar una serie de conceptos y sus correspondientes definiciones.</dd>\n",
    "</dl>"
   ]
  },
  {
   "cell_type": "markdown",
   "metadata": {
    "slideshow": {
     "slide_type": "subslide"
    }
   },
   "source": [
    "<b>O tablas</b>:\n",
    "<table style=\"font-size: xx-large\">\n",
    "    <tr style=\"border-top: 2px solid\"><th>Col<sub>1</sub></th><th>Col<sub>2</sub></th><th>Col<sub>3</sub></th><th>Col<sub>4</sub></th></tr>\n",
    "    <tr style=\"border-top: 1px solid\"><td>1</td><td>2</td><td>3</td><td>4</td></tr>\n",
    "    <tr><td>101</td><td>202</td><td>303</td><td>404</td></tr>\n",
    "    <tr style=\"border-bottom: 2px solid\"><td>Uno</td><td>Dos</td><td>Tres</td><td>Cuatro</td></tr>\n",
    "</table>\n",
    "\n",
    "\n",
    "<div class=\"alert alert-info\" style=\"text-indent:-.65em; padding-left: 2.2em\">\n",
    "   <i style=\"font-size: larger;\" class=\"fa fa-info-circle\" aria-hidden=\"true\"></i> \n",
    "Aunque no sepas HTML, puedes utilizar tablas HTML con la ayuda de herramientas en línea de edición de tablas, como por ejemplo: <a href=\"https://www.tablesgenerator.com/html_tables\" style=\"font-family:monospace\">https://www.tablesgenerator.com/html_tables</a>.\n",
    "</div>"
   ]
  },
  {
   "cell_type": "markdown",
   "metadata": {
    "nbpresent": {
     "id": "67879a71-84fb-41fd-97c8-84dd9d0c8828"
    },
    "slideshow": {
     "slide_type": "slide"
    }
   },
   "source": [
    "# Referencias <a id=\"references\"></a>&nbsp;&nbsp;<a href=\"#index\"><i class=\"fa fa-list-alt\" aria-hidden=\"true\"></i></a>\n",
    "- https://es.wikipedia.org/wiki/Python\n",
    "- https://gitlab.erc.monash.edu.au/andrease/Python4Maths/tree/master\n",
    "- https://nbviewer.jupyter.org/github/jupyter/notebook/blob/master/docs/source/examples/Notebook/Running%20Code.ipynb\n",
    "- https://github.com/ipython-books/minibook-2nd-code\n",
    "- http://nbviewer.jupyter.org/github/ipython-books/minibook-2nd-code/blob/master/chapter1/13-nbui.ipynb\n",
    "- http://nbviewer.jupyter.org/github/ipython-books/minibook-2nd-code/blob/master/chapter1/12-installation.ipynb\n",
    "- https://markdown.es/sintaxis-markdown/\n",
    "- https://medium.com/analytics-vidhya/the-ultimate-markdown-guide-for-jupyter-notebook-d5e5abf728fd"
   ]
  },
  {
   "cell_type": "markdown",
   "metadata": {
    "nbpresent": {
     "id": "cf492abd-b934-451f-9984-2462dab013f3"
    },
    "slideshow": {
     "slide_type": "slide"
    }
   },
   "source": [
    "# Algunas referencias adicionales <a id=\"morereferences\"></a><a href=\"#index\"><i class=\"fa fa-list-alt\" aria-hidden=\"true\"></i></a>\n",
    "\n",
    "- Sitio web de Continuum Analytics: http://continuum.io/\n",
    "- Página principal de Anaconda: https://store.continuum.io/cshop/anaconda/\n",
    "- Descargas de Anaconda: http://continuum.io/downloads\n",
    "- Lista de paquetes en la distribución Anaconda: http://docs.continuum.io/anaconda/pkg-docs\n",
    "- Página principal de Conda: http://conda.io/\n",
    "- Lista de distribución de Anaconda: https://groups.google.com/a/continuum.io/forum/#!forum/anaconda"
   ]
  },
  {
   "cell_type": "markdown",
   "metadata": {},
   "source": [
    "# Algo de humor"
   ]
  },
  {
   "cell_type": "code",
   "execution_count": 5,
   "metadata": {},
   "outputs": [],
   "source": [
    "import antigravity"
   ]
  },
  {
   "cell_type": "code",
   "execution_count": 6,
   "metadata": {},
   "outputs": [
    {
     "name": "stderr",
     "output_type": "stream",
     "text": [
      "QSocketNotifier: Can only be used with threads started with QThread\n"
     ]
    }
   ],
   "source": [
    "import pyjokes.jokes_es\n",
    "import pyjokes.jokes_en"
   ]
  },
  {
   "cell_type": "code",
   "execution_count": 7,
   "metadata": {},
   "outputs": [
    {
     "data": {
      "text/plain": [
       "[\"When Chuck Norris throws exceptions, it's across the room.\",\n",
       " 'All arrays Chuck Norris declares are of infinite size, because Chuck Norris knows no bounds.',\n",
       " \"Chuck Norris doesn't have disk latency because the hard drive knows to hurry the hell up, or else.\",\n",
       " 'Chuck Norris writes code that optimises itself.',\n",
       " \"Chuck Norris can't test for equality because he has no equal.\",\n",
       " \"Chuck Norris doesn't need garbage collection because he doesn't call .Dispose(), he calls .DropKick().\",\n",
       " \"Chuck Norris's first program was kill -9.\",\n",
       " 'Chuck Norris burst the dot com bubble.',\n",
       " 'All browsers support the hex definitions #chuck and #norris for the colours black and blue.',\n",
       " \"MySpace isn't really your space, it's Chuck's (he just lets you use it).\",\n",
       " 'Chuck Norris can write infinitely recursive functions and have them return.',\n",
       " 'Chuck Norris can solve the Towers of Hanoi in one move.',\n",
       " 'The only design pattern Chuck Norris knows is the God Object Pattern.',\n",
       " 'Chuck Norris finished World of Warcraft.',\n",
       " 'Project managers never ask Chuck Norris for estimations.',\n",
       " \"Chuck Norris doesn't use web standards as the web will conform to him.\",\n",
       " \"'It works on my machine' always holds true for Chuck Norris.\",\n",
       " \"Chuck Norris doesn't do Burn Down charts, he does Smack Down charts.\",\n",
       " 'Chuck Norris can delete the Recycling Bin.',\n",
       " \"Chuck Norris's beard can type 140 words per minute.\",\n",
       " \"Chuck Norris can unit test entire applications with a single assertion, 'it works'.\",\n",
       " \"Chuck Norris doesn't bug hunt as that signifies a probability of failure, he goes bug killing.\",\n",
       " \"Chuck Norris's keyboard doesn't have a Ctrl key because nothing controls Chuck Norris.\",\n",
       " 'Chuck Norris can overflow your stack just by looking at it.',\n",
       " 'To Chuck Norris, everything contains a vulnerability.',\n",
       " \"Chuck Norris doesn't sudo, the shell just knows it's him and does what it's told.\",\n",
       " \"Chuck Norris doesn't need a debugger, he just stares at the code until it confesses.\",\n",
       " 'Chuck Norris can access private methods.',\n",
       " 'Chuck Norris can instantiate an abstract class.',\n",
       " 'Chuck Norris does not need to know about Class Factory Pattern. He can instantiate interfaces.',\n",
       " 'The class object inherits from Chuck Norris.',\n",
       " 'For Chuck Norris, NP-Hard = O(1).',\n",
       " 'Chuck Norris knows the last digit of Pi.',\n",
       " \"Chuck Norris's Internet connection is faster upstream than downstream because even data has more incentive to run from him than to him.\",\n",
       " 'Chuck Norris solved the Travelling Salesman problem in O(1) time: break salesman into N pieces; kick each piece to a different city.',\n",
       " 'No statement can catch the ChuckNorrisException.',\n",
       " \"Chuck Norris doesn't pair program.\",\n",
       " 'Chuck Norris can write multi-threaded applications with a single thread.',\n",
       " \"Chuck Norris doesn't need to use AJAX because pages are too afraid to postback anyways.\",\n",
       " \"Chuck Norris doesn't use reflection, reflection asks politely for his help.\",\n",
       " \"There is no Esc key on Chuck Norris' keyboard, because no one escapes Chuck Norris.\",\n",
       " 'Chuck Norris can binary search unsorted data.',\n",
       " \"Chuck Norris doesn't needs try-catch, exceptions are too afraid to raise.\",\n",
       " 'Chuck Norris went out of an infinite loop.',\n",
       " 'If Chuck Norris writes code with bugs, the bugs fix themselves.',\n",
       " 'Chuck Norris hosting is 101% uptime guaranteed.',\n",
       " \"Chuck Norris's keyboard has the Any key.\",\n",
       " 'Chuck Norris can access the database from the UI.',\n",
       " \"Chuck Norris's programs never exit, they are terminated.\",\n",
       " 'Chuck Norris insists on strongly-typed programming languages.',\n",
       " 'The Chuck Norris protocol design method has no status, requests or responses, only commands.',\n",
       " \"Chuck Norris's programs occupy 150% of CPU, even when they are not running.\",\n",
       " 'Chuck Norris can spawn threads that complete before they are started.',\n",
       " \"Chuck Norris's programs do not accept input.\",\n",
       " 'Chuck Norris can install iTunes without installing Quicktime.',\n",
       " \"Chuck Norris doesn't need an OS.\",\n",
       " \"Chuck Norris's OSI network model has only one layer - Physical.\",\n",
       " 'Chuck Norris can compile syntax errors.',\n",
       " \"Every SQL statement that Chuck Norris codes has an implicit 'COMMIT' in its end.\",\n",
       " 'Chuck Norris does not need to type-cast. The Chuck-Norris Compiler (CNC) sees through things. All the way down. Always.',\n",
       " 'Chuck Norris does not code in cycles, he codes in strikes.',\n",
       " 'Chuck Norris compresses his files by doing a flying round house kick to the hard drive.',\n",
       " 'Chick Norris solved the halting problem.',\n",
       " \"With Chuck Norris P = NP. There's no nondeterminism with Chuck Norris decisions.\",\n",
       " 'Chuck Norris can retrieve anything from /dev/null.',\n",
       " 'No one has ever pair-programmed with Chuck Norris and lived to tell the tale.',\n",
       " \"No one has ever spoken during review of Chuck Norris' code and lived to tell the tale.\",\n",
       " \"Chuck Norris doesn't use a GUI, he prefers COMMAND line.\",\n",
       " \"Chuck Norris doesn't use Oracle, he is the Oracle.\",\n",
       " 'Chuck Norris can dereference NULL.',\n",
       " \"A diff between your code and Chuck Norris's is infinite.\",\n",
       " 'The Chuck Norris Eclipse plugin made alien contact.',\n",
       " 'Chuck Norris is the ultimate mutex, all threads fear him.',\n",
       " \"Don't worry about tests, Chuck Norris's test cases cover your code too.\",\n",
       " \"Each hair in Chuck Norris's beard contributes to make the world's largest DDOS.\",\n",
       " \"Chuck Norris's log statements are always at the FATAL level.\",\n",
       " \"Chuck Norris's database has only one table, 'Kick', which he drops frequently.\",\n",
       " 'Chuck Norris completed World of Warcraft.',\n",
       " \"When Chuck Norris breaks the build, you can't fix it, because there is not a single line of code left.\",\n",
       " 'Chuck Norris types with one finger. He points it at the keyboard and the keyboard does the rest.',\n",
       " \"Chuck Norris's programs can pass the Turing Test by staring at the interrogator.\",\n",
       " \"If you try to kill -9 Chuck Norris's programs, it backfires.\",\n",
       " 'Chuck Norris performs infinite loops in under 4 seconds.',\n",
       " 'Chuck Norris can overwrite a locked variable.',\n",
       " 'Chuck Norris knows the value of NULL, and he can sort by it too.',\n",
       " 'Chuck Norris can install a 64-bit operating system on 32-bit machines.',\n",
       " 'Chuck Norris can write to an output stream.',\n",
       " 'Chuck Norris can read from an input stream.',\n",
       " \"Chuck Norris never has to build his program to machine code. Machines have learnt to interpret Chuck Norris's code.\",\n",
       " \"Chuck Norris's unit tests don't run. They die.\",\n",
       " 'Chuck Norris causes the Blue Screen of Death.',\n",
       " 'Chuck Norris can make a class that is both abstract and final.',\n",
       " 'Chuck Norris could use anything in java.util.* to kill you, including the javadocs.',\n",
       " 'Code runs faster when Chuck Norris watches it.',\n",
       " \"Chuck Norris doesn't use REST, he waits.\",\n",
       " 'Everyone likes Chuck Norris on Facebook, whether they choose to or not.',\n",
       " \"You can't follow Chuck Norris on Twitter, because he follows you.\",\n",
       " \"Chuck Norris's calculator has only 3 keys: 0, 1, and NAND.\",\n",
       " 'Chuck Norris only uses global variables. He has nothing to hide.',\n",
       " 'Chuck Norris once implemented an HTTP server in a single printf call. It is now the heart of Apache webserver.',\n",
       " 'Chuck Norris writes directly in binary. He then writes the source code as documentation for other programmers.',\n",
       " 'Chuck Norris once shifted a bit so hard, it ended up on a different computer.',\n",
       " \"Q: What is Chuck Norris's favorite Javascript framework? A: Knockout.js.\"]"
      ]
     },
     "execution_count": 7,
     "metadata": {},
     "output_type": "execute_result"
    }
   ],
   "source": [
    "# cambia 'neutral' por 'chuck' para obtener chistes de Chuck Norris\n",
    "pyjokes.jokes_es.jokes_es['neutral'] \n",
    "pyjokes.jokes_en.jokes_en['chuck']"
   ]
  },
  {
   "cell_type": "code",
   "execution_count": 8,
   "metadata": {},
   "outputs": [
    {
     "data": {
      "text/plain": [
       "[\"Complaining about the lack of smoking shelters, the nicotine addicted Python programmers said there ought to be 'spaces for tabs'.\",\n",
       " 'Ubuntu users are apt to get this joke.',\n",
       " 'Obfuscated Reality Mappers (ORMs) can be useful database tools.',\n",
       " 'Asked to explain Unicode during an interview, Geoff went into detail about his final year university project. He was not hired.',\n",
       " \"Triumphantly, Beth removed Python 2.7 from her server in 2030. 'Finally!' she said with glee, only to see the announcement for Python 4.4.\",\n",
       " \"An SQL query goes into a bar, walks up to two tables and asks, 'Can I join you?'\",\n",
       " 'When your hammer is C++, everything begins to look like a thumb.',\n",
       " 'If you put a million monkeys at a million keyboards, one of them will eventually write a Java program. The rest of them will write Perl.',\n",
       " 'To understand recursion you must first understand recursion.',\n",
       " \"I suggested holding a 'Python Object Oriented Programming Seminar', but the acronym was unpopular.\",\n",
       " \"'Knock, knock.' 'Who's there?' ... very long pause ... 'Java.'\",\n",
       " \"How many programmers does it take to change a lightbulb? None, that's a hardware problem.\",\n",
       " \"What's the object-oriented way to become wealthy? Inheritance.\",\n",
       " \"Why don't jokes work in octal? Because 7 10 11.\",\n",
       " 'How many programmers does it take to change a lightbulb? None, they just make darkness a standard.',\n",
       " \"Two bytes meet. The first byte asks, 'Are you ill?' The second byte replies, 'No, just feeling a bit off.'\",\n",
       " \"Two threads walk into a bar. The barkeeper looks up and yells, 'Hey, I want don't any conditions race like time last!'\",\n",
       " \"Old C programmers don't die, they're just cast into void.\",\n",
       " \"Eight bytes walk into a bar. The bartender asks, 'Can I get you anything?' 'Yeah,' replies the bytes. 'Make us a double.'\",\n",
       " \"Why did the programmer quit his job? Because he didn't get arrays.\",\n",
       " \"Why do Java programmers have to wear glasses? Because they don't see sharp.\",\n",
       " 'Software developers like to solve problems. If there are no problems handily available, they will create their own.',\n",
       " \".NET was named .NET so that it wouldn't show up in a Unix directory listing.\",\n",
       " 'Hardware: The part of a computer that you can kick.',\n",
       " \"A programmer was found dead in the shower. Next to their body was a bottle of shampoo with the instructions 'Lather, Rinse and Repeat'.\",\n",
       " 'Optimist: The glass is half full. Pessimist: The glass is half empty. Programmer: The glass is twice as large as necessary.',\n",
       " 'In C we had to code our own bugs. In C++ we can inherit them.',\n",
       " 'How come there is no obfuscated Perl contest? Because everyone would win.',\n",
       " \"If you play a Windows CD backwards, you'll hear satanic chanting ... worse still, if you play it forwards, it installs Windows.\",\n",
       " 'How many programmers does it take to kill a cockroach? Two: one holds, the other installs Windows on it.',\n",
       " 'What do you call a programmer from Finland? Nerdic.',\n",
       " \"What did the Java code say to the C code? A: You've got no class.\",\n",
       " \"Why did Microsoft name their search engine BING? Because It's Not Google.\",\n",
       " \"Pirates go 'arg!', computer pirates go 'argv!'\",\n",
       " 'Software salesmen and used-car salesmen differ in that the latter know when they are lying.',\n",
       " \"Child: Dad, why does the sun rise in the east and set in the west? Dad: Son, it's working, don't touch it.\",\n",
       " 'Why do programmers confuse Halloween with Christmas? Because OCT 31 == DEC 25.',\n",
       " 'How many Prolog programmers does it take to change a lightbulb? false.',\n",
       " 'Real programmers can write assembly code in any language.',\n",
       " 'Waiter: Would you like coffee or tea? Programmer: Yes.',\n",
       " 'What do you get when you cross a cat and a dog? Cat dog sin theta.',\n",
       " \"If loving you is ROM I don't wanna read write.\",\n",
       " 'A programmer walks into a foo...',\n",
       " \"A programmer walks into a bar and orders 1.38 root beers. The bartender informs her it's a root beer float. She says 'Make it a double!'\",\n",
       " \"What is Benoit B. Mandelbrot's middle name? Benoit B. Mandelbrot.\",\n",
       " \"Why are you always smiling? That's just my... regular expression.\",\n",
       " 'ASCII stupid question, get a stupid ANSI.',\n",
       " \"A programmer had a problem. He thought to himself, 'I know, I'll solve it with threads!'. has Now problems. two he\",\n",
       " 'Why do sin and tan work? Just cos.',\n",
       " 'Java: Write once, run away.',\n",
       " 'I would tell you a joke about UDP, but you would never get it.',\n",
       " 'A QA engineer walks into a bar. Runs into a bar. Crawls into a bar. Dances into a bar. Tiptoes into a bar. Rams a bar. Jumps into a bar.',\n",
       " \"My friend's in a band called '1023 Megabytes'... They haven't got a gig yet!\",\n",
       " \"I had a problem so I thought I'd use Java. Now I have a ProblemFactory.\",\n",
       " 'QA Engineer walks into a bar. Orders a beer. Orders 0 beers. Orders 999999999 beers. Orders a lizard. Orders -1 beers. Orders a sfdeljknesv.',\n",
       " 'A product manager walks into a bar, asks for drink. Bartender says no, but will consider adding later.',\n",
       " 'How do you generate a random string? Put a first year Computer Science student in Vim and ask them to save and exit.',\n",
       " \"I've been using Vim for a long time now, mainly because I can't figure out how to exit.\",\n",
       " \"How do you know whether a person is a Vim user? Don't worry, they'll tell you.\",\n",
       " \"Waiter: He's choking! Is anyone a doctor? Programmer: I'm a Vim user.\",\n",
       " \"3 Database Admins walked into a NoSQL bar. A little while later they walked out because they couldn't find a table.\",\n",
       " 'How to explain the movie Inception to a programmer? When you run a VM inside another VM, inside another VM ... everything runs real slow!',\n",
       " 'What do you call a parrot that says \"Squawk! Pieces of nine! Pieces of nine!\"? A parrot-ey error.',\n",
       " 'There are only two hard problems in Computer Science: cache invalidation, naming things and off-by-one-errors.',\n",
       " \"There are 10 types of people: those who understand binary and those who don't.\",\n",
       " 'There are 2 types of people: those who can extrapolate from incomplete data sets...',\n",
       " \"There are II types of people: Those who understand Roman Numerals and those who don't.\",\n",
       " 'There are 10 types of people: those who understand hexadecimal and 15 others.',\n",
       " \"There are 10 types of people: those who understand binary, those who don't, and those who were expecting this joke to be in trinary.\",\n",
       " \"There are 10 types of people: those who understand trinary, those who don't, and those who have never heard of it.\",\n",
       " 'What do you call eight hobbits? A hobbyte.',\n",
       " 'The best thing about a Boolean is even if you are wrong, you are only off by a bit.',\n",
       " 'A good programmer is someone who always looks both ways before crossing a one-way street.',\n",
       " 'There are two ways to write error-free programs; only the third one works.',\n",
       " 'QAs consist of 55% water, 30% blood and 15% Jira tickets.',\n",
       " 'Sympathy for the Devil is really just about being nice to QAs.',\n",
       " \"How many QAs does it take to change a lightbulb? They noticed that the room was dark. They don't fix problems, they find them.\",\n",
       " 'A programmer crashes a car at the bottom of a hill, a bystander asks what happened, he says \"No idea. Let\\'s push it back up and try again\".',\n",
       " \"What do you mean 911 is only for emergencies? I've got a merge conflict.\",\n",
       " \"Writing PHP is like peeing in the swimming pool, everyone did it, but we don't need to bring it up in public.\",\n",
       " \"Why did the QA cross the road? To ruin everyone's day.\",\n",
       " 'Number of days since I have encountered an array index error: -1.',\n",
       " 'Number of days since I have encountered an off-by-one error: 0.',\n",
       " 'Speed dating is useless. 5 minutes is not enough to properly explain the benefits of the Unix philosophy.',\n",
       " 'Microsoft hold a bi-monthly internal \"productive week\" where they use Google instead of Bing.',\n",
       " \"Schrodinger's attitude to web development: If I don't look at it in Internet Explorer then there's a chance it looks fine.\",\n",
       " 'Finding a good PHP developer is like looking for a needle in a haystack. Or is it a hackstack in a needle?',\n",
       " \"Unix is user friendly. It's just very particular about who its friends are.\",\n",
       " 'A COBOL programmer makes millions with Y2K remediation and decides to get cryogenically frozen. \"The year is 9999. You know COBOL, right?\"',\n",
       " 'The C language combines all the power of assembly language with all the ease-of-use of assembly language.',\n",
       " 'An SEO expert walks into a bar, bars, pub, public house, Irish pub, tavern, bartender, beer, liquor, wine, alcohol, spirits...',\n",
       " \"What does 'Emacs' stand for? 'Exclusively used by middle aged computer scientists.'\",\n",
       " 'What does pyjokes have in common with Adobe Flash? It gets updated all the time, but never gets any better.',\n",
       " \"Why does Waldo only wear stripes? Because he doesn't want to be spotted.\",\n",
       " 'I went to a street where the houses were numbered 8k, 16k, 32k, 64k, 128k, 256k and 512k. It was a trip down Memory Lane.',\n",
       " \"!false, (It's funny because it's true)\",\n",
       " \"['hip', 'hip'] (hip hip array!)\",\n",
       " \"Programmer: The ship I boarded crashed and I am dying! Project Manager: Then let's do a quick knowledge transfer session before you go.\",\n",
       " 'Are you a RESTful API? because you GET my attention, PUT some love, POST the cutest smile, and DELETE my bad day.',\n",
       " 'I used to know a joke about Java, but I run out of memory.',\n",
       " 'My girlfriend dumped me after I named a class after her. She felt I treated her like an object.',\n",
       " 'Girl: Do you drink? Programmer: No. Girl: Have Girlfriend? Programmer: No. Girl: Then how do you enjoy life? Programmer: I am Programmer',\n",
       " 'A Programmer was walking out of door for work, his wife said \"while you\\'re out, buy some milk\" and he never returned.',\n",
       " 'A: What is your address? Me: 173.168.15.10 A: No, your local address Me: 127.0.0.1 A: I mean your physical address B: 29:01:38:62:31:58',\n",
       " 'Why do programmers always mix up Halloween and Christmas? Because Oct 31 equals Dec 25.',\n",
       " 'Programming is 10% science, 20% ingenuity, and 70% getting the ingenuity to work with the science.',\n",
       " 'There are three kinds of lies: Lies, damned lies, and benchmarks.',\n",
       " 'All programmers are playwrights, and all computers are lousy actors.',\n",
       " \"Have you heard about the new Cray super computer? It's so fast, it executes an infinite loop in 6 seconds.\",\n",
       " 'The generation of random numbers is too important to be left to chance.',\n",
       " 'I just saw my life flash before my eyes and all I could see was a close tag.',\n",
       " 'The computer is mightier than the pen, the sword, and usually, the programmer',\n",
       " 'Debugging: Removing the needles from the haystack.',\n",
       " 'If doctors were like software engineers, they would say things like Have you tried killing yourself and being reborn?',\n",
       " 'Debugging is like being the detective in a crime drama where you are also the murderer.',\n",
       " 'The best thing about a Boolean is that even if you are wrong, you are only off by a bit.',\n",
       " 'If you listen to a UNIX shell, can you hear the C?',\n",
       " \"Why do Java programmers have to wear glasses? Because they don't C#.\",\n",
       " 'When Apple employees die, does their life HTML5 in front of their eyes?',\n",
       " 'What did the router say to the doctor? It hurts when IP.',\n",
       " 'Learning JavaScript is like looking both ways before you cross the street, and then getting hit by an airplane.',\n",
       " 'I for one am excited for the days when dereferencing a null pointer causes an aneurysm.',\n",
       " 'Debugging is like an onion. There are multiple layers to it, and the more you peel them back.',\n",
       " \"When your code does not change color automatically, Something's wrong, I can feel it.\",\n",
       " 'I have a joke on programming but it only works on my computer.',\n",
       " \"Why do you always use i and j variales in loops? It's the law......\",\n",
       " 'As far as we know, our computer has never had an undetected error.',\n",
       " 'A user friendly computer first requires a friendly user.',\n",
       " \"Bug? That's not a bug, that's a feature.\",\n",
       " 'Buy a Pentium 586/200 so you can reboot faster.',\n",
       " \"Computer analyst to programmer: You start coding. I'll go find out what they want.\",\n",
       " 'Computer programmers do it byte by byte.',\n",
       " \"Don't compute and drive; the life you save may be your own.\",\n",
       " 'How an engineer writes a program: Start by debugging an empty file...',\n",
       " \"If at first you don't succeed, call it version 1.0.\",\n",
       " 'I have a dream: 1073741824 bytes free.',\n",
       " \"I haven't lost my mind; it's backed up on tape somewhere.\",\n",
       " 'Is reading in the bathroom considered Multi-Tasking.',\n",
       " \"Never say 'OOPS!' always say 'Ah, Interesting!'\",\n",
       " \"One person's error is another person's data.\",\n",
       " 'Press CTRL-ALT-DEL to continue....',\n",
       " \"Programmer's Time-Space Continuum: Programmers continuously space the time.\",\n",
       " 'Speed Kills! Use Windows.',\n",
       " \"The box said: 'install on Windows 95, NT 4.0 or better'. So I installed it on Linux.\",\n",
       " 'The program is absolutely right; therefore the computer must be wrong.',\n",
       " \"There are only 10 types of people in this world: those who understand binary, and those who don't.\",\n",
       " 'There were computers in Biblical times. Eve had an Apple.',\n",
       " 'Those who can, do. Those who cannot, teach. Those who cannot teach, HACK!',\n",
       " 'User error: replace user and press any key to continue.',\n",
       " 'Warning, keyboard not found. Press Enter to continue.',\n",
       " \"Why do they call this a word processor? It's simple, ... you've seen what food processors do to food, right?\",\n",
       " 'Why do we want intelligent terminals when there are so many stupid users?',\n",
       " 'Windows is NOT a virus. Viruses DO something.',\n",
       " 'WINDOWS stands for Will Install Needless Data On Whole System.',\n",
       " 'You are making progress if each mistake is a new one.',\n",
       " 'You had mail, but the super-user read it, and deleted it!',\n",
       " 'You never finish a program, you just stop working on it.',\n",
       " \"You don't have to know how the computer works, just how to work the computer.\",\n",
       " \"You forgot to do your backup 16 days ago. Tomorrow you'll need that version.\",\n",
       " \"I love pressing the F5 key. It's refreshing.\",\n",
       " 'My favourite computer based band is the Black IPs.',\n",
       " \"Why was the developer bankrupt? He'd used all his cache.\",\n",
       " \"A friend is in a band called 1023Mb. They haven't had a gig yet.\",\n",
       " \"Apparently my password needs to be capitals only so I've changed it to LONDONMADRIDROME\",\n",
       " \"I changed my password to BeefStew but the computer told me it wasn't Stroganoff.\",\n",
       " \"Changed my password to fortnight but apparently that's two week.\",\n",
       " 'Artificial intelligence usually beats real stupidity.',\n",
       " 'The Internet: where men are men, women are men, and children are FBI agents.',\n",
       " 'Bugs come in through open Windows.',\n",
       " \"Unix is user friendly. It's just selective about who its friends are.\",\n",
       " 'Failure is not an option. It comes bundled with your Microsoft product.',\n",
       " 'Computers are like air conditioners: they stop working when you open Windows.',\n",
       " 'Beware of programmers that carry screwdrivers.',\n",
       " \"I'm not anti-social; I'm just not user friendly.\",\n",
       " 'Hey! It compiles! Ship it!',\n",
       " \"If Ruby is not and Perl is the answer, you don't understand the question.\",\n",
       " \"My attitude isn't bad. It's in beta.\",\n",
       " 'Programmers are tools for converting caffeine into code.',\n",
       " \"There are three kinds of people: those who can count and those who can't.\",\n",
       " 'Why do programmers prefer dark mode? Because light attracts bugs.']"
      ]
     },
     "execution_count": 8,
     "metadata": {},
     "output_type": "execute_result"
    },
    {
     "name": "stderr",
     "output_type": "stream",
     "text": [
      "QSocketNotifier: Can only be used with threads started with QThread\n"
     ]
    },
    {
     "name": "stdout",
     "output_type": "stream",
     "text": [
      "Abriendo en una sesión existente del navegador\n"
     ]
    }
   ],
   "source": [
    "# cambia 'neutral' por 'adult' bajo tu propia responsabilidad (algunos chistes pueden resultarte ofensivos)\n",
    "pyjokes.jokes_en.jokes_en['neutral']"
   ]
  }
 ],
 "metadata": {
  "anaconda-cloud": {},
  "celltoolbar": "Slideshow",
  "kernelspec": {
   "display_name": "dataScience",
   "language": "python",
   "name": "python3"
  },
  "language_info": {
   "codemirror_mode": {
    "name": "ipython",
    "version": 3
   },
   "file_extension": ".py",
   "mimetype": "text/x-python",
   "name": "python",
   "nbconvert_exporter": "python",
   "pygments_lexer": "ipython3",
   "version": "3.9.21"
  },
  "nbpresent": {
   "slides": {
    "01c00cd7-6e41-483f-a6a7-56694cd71b4c": {
     "id": "01c00cd7-6e41-483f-a6a7-56694cd71b4c",
     "prev": "1564e321-42db-472c-9da0-de7565e38893",
     "regions": {
      "d66b49ab-54a1-4dde-9deb-45a123a84ceb": {
       "attrs": {
        "height": 0.8,
        "width": 0.8,
        "x": 0.1,
        "y": 0.1
       },
       "content": {
        "cell": "fc47db58-1081-4763-885b-2f6f61beaa25",
        "part": "whole"
       },
       "id": "d66b49ab-54a1-4dde-9deb-45a123a84ceb"
      }
     }
    },
    "1564e321-42db-472c-9da0-de7565e38893": {
     "id": "1564e321-42db-472c-9da0-de7565e38893",
     "prev": "eecee4cb-a97b-492c-8bb4-45cf50f0e85c",
     "regions": {
      "4f03b8e5-553c-4605-b49e-267b0b6c086f": {
       "attrs": {
        "height": 0.8,
        "width": 0.8,
        "x": 0.1,
        "y": 0.1
       },
       "content": {
        "cell": "57e2b216-f721-4b20-b9d6-2117cd151dcb",
        "part": "whole"
       },
       "id": "4f03b8e5-553c-4605-b49e-267b0b6c086f"
      }
     }
    },
    "16883615-90e3-4ea7-9c16-58a5740e3512": {
     "id": "16883615-90e3-4ea7-9c16-58a5740e3512",
     "prev": "e41f3d6f-1ef8-4a68-b954-1312b5afb247",
     "regions": {
      "8b5dec8c-9b5c-4801-8a2c-6b126dde26ca": {
       "attrs": {
        "height": 0.4,
        "width": 0.8,
        "x": 0.1,
        "y": 0.5
       },
       "content": {
        "cell": "af8c1f9f-f4cf-4d9d-9c9e-fde2ec27227e",
        "part": "whole"
       },
       "id": "8b5dec8c-9b5c-4801-8a2c-6b126dde26ca"
      },
      "ce93106d-ddde-41d3-9c24-e191ac100453": {
       "attrs": {
        "height": 0.8,
        "width": 0.8,
        "x": 0.1,
        "y": 0.1
       },
       "content": {
        "cell": "9ed96586-10bc-4975-866d-0087758083e2",
        "part": "whole"
       },
       "id": "ce93106d-ddde-41d3-9c24-e191ac100453"
      }
     }
    },
    "189da0b2-45b3-4ea6-b2c4-0e046617b5d8": {
     "id": "189da0b2-45b3-4ea6-b2c4-0e046617b5d8",
     "prev": "d866144e-a031-4f5c-9267-7069bf5c5a61",
     "regions": {
      "a09e986e-399d-4e77-9c86-5257e2dec89f": {
       "attrs": {
        "height": 0.8,
        "width": 0.8,
        "x": 0.1,
        "y": 0.1
       },
       "content": {
        "cell": "2faa7bf2-1937-4ef6-88a8-66c902ff4f67",
        "part": "whole"
       },
       "id": "a09e986e-399d-4e77-9c86-5257e2dec89f"
      },
      "b87cd366-1613-4f63-be79-3ebe7430aa22": {
       "attrs": {
        "height": 0.4,
        "width": 0.8,
        "x": 0.1,
        "y": 0.5
       },
       "content": {
        "cell": "73c54e57-5e9c-421a-9e35-4740c338d1a5",
        "part": "whole"
       },
       "id": "b87cd366-1613-4f63-be79-3ebe7430aa22"
      }
     }
    },
    "2cdbf33f-8e89-4e73-b199-66489afcadf7": {
     "id": "2cdbf33f-8e89-4e73-b199-66489afcadf7",
     "prev": "eaf7d7b3-3050-47bd-9efd-a16a79e044b2",
     "regions": {
      "8c96f9ff-8bf0-4de5-9b41-f492a697b263": {
       "attrs": {
        "height": 0.8,
        "width": 0.8,
        "x": 0.1,
        "y": 0.1
       },
       "content": {
        "cell": "668c065a-f472-4ede-882d-dba2dd929df2",
        "part": "whole"
       },
       "id": "8c96f9ff-8bf0-4de5-9b41-f492a697b263"
      }
     }
    },
    "39fc6e3e-4861-456f-8707-06aa4313477c": {
     "id": "39fc6e3e-4861-456f-8707-06aa4313477c",
     "prev": "80dd70db-5338-4dab-867a-5fa2ddd0142a",
     "regions": {
      "72619a0f-5352-40cb-a458-de32363cd7b9": {
       "attrs": {
        "height": 0.4,
        "width": 0.8,
        "x": 0.1,
        "y": 0.5
       },
       "content": {
        "cell": "b87dec4c-0fd4-4120-ad9a-420012478e60",
        "part": "whole"
       },
       "id": "72619a0f-5352-40cb-a458-de32363cd7b9"
      },
      "dace0dd3-c58b-4ad8-af5f-8ee3f98aa474": {
       "attrs": {
        "height": 0.8,
        "width": 0.8,
        "x": 0.1,
        "y": 0.1
       },
       "content": {
        "cell": "6cc96f8a-f04f-4598-a754-270afe185327",
        "part": "whole"
       },
       "id": "dace0dd3-c58b-4ad8-af5f-8ee3f98aa474"
      }
     }
    },
    "3c41447e-b298-4c9a-8d04-df1032085db5": {
     "id": "3c41447e-b298-4c9a-8d04-df1032085db5",
     "prev": "c2c9c945-d405-4570-95bd-8c345b5a8e0f",
     "regions": {
      "6fed2da9-d0a9-4f8d-8287-fd2fb882f8fb": {
       "attrs": {
        "height": 0.8,
        "width": 0.8,
        "x": 0.1,
        "y": 0.1
       },
       "content": {
        "cell": "32087d5a-553e-423c-99d0-07295f844d74",
        "part": "whole"
       },
       "id": "6fed2da9-d0a9-4f8d-8287-fd2fb882f8fb"
      }
     }
    },
    "3e1bb488-4af0-4ac0-84a6-866beb01fd89": {
     "id": "3e1bb488-4af0-4ac0-84a6-866beb01fd89",
     "prev": "5ffc987b-aae2-466f-9646-e53c20ab8ba8",
     "regions": {
      "db0a92bb-0d07-41ec-aa51-ca821fcace72": {
       "attrs": {
        "height": 0.8,
        "width": 0.8,
        "x": 0.1,
        "y": 0.1
       },
       "content": {
        "cell": "2b9c23eb-a1e1-4814-8330-0c38dd7322d8",
        "part": "whole"
       },
       "id": "db0a92bb-0d07-41ec-aa51-ca821fcace72"
      }
     }
    },
    "4c0bf905-2f7c-4229-9983-d951e026cdcd": {
     "id": "4c0bf905-2f7c-4229-9983-d951e026cdcd",
     "prev": "f62cfb85-9b63-4a91-ad72-76a0dd8e14b6",
     "regions": {
      "1c79ff63-0853-490d-a435-0a68a4079792": {
       "attrs": {
        "height": 0.8,
        "width": 0.8,
        "x": 0.1,
        "y": 0.1
       },
       "content": {
        "cell": "2222db2c-46e4-4b97-998d-03d10a4a5f1d",
        "part": "whole"
       },
       "id": "1c79ff63-0853-490d-a435-0a68a4079792"
      },
      "c321753b-eb67-42a1-87bb-6c96ba9d518d": {
       "attrs": {
        "height": 0.4,
        "width": 0.8,
        "x": 0.1,
        "y": 0.5
       },
       "content": {
        "cell": "6e033a24-643a-4d91-b6df-8c976d3bec7c",
        "part": "whole"
       },
       "id": "c321753b-eb67-42a1-87bb-6c96ba9d518d"
      }
     }
    },
    "5655c65e-2fcb-4d68-916d-cc41e903c04e": {
     "id": "5655c65e-2fcb-4d68-916d-cc41e903c04e",
     "prev": null,
     "regions": {
      "7106eb55-f6b8-4b36-baa5-afdb80123e37": {
       "attrs": {
        "height": 0.8,
        "width": 0.8,
        "x": 0.1,
        "y": 0.1
       },
       "content": {
        "cell": "b8300535-6e4c-460b-b499-7db5c12d363e",
        "part": "whole"
       },
       "id": "7106eb55-f6b8-4b36-baa5-afdb80123e37"
      }
     }
    },
    "5ffc987b-aae2-466f-9646-e53c20ab8ba8": {
     "id": "5ffc987b-aae2-466f-9646-e53c20ab8ba8",
     "prev": "7e51c3c7-8d84-4e7f-92f9-f1d35093e3d6",
     "regions": {
      "f17c5d9a-224c-4a26-b384-ae1e7baa64b1": {
       "attrs": {
        "height": 0.8,
        "width": 0.8,
        "x": 0.1,
        "y": 0.1
       },
       "content": {
        "cell": "82bea5fe-9e8d-4406-ac9f-0372631be978",
        "part": "whole"
       },
       "id": "f17c5d9a-224c-4a26-b384-ae1e7baa64b1"
      }
     }
    },
    "75b261c4-860e-4c0b-b702-7119d8bef002": {
     "id": "75b261c4-860e-4c0b-b702-7119d8bef002",
     "prev": "4c0bf905-2f7c-4229-9983-d951e026cdcd",
     "regions": {
      "6b81024b-5c86-4311-97b7-df14141d905a": {
       "attrs": {
        "height": 0.8,
        "width": 0.8,
        "x": 0.1,
        "y": 0.1
       },
       "content": {
        "cell": "c2c81500-78b1-4f18-b05a-7810da9becd5",
        "part": "whole"
       },
       "id": "6b81024b-5c86-4311-97b7-df14141d905a"
      }
     }
    },
    "7e51c3c7-8d84-4e7f-92f9-f1d35093e3d6": {
     "id": "7e51c3c7-8d84-4e7f-92f9-f1d35093e3d6",
     "prev": "f3b03c6b-d0f4-4ff5-9aab-1f6dc4cddec9",
     "regions": {
      "3bfb1fb1-ab7e-44ed-a49a-cda82f200688": {
       "attrs": {
        "height": 0.8,
        "width": 0.8,
        "x": 0.1,
        "y": 0.1
       },
       "content": {
        "cell": "67879a71-84fb-41fd-97c8-84dd9d0c8828",
        "part": "whole"
       },
       "id": "3bfb1fb1-ab7e-44ed-a49a-cda82f200688"
      }
     }
    },
    "80dd70db-5338-4dab-867a-5fa2ddd0142a": {
     "id": "80dd70db-5338-4dab-867a-5fa2ddd0142a",
     "prev": "83b21fd0-959a-464f-a625-3d814ec05550",
     "regions": {
      "b19738fd-4324-40c2-84c4-c2f2955f1afa": {
       "attrs": {
        "height": 0.4,
        "width": 0.8,
        "x": 0.1,
        "y": 0.5
       },
       "content": {
        "cell": "b9556e46-e813-410b-8380-940f1e7d6895",
        "part": "whole"
       },
       "id": "b19738fd-4324-40c2-84c4-c2f2955f1afa"
      },
      "c6e4cfd0-9c2c-472b-805b-cb8dd85ec665": {
       "attrs": {
        "height": 0.8,
        "width": 0.8,
        "x": 0.1,
        "y": 0.1
       },
       "content": {
        "cell": "cc51c927-6cfa-4b06-be63-7f79b196838d",
        "part": "whole"
       },
       "id": "c6e4cfd0-9c2c-472b-805b-cb8dd85ec665"
      }
     }
    },
    "83b21fd0-959a-464f-a625-3d814ec05550": {
     "id": "83b21fd0-959a-464f-a625-3d814ec05550",
     "prev": "01c00cd7-6e41-483f-a6a7-56694cd71b4c",
     "regions": {
      "28db094a-fff9-4712-b55e-d111c042469a": {
       "attrs": {
        "height": 0.8,
        "width": 0.8,
        "x": 0.1,
        "y": 0.1
       },
       "content": {
        "cell": "4062eb4e-d2d9-4897-a7f5-ea566d66be2b",
        "part": "whole"
       },
       "id": "28db094a-fff9-4712-b55e-d111c042469a"
      }
     }
    },
    "997149ce-2892-471f-b7b1-8ff2a59c9b08": {
     "id": "997149ce-2892-471f-b7b1-8ff2a59c9b08",
     "prev": "a33602e1-63ea-46d3-9e2f-1b5cebea19ce",
     "regions": {
      "229431c7-984f-47b1-bf9e-ba17d5422a81": {
       "attrs": {
        "height": 0.4,
        "width": 0.8,
        "x": 0.1,
        "y": 0.5
       },
       "content": {
        "cell": "5a8a0f4b-5e36-4764-aafd-8f430f1ad167",
        "part": "whole"
       },
       "id": "229431c7-984f-47b1-bf9e-ba17d5422a81"
      },
      "cd7f8b38-8fc7-47ec-a762-61c68cfd98c9": {
       "attrs": {
        "height": 0.8,
        "width": 0.8,
        "x": 0.1,
        "y": 0.1
       },
       "content": {
        "cell": "c0ba2309-4fe8-4458-b549-341adf9d72ec",
        "part": "whole"
       },
       "id": "cd7f8b38-8fc7-47ec-a762-61c68cfd98c9"
      }
     }
    },
    "a1afb0a6-66e2-4c3c-9d2c-177a26af30b1": {
     "id": "a1afb0a6-66e2-4c3c-9d2c-177a26af30b1",
     "prev": "f6245d61-28c5-4acc-8fcd-561772176fb3",
     "regions": {
      "e885eacd-42c2-4fd5-962a-d5da4b4b5aa5": {
       "attrs": {
        "height": 0.8,
        "width": 0.8,
        "x": 0.1,
        "y": 0.1
       },
       "content": {
        "cell": "7e4af3de-a456-430f-8789-ca4f19762842",
        "part": "whole"
       },
       "id": "e885eacd-42c2-4fd5-962a-d5da4b4b5aa5"
      }
     }
    },
    "a33602e1-63ea-46d3-9e2f-1b5cebea19ce": {
     "id": "a33602e1-63ea-46d3-9e2f-1b5cebea19ce",
     "prev": "a1afb0a6-66e2-4c3c-9d2c-177a26af30b1",
     "regions": {
      "f67abe85-0180-4ccd-b485-467506806ea1": {
       "attrs": {
        "height": 0.8,
        "width": 0.8,
        "x": 0.1,
        "y": 0.1
       },
       "content": {
        "cell": "821158e4-9adb-4940-a4fa-85c1e226b115",
        "part": "whole"
       },
       "id": "f67abe85-0180-4ccd-b485-467506806ea1"
      }
     }
    },
    "c2c9c945-d405-4570-95bd-8c345b5a8e0f": {
     "id": "c2c9c945-d405-4570-95bd-8c345b5a8e0f",
     "prev": "c2edea1d-3bfb-44ec-87f4-e8252106b1bf",
     "regions": {
      "0c1cc2db-215b-4b12-80d2-ca6d6fb54128": {
       "attrs": {
        "height": 0.8,
        "width": 0.8,
        "x": 0.1,
        "y": 0.1
       },
       "content": {
        "cell": "c4650f03-9a0c-40f5-b3cc-4178ff1ff829",
        "part": "whole"
       },
       "id": "0c1cc2db-215b-4b12-80d2-ca6d6fb54128"
      }
     }
    },
    "c2edea1d-3bfb-44ec-87f4-e8252106b1bf": {
     "id": "c2edea1d-3bfb-44ec-87f4-e8252106b1bf",
     "prev": "3e1bb488-4af0-4ac0-84a6-866beb01fd89",
     "regions": {
      "2a144fef-937c-4eab-85d7-8b432f6d4711": {
       "attrs": {
        "height": 0.8,
        "width": 0.8,
        "x": 0.1,
        "y": 0.1
       },
       "content": {
        "cell": "3af15181-95b0-4e38-ab56-e8b7500f0752",
        "part": "whole"
       },
       "id": "2a144fef-937c-4eab-85d7-8b432f6d4711"
      }
     }
    },
    "ccaa9481-4f8f-4a38-996d-b3a22ac2b02a": {
     "id": "ccaa9481-4f8f-4a38-996d-b3a22ac2b02a",
     "prev": "75b261c4-860e-4c0b-b702-7119d8bef002",
     "regions": {
      "ff8685ce-4467-45e7-9d6d-ecc87169b60a": {
       "attrs": {
        "height": 0.8,
        "width": 0.8,
        "x": 0.1,
        "y": 0.1
       },
       "content": {
        "cell": "c301692d-1655-490b-bff4-d3c71f6290ae",
        "part": "whole"
       },
       "id": "ff8685ce-4467-45e7-9d6d-ecc87169b60a"
      }
     }
    },
    "d866144e-a031-4f5c-9267-7069bf5c5a61": {
     "id": "d866144e-a031-4f5c-9267-7069bf5c5a61",
     "prev": "997149ce-2892-471f-b7b1-8ff2a59c9b08",
     "regions": {
      "6dba5361-59b7-4d33-8259-b20c899f068f": {
       "attrs": {
        "height": 0.8,
        "width": 0.8,
        "x": 0.1,
        "y": 0.1
       },
       "content": {
        "cell": "cf492abd-b934-451f-9984-2462dab013f3",
        "part": "whole"
       },
       "id": "6dba5361-59b7-4d33-8259-b20c899f068f"
      }
     }
    },
    "d9faafe9-11a9-4f13-93ab-36d251e61db0": {
     "id": "d9faafe9-11a9-4f13-93ab-36d251e61db0",
     "prev": "ccaa9481-4f8f-4a38-996d-b3a22ac2b02a",
     "regions": {
      "8bb079d8-fb93-4a3b-84ff-058d87e37900": {
       "attrs": {
        "height": 0.8,
        "width": 0.8,
        "x": 0.1,
        "y": 0.1
       },
       "content": {
        "cell": "386910eb-638d-433f-8654-dfd348af81ef",
        "part": "whole"
       },
       "id": "8bb079d8-fb93-4a3b-84ff-058d87e37900"
      },
      "c759fa18-5057-4597-9723-4742539d17ad": {
       "attrs": {
        "height": 0.4,
        "width": 0.8,
        "x": 0.1,
        "y": 0.5
       },
       "content": {
        "cell": "e6640e12-ed13-4dc8-8fae-5dc2fbc61320",
        "part": "whole"
       },
       "id": "c759fa18-5057-4597-9723-4742539d17ad"
      }
     }
    },
    "e41f3d6f-1ef8-4a68-b954-1312b5afb247": {
     "id": "e41f3d6f-1ef8-4a68-b954-1312b5afb247",
     "prev": "3c41447e-b298-4c9a-8d04-df1032085db5",
     "regions": {
      "1f8eea0f-96d6-41ce-a66e-0875c079c000": {
       "attrs": {
        "height": 0.8,
        "width": 0.8,
        "x": 0.1,
        "y": 0.1
       },
       "content": {
        "cell": "ee7d8911-498f-402e-bddf-c4b3146f299d",
        "part": "whole"
       },
       "id": "1f8eea0f-96d6-41ce-a66e-0875c079c000"
      }
     }
    },
    "e438a110-f873-4e36-b3dc-236fe511fb1f": {
     "id": "e438a110-f873-4e36-b3dc-236fe511fb1f",
     "prev": "d9faafe9-11a9-4f13-93ab-36d251e61db0",
     "regions": {
      "8f17b38f-4685-4a12-8bfd-3d6801dd8e23": {
       "attrs": {
        "height": 0.8,
        "width": 0.8,
        "x": 0.1,
        "y": 0.1
       },
       "content": {
        "cell": "551ef9ec-2a33-4b1c-9ce3-f61a858ea6df",
        "part": "whole"
       },
       "id": "8f17b38f-4685-4a12-8bfd-3d6801dd8e23"
      }
     }
    },
    "e5a42f99-251d-4b55-a771-1d6db0534246": {
     "id": "e5a42f99-251d-4b55-a771-1d6db0534246",
     "prev": "16883615-90e3-4ea7-9c16-58a5740e3512",
     "regions": {
      "d55c273f-7f89-42fe-a193-57026c194696": {
       "attrs": {
        "height": 0.8,
        "width": 0.8,
        "x": 0.1,
        "y": 0.1
       },
       "content": {
        "cell": "f5a436b1-aa2e-41af-9ec7-3381cf16c482",
        "part": "whole"
       },
       "id": "d55c273f-7f89-42fe-a193-57026c194696"
      }
     }
    },
    "eaf7d7b3-3050-47bd-9efd-a16a79e044b2": {
     "id": "eaf7d7b3-3050-47bd-9efd-a16a79e044b2",
     "prev": "5655c65e-2fcb-4d68-916d-cc41e903c04e",
     "regions": {
      "23bf0ecd-3d44-4900-86ac-90847d7c9d70": {
       "attrs": {
        "height": 0.8,
        "width": 0.8,
        "x": 0.1,
        "y": 0.1
       },
       "content": {
        "cell": "6f8fb067-9e3c-4be0-855a-5b238269cec8",
        "part": "whole"
       },
       "id": "23bf0ecd-3d44-4900-86ac-90847d7c9d70"
      }
     }
    },
    "eecee4cb-a97b-492c-8bb4-45cf50f0e85c": {
     "id": "eecee4cb-a97b-492c-8bb4-45cf50f0e85c",
     "prev": "e438a110-f873-4e36-b3dc-236fe511fb1f",
     "regions": {
      "868ede22-18ce-42bb-817d-f36c2308c204": {
       "attrs": {
        "height": 0.8,
        "width": 0.8,
        "x": 0.1,
        "y": 0.1
       },
       "content": {
        "cell": "8081a668-ef24-4987-88ab-43e94825f5e3",
        "part": "whole"
       },
       "id": "868ede22-18ce-42bb-817d-f36c2308c204"
      }
     }
    },
    "f3b03c6b-d0f4-4ff5-9aab-1f6dc4cddec9": {
     "id": "f3b03c6b-d0f4-4ff5-9aab-1f6dc4cddec9",
     "prev": "39fc6e3e-4861-456f-8707-06aa4313477c",
     "regions": {
      "82bac27c-f0c0-4cd6-b7aa-6ae9951cebe3": {
       "attrs": {
        "height": 0.8,
        "width": 0.8,
        "x": 0.1,
        "y": 0.1
       },
       "content": {
        "cell": "4ae3590e-3c7d-4751-b03e-243976c64ad4",
        "part": "whole"
       },
       "id": "82bac27c-f0c0-4cd6-b7aa-6ae9951cebe3"
      }
     }
    },
    "f6245d61-28c5-4acc-8fcd-561772176fb3": {
     "id": "f6245d61-28c5-4acc-8fcd-561772176fb3",
     "prev": "e5a42f99-251d-4b55-a771-1d6db0534246",
     "regions": {
      "296c358b-6d08-4588-b4e6-c433902e88b8": {
       "attrs": {
        "height": 0.8,
        "width": 0.8,
        "x": 0.1,
        "y": 0.1
       },
       "content": {
        "cell": "0a7398d6-6726-4258-b8f7-39063804cabe",
        "part": "whole"
       },
       "id": "296c358b-6d08-4588-b4e6-c433902e88b8"
      },
      "a2cfa2aa-8a31-47bc-a089-4d6e12bf56cf": {
       "attrs": {
        "height": 0.4,
        "width": 0.8,
        "x": 0.1,
        "y": 0.5
       },
       "content": {
        "cell": "8a27c354-3e53-47b0-8317-60995594175e",
        "part": "whole"
       },
       "id": "a2cfa2aa-8a31-47bc-a089-4d6e12bf56cf"
      },
      "b49a2955-09b4-4f17-9834-c4dcf4f63a82": {
       "attrs": {
        "height": 0.4,
        "width": 0.8,
        "x": 0.1,
        "y": 0.5
       },
       "content": {
        "cell": "0a274f3a-6d07-471b-8924-b4e318f11ce6",
        "part": "whole"
       },
       "id": "b49a2955-09b4-4f17-9834-c4dcf4f63a82"
      }
     }
    },
    "f62cfb85-9b63-4a91-ad72-76a0dd8e14b6": {
     "id": "f62cfb85-9b63-4a91-ad72-76a0dd8e14b6",
     "prev": "2cdbf33f-8e89-4e73-b199-66489afcadf7",
     "regions": {
      "859492fe-db5e-4aa7-a77e-a1de91c2669b": {
       "attrs": {
        "height": 0.8,
        "width": 0.8,
        "x": 0.1,
        "y": 0.1
       },
       "content": {
        "cell": "bffc4427-4d54-41bc-9084-a6257ad63d05",
        "part": "whole"
       },
       "id": "859492fe-db5e-4aa7-a77e-a1de91c2669b"
      },
      "d92645e2-9794-4a1b-b705-4bb04ebcd2e8": {
       "attrs": {
        "height": 0.4,
        "width": 0.8,
        "x": 0.1,
        "y": 0.5
       },
       "content": {
        "cell": "1af1cb42-399f-4e63-a772-6419fc5cc2d2",
        "part": "whole"
       },
       "id": "d92645e2-9794-4a1b-b705-4bb04ebcd2e8"
      }
     }
    }
   },
   "themes": {}
  }
 },
 "nbformat": 4,
 "nbformat_minor": 1
}
