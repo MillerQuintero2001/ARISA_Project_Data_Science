{
 "cells": [
  {
   "cell_type": "markdown",
   "metadata": {},
   "source": [
    "## EJERCICIO 1 - BASICO"
   ]
  },
  {
   "cell_type": "markdown",
   "metadata": {},
   "source": [
    "El fichero datos_pago_microcreditos.csv contiene 30000 transacciones bancarias relativas al pago o impago de microcreditos. El dataset consta de 62 dimensiones propietarias de las cuales el banco no ha proporcionado informacion por confidencialidad, a parte de su valor. La matriz de entrada se encuentra en x_train, e y_train contiene la etiqueta relativa a esa transaccion, un 1 indica que si se pago el microcredito y un 0 que no se pago."
   ]
  },
  {
   "cell_type": "markdown",
   "metadata": {},
   "source": [
    "Considera que el tamaño del dataset es lo suficientemente grande como para, dependiendo de los recursos de la maquina, poder tardar varios minutos en entrenar modelos complejos. "
   ]
  },
  {
   "cell_type": "markdown",
   "metadata": {},
   "source": [
    "Ejecuta el codigo inicial para estandarizar los dartos y contesta las preguntas."
   ]
  },
  {
   "cell_type": "code",
   "execution_count": null,
   "metadata": {},
   "outputs": [],
   "source": []
  },
  {
   "cell_type": "code",
   "execution_count": 1,
   "metadata": {},
   "outputs": [],
   "source": [
    "import pandas as pd\n",
    "import numpy as np\n",
    "from sklearn.model_selection import train_test_split"
   ]
  },
  {
   "cell_type": "code",
   "execution_count": 2,
   "metadata": {
    "scrolled": true
   },
   "outputs": [],
   "source": [
    "data_file='datos_pago_microcreditos.csv'\n",
    "\n",
    "pdl=pd.read_csv(data_file)"
   ]
  },
  {
   "cell_type": "code",
   "execution_count": 3,
   "metadata": {},
   "outputs": [
    {
     "name": "stdout",
     "output_type": "stream",
     "text": [
      "   payment var1 var2  var3   var4   var5   var6   var7  var8 var9  ...  var21  \\\n",
      "0  Success   qw   hk  3.11  16.06  -4.60  22.34  13.53  1.53   nv  ...   8.94   \n",
      "1   Denied   qw   rv  3.35  11.18 -18.55   6.68  12.78  6.62   nv  ...  31.02   \n",
      "2   Denied   qw   zg  4.15  29.19  18.91  16.40   3.67  5.72   ch  ...  23.26   \n",
      "3  Success   wv   js  6.23  15.70   2.81   4.46   5.13  8.66   ja  ...  29.25   \n",
      "4  Success   ma   xn  1.28  20.71  14.98  11.19  17.66  1.13   nv  ...   2.19   \n",
      "\n",
      "   var22  var23  var24  var25  var26  var27 var28  var29  var30  \n",
      "0 -12.76     ub  12.06   2.46   4.73  -1.72  0.91     ev   8.00  \n",
      "1  34.76     cz   1.44   9.44  13.56  -2.24  0.24     ev  -2.90  \n",
      "2   9.50     ri   7.77   8.70  -1.75   5.96  1.91     ev  22.67  \n",
      "3  -1.53     ri   8.94  19.33  23.73   5.54  0.85     ev  36.31  \n",
      "4  10.24     ub   8.92   5.48  -0.28   4.01  1.21     ev  11.33  \n",
      "\n",
      "[5 rows x 31 columns]\n"
     ]
    }
   ],
   "source": [
    "print(pdl.head())\n"
   ]
  },
  {
   "cell_type": "code",
   "execution_count": 4,
   "metadata": {},
   "outputs": [
    {
     "name": "stdout",
     "output_type": "stream",
     "text": [
      "<class 'pandas.core.frame.DataFrame'>\n",
      "RangeIndex: 30000 entries, 0 to 29999\n",
      "Data columns (total 31 columns):\n",
      " #   Column   Non-Null Count  Dtype  \n",
      "---  ------   --------------  -----  \n",
      " 0   payment  30000 non-null  object \n",
      " 1   var1     30000 non-null  object \n",
      " 2   var2     30000 non-null  object \n",
      " 3   var3     30000 non-null  float64\n",
      " 4   var4     30000 non-null  float64\n",
      " 5   var5     30000 non-null  float64\n",
      " 6   var6     30000 non-null  float64\n",
      " 7   var7     30000 non-null  float64\n",
      " 8   var8     30000 non-null  float64\n",
      " 9   var9     30000 non-null  object \n",
      " 10  var10    30000 non-null  object \n",
      " 11  var11    30000 non-null  object \n",
      " 12  var12    30000 non-null  float64\n",
      " 13  var13    30000 non-null  object \n",
      " 14  var14    30000 non-null  float64\n",
      " 15  var15    30000 non-null  float64\n",
      " 16  var16    30000 non-null  float64\n",
      " 17  var17    30000 non-null  object \n",
      " 18  var18    30000 non-null  float64\n",
      " 19  var19    30000 non-null  object \n",
      " 20  var20    30000 non-null  float64\n",
      " 21  var21    30000 non-null  float64\n",
      " 22  var22    30000 non-null  float64\n",
      " 23  var23    30000 non-null  object \n",
      " 24  var24    30000 non-null  float64\n",
      " 25  var25    30000 non-null  float64\n",
      " 26  var26    30000 non-null  float64\n",
      " 27  var27    30000 non-null  float64\n",
      " 28  var28    30000 non-null  float64\n",
      " 29  var29    30000 non-null  object \n",
      " 30  var30    30000 non-null  float64\n",
      "dtypes: float64(20), object(11)\n",
      "memory usage: 7.1+ MB\n",
      "None\n"
     ]
    }
   ],
   "source": [
    "print(pdl.info())"
   ]
  },
  {
   "cell_type": "code",
   "execution_count": 5,
   "metadata": {},
   "outputs": [
    {
     "name": "stdout",
     "output_type": "stream",
     "text": [
      "               var3          var4          var5          var6          var7  \\\n",
      "count  30000.000000  30000.000000  30000.000000  30000.000000  30000.000000   \n",
      "mean       3.018848     13.941943     19.981561      8.009453      9.110358   \n",
      "std        3.004458     14.028019     19.866781      8.013395      8.976009   \n",
      "min       -8.190000    -43.660000    -55.100000    -23.630000    -27.580000   \n",
      "25%        0.990000      4.450000      6.520000      2.550000      3.050000   \n",
      "50%        3.040000     13.920000     19.980000      8.010000      9.170000   \n",
      "75%        5.040000     23.520000     33.452500     13.430000     15.152500   \n",
      "max       15.160000     76.780000    107.080000     44.330000     48.390000   \n",
      "\n",
      "               var8         var12         var14         var15         var16  \\\n",
      "count  30000.000000  30000.000000  30000.000000  30000.000000  30000.000000   \n",
      "mean       5.993785      7.020662      2.007760     17.118747     10.919426   \n",
      "std        6.035204      7.004504      2.001967     16.900037     10.977430   \n",
      "min      -17.940000    -29.340000     -5.500000    -54.270000    -34.510000   \n",
      "25%        1.910000      2.320000      0.650000      5.677500      3.470000   \n",
      "50%        5.960000      7.020000      2.000000     17.120000     10.900000   \n",
      "75%       10.050000     11.760000      3.370000     28.620000     18.310000   \n",
      "max       29.100000     37.370000     10.090000     81.410000     60.720000   \n",
      "\n",
      "              var18         var20         var21         var22         var24  \\\n",
      "count  30000.000000  30000.000000  30000.000000  30000.000000  30000.000000   \n",
      "mean      19.040852     18.018673     15.092997     12.958633      5.003848   \n",
      "std       18.938509     17.990146     15.040573     12.969523      5.017593   \n",
      "min      -52.450000    -51.930000    -54.070000    -37.780000    -15.890000   \n",
      "25%        6.420000      6.027500      4.887500      4.190000      1.630000   \n",
      "50%       19.200000     18.015000     15.200000     12.910000      5.020000   \n",
      "75%       31.700000     30.142500     25.220000     21.630000      8.400000   \n",
      "max      101.920000     97.280000     77.410000     75.450000     24.290000   \n",
      "\n",
      "              var25         var26         var27        var28         var30  \n",
      "count  30000.000000  30000.000000  30000.000000  30000.00000  30000.000000  \n",
      "mean       9.969102     12.081941      4.015074      1.00956     16.040880  \n",
      "std        9.997636     12.013399      4.010969      1.00323     16.038787  \n",
      "min      -29.580000    -46.500000    -14.170000     -3.45000    -49.930000  \n",
      "25%        3.240000      3.890000      1.310000      0.33000      5.360000  \n",
      "50%        9.930000     12.110000      3.990000      1.01000     16.140000  \n",
      "75%       16.680000     20.160000      6.710000      1.68000     26.780000  \n",
      "max       52.930000     58.830000     20.350000      5.07000     82.050000  \n"
     ]
    }
   ],
   "source": [
    "print(pdl.describe())"
   ]
  },
  {
   "cell_type": "code",
   "execution_count": 6,
   "metadata": {},
   "outputs": [],
   "source": [
    "pdl[\"payment\"]=np.where(pdl[\"payment\"]==\"Success\",1,0)\n",
    "\n",
    "k=pdl.columns\n",
    "\n",
    "for col in k:\n",
    "    if pdl[col].dtype=='object':\n",
    "        temp=pd.get_dummies(pdl[col],drop_first=True,prefix=col)\n",
    "        pdl=pd.concat([pdl,temp],axis=1)\n",
    "        pdl.drop([col],axis=1,inplace=True)\n",
    "\n",
    "\n",
    "pdl.dropna(axis=0,inplace=True)\n",
    "\n"
   ]
  },
  {
   "cell_type": "code",
   "execution_count": 7,
   "metadata": {},
   "outputs": [],
   "source": [
    "pdl_train, pdl_test = train_test_split(pdl, test_size = 0.2,random_state=2)\n",
    "\n",
    "#x_train=pdl_train.drop([\"payment\"],1)\n",
    "x_train=pdl_train.drop(columns=\"payment\")\n",
    "y_train=pdl_train[\"payment\"]\n",
    "\n",
    "#x_test=pdl_test.drop([\"payment\"],1)\n",
    "x_test=pdl_test.drop(columns=\"payment\")\n",
    "y_test=pdl_test[\"payment\"]\n",
    "\n",
    "x_train.reset_index(drop=True,inplace=True)\n",
    "y_train.reset_index(drop=True,inplace=True)"
   ]
  },
  {
   "cell_type": "code",
   "execution_count": 8,
   "metadata": {},
   "outputs": [
    {
     "data": {
      "text/plain": [
       "0        0\n",
       "1        1\n",
       "2        0\n",
       "3        0\n",
       "4        1\n",
       "        ..\n",
       "23995    0\n",
       "23996    1\n",
       "23997    0\n",
       "23998    0\n",
       "23999    1\n",
       "Name: payment, Length: 24000, dtype: int64"
      ]
     },
     "execution_count": 8,
     "metadata": {},
     "output_type": "execute_result"
    }
   ],
   "source": [
    "y_train"
   ]
  },
  {
   "cell_type": "raw",
   "metadata": {},
   "source": []
  },
  {
   "cell_type": "code",
   "execution_count": null,
   "metadata": {},
   "outputs": [],
   "source": []
  },
  {
   "cell_type": "markdown",
   "metadata": {},
   "source": [
    "# Pregunta 1:\n",
    "Construye un  clasificador usando K-NN con 3 vecinos y otro usando un arbol de decision. ¿cual produce mejor resultado? ¿que metrica has usado? segun el arbol de decision, ¿que metricas son las mas relevantes?\n"
   ]
  },
  {
   "cell_type": "code",
   "execution_count": null,
   "metadata": {},
   "outputs": [],
   "source": []
  },
  {
   "cell_type": "code",
   "execution_count": null,
   "metadata": {},
   "outputs": [],
   "source": []
  },
  {
   "cell_type": "code",
   "execution_count": null,
   "metadata": {},
   "outputs": [],
   "source": []
  },
  {
   "cell_type": "code",
   "execution_count": null,
   "metadata": {},
   "outputs": [],
   "source": []
  },
  {
   "cell_type": "markdown",
   "metadata": {},
   "source": [
    "# Pregunta 2:\n",
    "Repite el ejercicio anterior usando normalizacion de los datos y compara los resultados."
   ]
  },
  {
   "cell_type": "code",
   "execution_count": null,
   "metadata": {},
   "outputs": [],
   "source": []
  },
  {
   "cell_type": "code",
   "execution_count": null,
   "metadata": {},
   "outputs": [],
   "source": []
  },
  {
   "cell_type": "code",
   "execution_count": null,
   "metadata": {},
   "outputs": [],
   "source": []
  },
  {
   "cell_type": "markdown",
   "metadata": {},
   "source": [
    "# Pregunta 3:\n",
    "Usando GridSearchCV, identifica para un clasificador K-NN el numero de vecinos entre 1 y 30 que optimiza el resultado usando como scoring la precision y con 10 folds para la validacion cruzada. "
   ]
  },
  {
   "cell_type": "code",
   "execution_count": null,
   "metadata": {},
   "outputs": [],
   "source": []
  },
  {
   "cell_type": "code",
   "execution_count": null,
   "metadata": {},
   "outputs": [],
   "source": []
  },
  {
   "cell_type": "code",
   "execution_count": null,
   "metadata": {},
   "outputs": [],
   "source": []
  },
  {
   "cell_type": "code",
   "execution_count": null,
   "metadata": {},
   "outputs": [],
   "source": []
  },
  {
   "cell_type": "markdown",
   "metadata": {},
   "source": [
    "# Pregunta 4:\n",
    "Obten la matriz de confusion del clasificador optimo anterior. ¿como lees cada uno de los valores?¿que valor de precission y recall tiene el clasificador optimizado con precission?"
   ]
  },
  {
   "cell_type": "code",
   "execution_count": null,
   "metadata": {},
   "outputs": [],
   "source": []
  },
  {
   "cell_type": "code",
   "execution_count": null,
   "metadata": {},
   "outputs": [],
   "source": []
  },
  {
   "cell_type": "code",
   "execution_count": null,
   "metadata": {},
   "outputs": [],
   "source": []
  },
  {
   "cell_type": "markdown",
   "metadata": {},
   "source": [
    "# Pregunta 5:\n",
    "Construye ahora una red neuronal usando MLPClassifier de dos capas. Prueba diferente numero de neuronas por capa. ¿afecta al resultado?"
   ]
  },
  {
   "cell_type": "code",
   "execution_count": null,
   "metadata": {},
   "outputs": [],
   "source": []
  },
  {
   "cell_type": "code",
   "execution_count": null,
   "metadata": {},
   "outputs": [],
   "source": []
  },
  {
   "cell_type": "code",
   "execution_count": null,
   "metadata": {},
   "outputs": [],
   "source": []
  },
  {
   "cell_type": "code",
   "execution_count": null,
   "metadata": {},
   "outputs": [],
   "source": []
  },
  {
   "cell_type": "code",
   "execution_count": null,
   "metadata": {},
   "outputs": [],
   "source": []
  },
  {
   "cell_type": "markdown",
   "metadata": {},
   "source": [
    "### Pregunta 6:\n",
    "GradientBoostingClasifier es uno de los metodos de scikitlearn que mejor resultados suelen producir. Implementa un clasificador utilizando GradientBoostingClasifier considerando 0.05, 0.1, 0.15, 0.2, 0.25, 0.3 como learning rate.¿que learning rate produce un resultado optimo usando recall?"
   ]
  },
  {
   "cell_type": "code",
   "execution_count": null,
   "metadata": {},
   "outputs": [],
   "source": []
  },
  {
   "cell_type": "code",
   "execution_count": null,
   "metadata": {},
   "outputs": [],
   "source": []
  },
  {
   "cell_type": "code",
   "execution_count": null,
   "metadata": {},
   "outputs": [],
   "source": []
  },
  {
   "cell_type": "code",
   "execution_count": null,
   "metadata": {},
   "outputs": [],
   "source": []
  },
  {
   "cell_type": "code",
   "execution_count": null,
   "metadata": {},
   "outputs": [],
   "source": []
  },
  {
   "cell_type": "markdown",
   "metadata": {},
   "source": [
    "### Pregunta 6:\n",
    "Usando la matriz de confusion de los tres casos (GradientBoosting, MLP y K-NN) y derivando las metricas que te parezcan oportunas ¿Que clasificador de los 3 seleccionarias y porque?"
   ]
  },
  {
   "cell_type": "code",
   "execution_count": null,
   "metadata": {},
   "outputs": [],
   "source": []
  },
  {
   "cell_type": "code",
   "execution_count": null,
   "metadata": {},
   "outputs": [],
   "source": []
  },
  {
   "cell_type": "code",
   "execution_count": null,
   "metadata": {},
   "outputs": [],
   "source": []
  },
  {
   "cell_type": "code",
   "execution_count": null,
   "metadata": {},
   "outputs": [],
   "source": []
  }
 ],
 "metadata": {
  "kernelspec": {
   "display_name": "anaconda-2024.02-py310",
   "language": "python",
   "name": "conda-env-anaconda-2024.02-py310-py"
  },
  "language_info": {
   "codemirror_mode": {
    "name": "ipython",
    "version": 3
   },
   "file_extension": ".py",
   "mimetype": "text/x-python",
   "name": "python",
   "nbconvert_exporter": "python",
   "pygments_lexer": "ipython3",
   "version": "3.10.14"
  }
 },
 "nbformat": 4,
 "nbformat_minor": 4
}
