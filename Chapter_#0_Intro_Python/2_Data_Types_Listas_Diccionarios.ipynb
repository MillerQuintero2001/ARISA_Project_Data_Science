{
 "cells": [
  {
   "cell_type": "markdown",
   "metadata": {},
   "source": [
    "# Listas, tuplas y conjuntos/colecciones de datos   <a id=\"lists\"></a><a href=\"#index\"><i class=\"fa fa-list-alt\" aria-hidden=\"true\"></i></a>\n",
    "\n",
    "* [Listas](#listas)\n",
    "    - [Rebanado de listas](#rebanado-de-listas)\n",
    "    - [Otras operaciones con listas](#otras-operaciones-con-listas)\n",
    "    - [Copiado de listas](#copiado-de-listas)\n",
    "    - [Listas por comprensión](#listas-por-comprension)\n",
    "* [Tuplas](#tuples)\n",
    "* [Conjuntos](#sets)\n",
    "* [Diccionarios](#dictionaries)"
   ]
  },
  {
   "cell_type": "markdown",
   "metadata": {},
   "source": [
    "# Listas <a id=\"listas\"></a>  <a href=\"#lists\"><i class=\"fa fa-list-alt\"></i></a>"
   ]
  },
  {
   "cell_type": "markdown",
   "metadata": {},
   "source": [
    "Una <i class=\"concept\">lista</i> es una colección de elementos (no necesariamente del mismo tipo) en las que el orden es relevante. Se delimitan con corchetes y sus elementos se separan por comas."
   ]
  },
  {
   "cell_type": "code",
   "execution_count": 1,
   "metadata": {},
   "outputs": [
    {
     "data": {
      "text/plain": [
       "['Nilo', [23, 34.45], (-2+4j)]"
      ]
     },
     "execution_count": 1,
     "metadata": {},
     "output_type": "execute_result"
    }
   ],
   "source": [
    "lista = [\"Nilo\", [23, 34.45], -2+4j] # Se pueden mezclar tipos\n",
    "lista"
   ]
  },
  {
   "cell_type": "code",
   "execution_count": 2,
   "metadata": {
    "scrolled": true
   },
   "outputs": [
    {
     "name": "stdout",
     "output_type": "stream",
     "text": [
      "['Nilo', 'Arlanza', 'Cerezo', 'Pico', 'Vena']\n",
      "5\n"
     ]
    }
   ],
   "source": [
    "ríos = [\"Nilo\", \"Arlanza\", \"Cerezo\", \"Pico\", \"Vena\" ]\n",
    "print(ríos)\n",
    "print(len(ríos))"
   ]
  },
  {
   "cell_type": "markdown",
   "metadata": {},
   "source": [
    "Se puede acceder a los elementos de una lista utilizando un índice el índice del primer elemento es 0-"
   ]
  },
  {
   "cell_type": "code",
   "execution_count": 3,
   "metadata": {},
   "outputs": [
    {
     "name": "stdout",
     "output_type": "stream",
     "text": [
      "Arlanza\n",
      "Nilo\n",
      "Vena\n",
      "Vena\n"
     ]
    }
   ],
   "source": [
    "print(ríos[1]) # => 'Arlanza', dado que los índices empiezan en 0\n",
    "print(ríos[0]) # => 'Nilo'\n",
    "# Para obtener el último de los elementos\n",
    "último = len(ríos)-1\n",
    "print(ríos[último]) \n",
    "print(ríos[-1]) # Usando números negativos, se pueden indexar elementos desde el final "
   ]
  },
  {
   "cell_type": "markdown",
   "metadata": {},
   "source": [
    " ¡Cuidado!</span> Utilizar un índice mayor o igual que la longitud de la lista dará un error. "
   ]
  },
  {
   "cell_type": "code",
   "execution_count": 4,
   "metadata": {},
   "outputs": [],
   "source": [
    "# print(ríos[11]) # => Error! index out of range"
   ]
  },
  {
   "cell_type": "markdown",
   "metadata": {},
   "source": [
    "Se pueden añadir elementos al final de una lista con el método `append`."
   ]
  },
  {
   "cell_type": "code",
   "execution_count": 5,
   "metadata": {},
   "outputs": [
    {
     "name": "stdout",
     "output_type": "stream",
     "text": [
      "['Nilo', 'Arlanza', 'Cerezo', 'Pico', 'Vena', 'Duero']\n"
     ]
    }
   ],
   "source": [
    "ríos.append(\"Duero\")\n",
    "print(ríos)"
   ]
  },
  {
   "cell_type": "markdown",
   "metadata": {},
   "source": [
    "Se pueden insertar elementos en posiciones arbitrarias con el método `insert`."
   ]
  },
  {
   "cell_type": "code",
   "execution_count": 6,
   "metadata": {},
   "outputs": [
    {
     "name": "stdout",
     "output_type": "stream",
     "text": [
      "['Nilo', 'Arlanza', 'Cerezo', 'Pico', 'Vena', 'Duero']\n",
      "['Colorado', 'Nilo', 'Arlanza', 'Cerezo', 'Pico', 'Vena', 'Duero']\n"
     ]
    }
   ],
   "source": [
    "antes_de_esta_posición = 0\n",
    "print(ríos)\n",
    "ríos.insert(antes_de_esta_posición, \"Colorado\")\n",
    "print(ríos)"
   ]
  },
  {
   "cell_type": "code",
   "execution_count": 7,
   "metadata": {
    "scrolled": false
   },
   "outputs": [
    {
     "name": "stdout",
     "output_type": "stream",
     "text": [
      "['Colorado', 'Nilo', 'Arlanza', 'Cerezo', 'Pico', 'Vena', 'Duero']\n",
      "['Colorado', 'Nilo', 'Arlanza', 'Cerezo', 'Pico', 'Vena', 'Danubio', 'Duero']\n"
     ]
    }
   ],
   "source": [
    "antes_de_esta_posición = -1 # con posiciones negativas, comenzamos por el final\n",
    "print(ríos)\n",
    "ríos.insert(antes_de_esta_posición, \"Danubio\") \n",
    "print(ríos)"
   ]
  },
  {
   "cell_type": "markdown",
   "metadata": {},
   "source": [
    "<span class=\"label label-danger\"><i class=\"fa fa-bomb\" aria-hidden=\"true\"></i> ¡Cuidado!</span> Si lo que se inserta es a su vez una lista, la lista insertada aparece como nuevo elemento (recuerda, los elementos de una lista pueden ser de tipos arbitrarios, incluidas las listas)."
   ]
  },
  {
   "cell_type": "code",
   "execution_count": 8,
   "metadata": {
    "scrolled": true
   },
   "outputs": [
    {
     "name": "stdout",
     "output_type": "stream",
     "text": [
      "['Nilo', 'Arlanza', 'Cerezo', 'Pico', 'Vena']\n",
      "['Nilo', 'Arlanza', ['Danubio', ['Ebro'], 'Turia'], 'Cerezo', 'Pico', 'Vena']\n"
     ]
    }
   ],
   "source": [
    "ríos = [\"Nilo\", \"Arlanza\", \"Cerezo\", \"Pico\", \"Vena\" ]\n",
    "más_ríos = [\"Danubio\", [\"Ebro\"], \"Turia\" ]\n",
    "print(ríos)\n",
    "ríos.insert(2, más_ríos)\n",
    "print(ríos)"
   ]
  },
  {
   "cell_type": "markdown",
   "metadata": {},
   "source": [
    "Como ahora uno de los elementos es una lista, se pueden concatenar la indexación para acceder a los elementos de la sublista."
   ]
  },
  {
   "cell_type": "code",
   "execution_count": 9,
   "metadata": {},
   "outputs": [
    {
     "data": {
      "text/plain": [
       "['Danubio', ['Ebro'], 'Turia']"
      ]
     },
     "execution_count": 9,
     "metadata": {},
     "output_type": "execute_result"
    }
   ],
   "source": [
    "ríos[2]"
   ]
  },
  {
   "cell_type": "code",
   "execution_count": 10,
   "metadata": {},
   "outputs": [
    {
     "data": {
      "text/plain": [
       "'Ebro'"
      ]
     },
     "execution_count": 10,
     "metadata": {},
     "output_type": "execute_result"
    }
   ],
   "source": [
    "ríos[2][1][0]"
   ]
  },
  {
   "cell_type": "markdown",
   "metadata": {},
   "source": [
    "Se pueden combinar listas con el operador `+`."
   ]
  },
  {
   "cell_type": "code",
   "execution_count": 11,
   "metadata": {},
   "outputs": [
    {
     "name": "stdout",
     "output_type": "stream",
     "text": [
      "['Nilo', 'Arlanza', 'Cerezo', 'Pico', 'Vena', 'Oca', 'Danubio', 'Ebro', 'Guadalmedina', 'Eo']\n"
     ]
    }
   ],
   "source": [
    "ríos = [\"Nilo\", \"Arlanza\", \"Cerezo\", \"Pico\", \"Vena\" ]\n",
    "más_ríos = [\"Oca\", \"Danubio\", \"Ebro\", \"Guadalmedina\", \"Eo\" ]\n",
    "ríos = ríos + más_ríos\n",
    "print(ríos)"
   ]
  },
  {
   "cell_type": "code",
   "execution_count": 12,
   "metadata": {},
   "outputs": [
    {
     "name": "stdout",
     "output_type": "stream",
     "text": [
      "['Nilo', 'Arlanza', 'Cerezo', 'Pico', 'Vena', 'Oca', 'Danubio', 'Ebro', 'Guadalmedina', 'Eo']\n"
     ]
    }
   ],
   "source": [
    "ríos = [\"Nilo\", \"Arlanza\", \"Cerezo\", \"Pico\", \"Vena\" ]\n",
    "más_ríos = [\"Oca\", \"Danubio\", \"Ebro\", \"Guadalmedina\", \"Eo\" ]\n",
    "ríos += más_ríos\n",
    "print(ríos)"
   ]
  },
  {
   "cell_type": "markdown",
   "metadata": {},
   "source": [
    "El operador **+** concatena listas, el método **.insert** inserta un nuevo elemento, si éste es una lista, la lista aparecerá como un elemento dentro de la otra lista.\n"
   ]
  },
  {
   "cell_type": "markdown",
   "metadata": {},
   "source": [
    "Si tenemos una lista de números, podemos sumar sus elementos (función `sum`), o encontrar el máximo (función `max`), o encontrar el mínimo (función `min`)."
   ]
  },
  {
   "cell_type": "code",
   "execution_count": 13,
   "metadata": {
    "scrolled": true
   },
   "outputs": [
    {
     "name": "stdout",
     "output_type": "stream",
     "text": [
      "23\n",
      "9\n",
      "2\n"
     ]
    }
   ],
   "source": [
    "nums = [5, 7, 9, 2]\n",
    "print(sum(nums))\n",
    "print(max(nums))\n",
    "print(min(nums))"
   ]
  },
  {
   "cell_type": "markdown",
   "metadata": {},
   "source": [
    "<span class=\"label label-danger\"><i class=\"fa fa-bomb\" aria-hidden=\"true\"></i> ¡Cuidado!</span>\n",
    "Las funciones `max` y `min` funcionan tanto si se les pasa un **número variables de argumentos**, como si se les pasa una **colección**, pero la función `sum` sólo funciona cuando se le pasa como único argumento una colección."
   ]
  },
  {
   "cell_type": "code",
   "execution_count": 14,
   "metadata": {},
   "outputs": [
    {
     "data": {
      "text/plain": [
       "9"
      ]
     },
     "execution_count": 14,
     "metadata": {},
     "output_type": "execute_result"
    }
   ],
   "source": [
    "max(5, 7, 9, 2)"
   ]
  },
  {
   "cell_type": "code",
   "execution_count": 15,
   "metadata": {},
   "outputs": [],
   "source": [
    "# Da error\n",
    "#sum(5, 7, 9, 2)"
   ]
  },
  {
   "cell_type": "markdown",
   "metadata": {},
   "source": [
    "<div class=\"alert alert-info\">\n",
    "   <i style=\"font-size: larger;\" class=\"fa fa-info-circle\" aria-hidden=\"true\"></i> Podemos comprobar si un elemento está dentro de una lista (<b>o dentro de cualquier colección</b>) utilizando el operador <code>in</code>.\n",
    "</div>\n"
   ]
  },
  {
   "cell_type": "code",
   "execution_count": 16,
   "metadata": {},
   "outputs": [
    {
     "name": "stdout",
     "output_type": "stream",
     "text": [
      "True\n",
      "False\n"
     ]
    }
   ],
   "source": [
    "print(\"Cerezo\" in ríos)\n",
    "print(\"Bernesga\" in ríos)"
   ]
  },
  {
   "cell_type": "code",
   "execution_count": 17,
   "metadata": {},
   "outputs": [
    {
     "data": {
      "text/plain": [
       "['Nilo',\n",
       " 'Arlanza',\n",
       " 'Cerezo',\n",
       " 'Pico',\n",
       " 'Vena',\n",
       " 'Oca',\n",
       " 'Danubio',\n",
       " 'Ebro',\n",
       " 'Guadalmedina',\n",
       " 'Eo']"
      ]
     },
     "execution_count": 17,
     "metadata": {},
     "output_type": "execute_result"
    }
   ],
   "source": [
    "ríos"
   ]
  },
  {
   "cell_type": "markdown",
   "metadata": {},
   "source": [
    "Se pueden eliminar elementos con el operador `del`."
   ]
  },
  {
   "cell_type": "code",
   "execution_count": 18,
   "metadata": {},
   "outputs": [
    {
     "data": {
      "text/plain": [
       "['Nilo', 'Arlanza', 'Cerezo', 'Pico', 'Vena', 'Oca', 'Danubio', 'Ebro', 'Eo']"
      ]
     },
     "execution_count": 18,
     "metadata": {},
     "output_type": "execute_result"
    }
   ],
   "source": [
    "del ríos[ríos.index('Guadalmedina')] # .index devuelve el índice de su argumento en la lista\n",
    "ríos"
   ]
  },
  {
   "cell_type": "code",
   "execution_count": 19,
   "metadata": {},
   "outputs": [],
   "source": [
    "del ríos[0], ríos[1] # Ojo, se aplican en secuencia y eso afecta a los índices"
   ]
  },
  {
   "cell_type": "code",
   "execution_count": 20,
   "metadata": {},
   "outputs": [
    {
     "data": {
      "text/plain": [
       "['Arlanza', 'Pico', 'Vena', 'Oca', 'Danubio', 'Ebro', 'Eo']"
      ]
     },
     "execution_count": 20,
     "metadata": {},
     "output_type": "execute_result"
    }
   ],
   "source": [
    "ríos"
   ]
  },
  {
   "cell_type": "markdown",
   "metadata": {},
   "source": [
    "Los elementos de una lista se pueden cambiar cuando la lista aparece a la izquierda de una asignación."
   ]
  },
  {
   "cell_type": "code",
   "execution_count": 21,
   "metadata": {},
   "outputs": [],
   "source": [
    "ríos[0] = 'El río Arlanza'"
   ]
  },
  {
   "cell_type": "code",
   "execution_count": 22,
   "metadata": {},
   "outputs": [
    {
     "data": {
      "text/plain": [
       "['El río Arlanza', 'Pico', 'Vena', 'Oca', 'Danubio', 'Ebro', 'Eo']"
      ]
     },
     "execution_count": 22,
     "metadata": {},
     "output_type": "execute_result"
    }
   ],
   "source": [
    "ríos"
   ]
  },
  {
   "cell_type": "markdown",
   "metadata": {},
   "source": [
    "En vez de un único elemento, podemos reemplazar (**y borrar**) varios usando rebanadas (en la siguiente sección)."
   ]
  },
  {
   "cell_type": "code",
   "execution_count": 23,
   "metadata": {},
   "outputs": [],
   "source": [
    "ríos[3:5] = ['A', 'B']"
   ]
  },
  {
   "cell_type": "code",
   "execution_count": 24,
   "metadata": {},
   "outputs": [
    {
     "data": {
      "text/plain": [
       "['El río Arlanza', 'Pico', 'Vena', 'A', 'B', 'Ebro', 'Eo']"
      ]
     },
     "execution_count": 24,
     "metadata": {},
     "output_type": "execute_result"
    }
   ],
   "source": [
    "ríos"
   ]
  },
  {
   "cell_type": "code",
   "execution_count": 25,
   "metadata": {},
   "outputs": [],
   "source": [
    "del ríos[1:3]"
   ]
  },
  {
   "cell_type": "code",
   "execution_count": 26,
   "metadata": {},
   "outputs": [
    {
     "data": {
      "text/plain": [
       "['El río Arlanza', 'A', 'B', 'Ebro', 'Eo']"
      ]
     },
     "execution_count": 26,
     "metadata": {},
     "output_type": "execute_result"
    }
   ],
   "source": [
    "ríos"
   ]
  },
  {
   "cell_type": "markdown",
   "metadata": {},
   "source": [
    "## Rebanado de listas   <a id=\"rebanado-de-listas\"></a>    <a href=\"#lists\"><i class=\"fa fa-list-alt\" aria-hidden=\"true\"></i></a>\n",
    "El rebanado (que ya habíamos visto con cadenas para obtener subcadenas) se puede aplicar también a listas.\n",
    "\n",
    "En las listas el rebanado permite obtener una sublista utilizando los índices de inicio y fin de los elementos que quiere extraerse; adicionalmente se puede indicar un paso para extraer elementos no consecutivos."
   ]
  },
  {
   "cell_type": "code",
   "execution_count": 27,
   "metadata": {
    "scrolled": false
   },
   "outputs": [
    {
     "name": "stdout",
     "output_type": "stream",
     "text": [
      "[3, 4, 5, 6, 7]\n",
      "[]\n",
      "[1, 4, 7]\n"
     ]
    }
   ],
   "source": [
    "mi_lista = [0, 1, 2, 3, 4, 5, 6, 7, 8, 9]\n",
    "print(mi_lista[3:8])\n",
    "print(mi_lista[8:2])\n",
    "print(mi_lista[1:9:3])"
   ]
  },
  {
   "cell_type": "markdown",
   "metadata": {},
   "source": [
    "<div class=\"alert alert-info\">\n",
    "   <i style=\"font-size: larger;\" class=\"fa fa-info-circle\" aria-hidden=\"true\"></i> También se pueden utilizar índices y pasos negativos.\n",
    "</div>\n"
   ]
  },
  {
   "cell_type": "code",
   "execution_count": 28,
   "metadata": {},
   "outputs": [],
   "source": [
    "mi_lista = [0, 1, 2, 3, 4, 5, 6, 7, 8, 9]\n",
    "        #   0, 1, 2, 3, 4, 5, 6, 7, 8, 9   # índices desde el inicio\n",
    "        # -10,-9,-8,-7,-6,-5,-4,-3,-2,-1   # índices desde el final"
   ]
  },
  {
   "cell_type": "code",
   "execution_count": 29,
   "metadata": {},
   "outputs": [
    {
     "name": "stdout",
     "output_type": "stream",
     "text": [
      "[6, 7, 8, 9]\n",
      "[3, 4, 5, 6, 7]\n",
      "[3, 4, 5, 6, 7]\n",
      "[3, 4, 5, 6, 7]\n",
      "[2, 4, 6, 8]\n",
      "[9, 8, 7, 6, 5, 4, 3]\n"
     ]
    }
   ],
   "source": [
    "print(mi_lista[-4:])\n",
    "print(mi_lista[-7:-2])\n",
    "print(mi_lista[3:-2])\n",
    "print(mi_lista[-7:8])\n",
    "print(mi_lista[2:-1:2])\n",
    "print(mi_lista[-1:2:-1])"
   ]
  },
  {
   "cell_type": "markdown",
   "metadata": {},
   "source": [
    "<div class=\"alert alert-info\">\n",
    "   <i style=\"font-size: larger;\" class=\"fa fa-info-circle\" aria-hidden=\"true\"></i> Como con las rebanadas de cadenas, se pueden omitir los índices de inicio, del final, o ambos.\n",
    "</div>\n"
   ]
  },
  {
   "cell_type": "code",
   "execution_count": 30,
   "metadata": {},
   "outputs": [
    {
     "data": {
      "text/plain": [
       "[4, 5, 6, 7, 8, 9]"
      ]
     },
     "execution_count": 30,
     "metadata": {},
     "output_type": "execute_result"
    }
   ],
   "source": [
    "mi_lista[4:]"
   ]
  },
  {
   "cell_type": "code",
   "execution_count": 31,
   "metadata": {},
   "outputs": [
    {
     "data": {
      "text/plain": [
       "[0, 1, 2, 3, 4]"
      ]
     },
     "execution_count": 31,
     "metadata": {},
     "output_type": "execute_result"
    }
   ],
   "source": [
    "mi_lista[:5]"
   ]
  },
  {
   "cell_type": "code",
   "execution_count": 32,
   "metadata": {},
   "outputs": [
    {
     "data": {
      "text/plain": [
       "[0, 1, 2, 3]"
      ]
     },
     "execution_count": 32,
     "metadata": {},
     "output_type": "execute_result"
    }
   ],
   "source": [
    "mi_lista[:-6]"
   ]
  },
  {
   "cell_type": "code",
   "execution_count": 33,
   "metadata": {},
   "outputs": [
    {
     "data": {
      "text/plain": [
       "[0, 3, 6, 9]"
      ]
     },
     "execution_count": 33,
     "metadata": {},
     "output_type": "execute_result"
    }
   ],
   "source": [
    "mi_lista[::3]"
   ]
  },
  {
   "cell_type": "code",
   "execution_count": 34,
   "metadata": {},
   "outputs": [
    {
     "data": {
      "text/plain": [
       "[9, 8, 7, 6, 5, 4, 3, 2, 1, 0]"
      ]
     },
     "execution_count": 34,
     "metadata": {},
     "output_type": "execute_result"
    }
   ],
   "source": [
    "mi_lista[::-1]"
   ]
  },
  {
   "cell_type": "code",
   "execution_count": 35,
   "metadata": {},
   "outputs": [
    {
     "data": {
      "text/plain": [
       "[0, 1, 2, 3, 4, 5, 6, 7, 8, 9]"
      ]
     },
     "execution_count": 35,
     "metadata": {},
     "output_type": "execute_result"
    }
   ],
   "source": [
    "mi_lista[:] # Copy of list!"
   ]
  },
  {
   "cell_type": "markdown",
   "metadata": {},
   "source": [
    "## Otras operaciones con listas  <a id=\"otras-operaciones-con-listas\"></a>    <a href=\"#lists\"><i class=\"fa fa-list-alt\"></i></a>"
   ]
  },
  {
   "cell_type": "markdown",
   "metadata": {},
   "source": [
    "Otras formas de modificar listas."
   ]
  },
  {
   "cell_type": "code",
   "execution_count": 36,
   "metadata": {},
   "outputs": [
    {
     "name": "stdout",
     "output_type": "stream",
     "text": [
      "['Ebro', 'Oca', 'Pico', 'Nilo', 'Arlanza', 'Guadalmedina', 'Vena', 'Cerezo']\n",
      "['Ebro', 'Oca', 'Pico', 'Nilo', 'Arlanza', 'Vena', 'Cerezo']\n"
     ]
    }
   ],
   "source": [
    "ríos = ['Ebro', 'Oca', 'Pico', 'Nilo', 'Arlanza',\n",
    "        'Guadalmedina', 'Vena', 'Cerezo']\n",
    "print(ríos)\n",
    "ríos.remove(\"Guadalmedina\")\n",
    "print(ríos)"
   ]
  },
  {
   "cell_type": "code",
   "execution_count": 37,
   "metadata": {},
   "outputs": [
    {
     "name": "stdout",
     "output_type": "stream",
     "text": [
      "['Ebro', 'Oca', 'Pico', 'Nilo', 'Arlanza', 'Vena', 'Cerezo']\n",
      "['Ebro', 'Oca', 'Pico', 'Nilo', 'Arlanza', 'Cerezo']\n"
     ]
    }
   ],
   "source": [
    "print(ríos)\n",
    "ríos.pop(-2)\n",
    "print(ríos)"
   ]
  },
  {
   "cell_type": "code",
   "execution_count": 38,
   "metadata": {},
   "outputs": [
    {
     "name": "stdout",
     "output_type": "stream",
     "text": [
      "['Ebro', 'Oca', 'Pico', 'Nilo', 'Arlanza', 'Cerezo']\n",
      "['Ebro', 'Oca', 'Pico', 'Nilo', 'Arlanza']\n",
      "Cerezo\n"
     ]
    }
   ],
   "source": [
    "print(ríos)\n",
    "un_río = ríos.pop()\n",
    "print(ríos)\n",
    "print(un_río)"
   ]
  },
  {
   "cell_type": "code",
   "execution_count": 39,
   "metadata": {},
   "outputs": [],
   "source": [
    "# [].pop() # => pop de lista vacía, SyntaxError"
   ]
  },
  {
   "cell_type": "code",
   "execution_count": 40,
   "metadata": {},
   "outputs": [
    {
     "name": "stdout",
     "output_type": "stream",
     "text": [
      "4\n"
     ]
    }
   ],
   "source": [
    "print(ríos.index(\"Arlanza\"))"
   ]
  },
  {
   "cell_type": "markdown",
   "metadata": {},
   "source": [
    "Cambiar el orden de las listas."
   ]
  },
  {
   "cell_type": "code",
   "execution_count": 41,
   "metadata": {},
   "outputs": [
    {
     "name": "stdout",
     "output_type": "stream",
     "text": [
      "['Eo', 'Guadalmedina', 'Ebro', 'Danubio', 'Oca', 'Vena', 'Pico', 'Arlanza']\n",
      "['Arlanza', 'Pico', 'Vena', 'Oca', 'Danubio', 'Ebro', 'Guadalmedina', 'Eo']\n"
     ]
    }
   ],
   "source": [
    "ríos = ['Arlanza', 'Pico', 'Vena', 'Oca',\n",
    "        'Danubio', 'Ebro', 'Guadalmedina', 'Eo']\n",
    "ríos.reverse()\n",
    "print(ríos)\n",
    "print(ríos[::-1])"
   ]
  },
  {
   "cell_type": "code",
   "execution_count": 42,
   "metadata": {},
   "outputs": [
    {
     "name": "stdout",
     "output_type": "stream",
     "text": [
      "['Eo', 'Guadalmedina', 'Ebro', 'Danubio', 'Oca', 'Vena', 'Pico', 'Arlanza']\n",
      "['Arlanza', 'Danubio', 'Ebro', 'Eo', 'Guadalmedina', 'Oca', 'Pico', 'Vena']\n",
      "['Eo', 'Guadalmedina', 'Ebro', 'Danubio', 'Oca', 'Vena', 'Pico', 'Arlanza']\n"
     ]
    }
   ],
   "source": [
    "print(ríos)\n",
    "res = sorted(ríos)\n",
    "print(res)\n",
    "print(ríos) # La lista original no se ve afectada"
   ]
  },
  {
   "cell_type": "code",
   "execution_count": 43,
   "metadata": {},
   "outputs": [
    {
     "name": "stdout",
     "output_type": "stream",
     "text": [
      "['Arlanza', 'Danubio', 'Ebro', 'Eo', 'Guadalmedina', 'Oca', 'Pico', 'Vena']\n",
      "None\n"
     ]
    }
   ],
   "source": [
    "res = ríos.sort() \n",
    "print(ríos) # Se ordena la lista original \n",
    "print(res)  # El valor devuelto es None"
   ]
  },
  {
   "cell_type": "code",
   "execution_count": 44,
   "metadata": {},
   "outputs": [
    {
     "name": "stdout",
     "output_type": "stream",
     "text": [
      "['Vena', 'Pico', 'Oca', 'Guadalmedina', 'Eo', 'Ebro', 'Danubio', 'Arlanza']\n"
     ]
    }
   ],
   "source": [
    "ríos.sort(reverse=True)\n",
    "print(ríos)"
   ]
  },
  {
   "cell_type": "code",
   "execution_count": 45,
   "metadata": {},
   "outputs": [
    {
     "name": "stdout",
     "output_type": "stream",
     "text": [
      "['Eo', 'Oca', 'Vena', 'Pico', 'Ebro', 'Danubio', 'Arlanza', 'Guadalmedina']\n"
     ]
    }
   ],
   "source": [
    "print(sorted(ríos, key=len))"
   ]
  },
  {
   "cell_type": "markdown",
   "metadata": {},
   "source": [
    "## Copiado de listas"
   ]
  },
  {
   "cell_type": "markdown",
   "metadata": {},
   "source": [
    "Vamos a analizar con algo más de detalle que ocurre cuando se usa `[:]`. Primero vamos una asignación de una lista a una nueva variable."
   ]
  },
  {
   "cell_type": "code",
   "execution_count": 46,
   "metadata": {},
   "outputs": [],
   "source": [
    "mi_lista = [0, 1, 2, 3, 4, 5, 6, 7, 8, 9]"
   ]
  },
  {
   "cell_type": "code",
   "execution_count": 47,
   "metadata": {},
   "outputs": [
    {
     "data": {
      "text/plain": [
       "[0, 1, 2, 3, 4, 5, 6, 7, 8, 9]"
      ]
     },
     "execution_count": 47,
     "metadata": {},
     "output_type": "execute_result"
    }
   ],
   "source": [
    "otra_lista = mi_lista # Ahora tenemos dos «nombres» para la lista: otra_lista y mi_lista\n",
    "otra_lista"
   ]
  },
  {
   "cell_type": "code",
   "execution_count": 48,
   "metadata": {},
   "outputs": [
    {
     "data": {
      "text/plain": [
       "['cero', 1, 2, 3, 4, 5, 6, 7, 8, 9]"
      ]
     },
     "execution_count": 48,
     "metadata": {},
     "output_type": "execute_result"
    }
   ],
   "source": [
    "mi_lista[0] = 'cero'\n",
    "mi_lista"
   ]
  },
  {
   "cell_type": "code",
   "execution_count": 49,
   "metadata": {
    "scrolled": true
   },
   "outputs": [
    {
     "data": {
      "text/plain": [
       "['cero', 1, 2, 3, 4, 5, 6, 7, 8, 9]"
      ]
     },
     "execution_count": 49,
     "metadata": {},
     "output_type": "execute_result"
    }
   ],
   "source": [
    "otra_lista"
   ]
  },
  {
   "cell_type": "markdown",
   "metadata": {},
   "source": [
    "Ahora asignamos, pero usando `[:]`. "
   ]
  },
  {
   "cell_type": "code",
   "execution_count": 50,
   "metadata": {},
   "outputs": [],
   "source": [
    "mi_lista = [0, 1, ['dos', 'tres'], 4, 5, 6]"
   ]
  },
  {
   "cell_type": "code",
   "execution_count": 51,
   "metadata": {},
   "outputs": [
    {
     "name": "stdout",
     "output_type": "stream",
     "text": [
      "[0, 1, ['dos', 'tres'], 4, 5, 6]\n",
      "[0, 1, ['dos', 'tres'], 4, 5, 6]\n"
     ]
    }
   ],
   "source": [
    "otra_lista = mi_lista[:]\n",
    "print(mi_lista)\n",
    "print(otra_lista)"
   ]
  },
  {
   "cell_type": "markdown",
   "metadata": {},
   "source": [
    "Las dos variables parecen tener la misma lista, en realidad tienen dos listas que son iguales, que no es exactamente lo mismo. Comprobemos que efectivamente esto es así, modificando una de las listas."
   ]
  },
  {
   "cell_type": "code",
   "execution_count": 52,
   "metadata": {
    "scrolled": false
   },
   "outputs": [
    {
     "data": {
      "text/plain": [
       "['cero', 1, ['dos', 'tres'], 4, 5, 6]"
      ]
     },
     "execution_count": 52,
     "metadata": {},
     "output_type": "execute_result"
    }
   ],
   "source": [
    "mi_lista[0] = 'cero'\n",
    "mi_lista"
   ]
  },
  {
   "cell_type": "markdown",
   "metadata": {},
   "source": [
    "Hemos modificado `mi_lista`, sin embargo, la lista en `otra_lista` no se ha visto aceptada."
   ]
  },
  {
   "cell_type": "code",
   "execution_count": 53,
   "metadata": {
    "scrolled": true
   },
   "outputs": [
    {
     "data": {
      "text/plain": [
       "[0, 1, ['dos', 'tres'], 4, 5, 6]"
      ]
     },
     "execution_count": 53,
     "metadata": {},
     "output_type": "execute_result"
    }
   ],
   "source": [
    "otra_lista"
   ]
  },
  {
   "cell_type": "markdown",
   "metadata": {},
   "source": [
    "Bueno, en realidad, esta no es toda la historia. Resulta que las dos listas comparten un elemento. La sublista que aparece como tercer elemento es la misma en ambas."
   ]
  },
  {
   "cell_type": "code",
   "execution_count": 54,
   "metadata": {
    "scrolled": true
   },
   "outputs": [
    {
     "data": {
      "text/plain": [
       "['dos', 'tres']"
      ]
     },
     "execution_count": 54,
     "metadata": {},
     "output_type": "execute_result"
    }
   ],
   "source": [
    "mi_lista[2]"
   ]
  },
  {
   "cell_type": "code",
   "execution_count": 55,
   "metadata": {
    "scrolled": true
   },
   "outputs": [
    {
     "data": {
      "text/plain": [
       "['cero', 1, ['dos', 'THREE'], 4, 5, 6]"
      ]
     },
     "execution_count": 55,
     "metadata": {},
     "output_type": "execute_result"
    }
   ],
   "source": [
    "mi_lista[2][1] = 'THREE'\n",
    "mi_lista"
   ]
  },
  {
   "cell_type": "code",
   "execution_count": 56,
   "metadata": {
    "scrolled": false
   },
   "outputs": [
    {
     "data": {
      "text/plain": [
       "[0, 1, ['dos', 'THREE'], 4, 5, 6]"
      ]
     },
     "execution_count": 56,
     "metadata": {},
     "output_type": "execute_result"
    }
   ],
   "source": [
    "otra_lista"
   ]
  },
  {
   "cell_type": "markdown",
   "metadata": {},
   "source": [
    "Usando el método `.copy()`, pero también sucede lo mismo con una lista anidada"
   ]
  },
  {
   "cell_type": "code",
   "execution_count": 57,
   "metadata": {},
   "outputs": [
    {
     "name": "stdout",
     "output_type": "stream",
     "text": [
      "[0, 1, ['dos', 'tres'], 4, 5, 6]\n",
      "[0, 1, ['dos', 'tres'], 4, 5, 6]\n"
     ]
    }
   ],
   "source": [
    "mi_lista = [0, 1, ['dos', 'tres'], 4, 5, 6]\n",
    "otra_lista = mi_lista.copy()\n",
    "print(mi_lista)\n",
    "print(otra_lista)"
   ]
  },
  {
   "cell_type": "code",
   "execution_count": 58,
   "metadata": {},
   "outputs": [
    {
     "name": "stdout",
     "output_type": "stream",
     "text": [
      "[0, 1, ['dos', 'THREE'], 4, 5, 6]\n",
      "[0, 1, ['dos', 'THREE'], 4, 5, 6]\n"
     ]
    }
   ],
   "source": [
    "mi_lista[2][1] = 'THREE'\n",
    "print(mi_lista)\n",
    "print(otra_lista)"
   ]
  },
  {
   "cell_type": "markdown",
   "metadata": {},
   "source": [
    "## Listas por comprensión <a id=\"listas-por-comprension\"></a>    <a href=\"#lists\"><i class=\"fa fa-list-alt\"></i></a>"
   ]
  },
  {
   "cell_type": "markdown",
   "metadata": {},
   "source": [
    "<div class=\"alert alert-info\" style=\"text-indent:-.65em; padding-left: 2.2em\">\n",
    "   <i style=\"font-size: larger;\" class=\"fa fa-info-circle\" aria-hidden=\"true\"></i> La definición de listas por compresión es una característica muy potentes de Python. Entender su funcionamiento puede ayudarnos a simplificar enormemente nuestro código. \n",
    "</div>\n"
   ]
  },
  {
   "cell_type": "code",
   "execution_count": 59,
   "metadata": {},
   "outputs": [
    {
     "name": "stdout",
     "output_type": "stream",
     "text": [
      "[50, 20, 70, 80, 90, 40]\n",
      "[50, 70, 90]\n",
      "[20, 80, 40]\n"
     ]
    }
   ],
   "source": [
    "nums = [5, 2, 7, 8, 9, 4]\n",
    "print([ n*10 for n in nums ])\n",
    "print([ n*10 for n in nums if n%2 ])\n",
    "print([ n*10 for n in nums if not n%2 ])"
   ]
  },
  {
   "cell_type": "code",
   "execution_count": 60,
   "metadata": {},
   "outputs": [
    {
     "name": "stdout",
     "output_type": "stream",
     "text": [
      "[(0, 'Arlanza'), (1, 'Cerezo'), (2, 'Nilo'), (3, 'Pico'), (4, 'Vena')]\n",
      "[(1, 'Arlanza'), (2, 'Cerezo'), (3, 'Nilo'), (4, 'Pico'), (5, 'Vena')]\n",
      "1. Arlanza\n",
      "2. Cerezo\n",
      "3. Nilo\n",
      "4. Pico\n",
      "5. Vena\n"
     ]
    }
   ],
   "source": [
    "ríos = [\"Nilo\", \"Arlanza\", \"Cerezo\", \"Pico\", \"Vena\" ]\n",
    "print([ (n, r) for n, r in enumerate(sorted(ríos)) ])\n",
    "print([ (n, r) for n, r in enumerate(sorted(ríos), start=1) ])\n",
    "print('\\n'.join([ str(n) + '. ' + r for n, r in enumerate(sorted(ríos), start=1) ]))"
   ]
  },
  {
   "cell_type": "markdown",
   "metadata": {},
   "source": [
    "`enumerate()` se aplica a una lista (en general a un objeto iterable) para poder obtener una secuencia de pares constituidos por los elementos de la lista junto con el orden de éstos."
   ]
  },
  {
   "cell_type": "markdown",
   "metadata": {},
   "source": [
    "# Tuplas <a id=\"tuples\"></a>    <a href=\"#lists\"><i class=\"fa fa-list-alt\"></i></a>\n",
    "Las <i class=\"concept\">tuplas</i> son como listas, pero no se pueden modificar, es decir, una vez que se crean, sus valores no pueden cambiarse. Esto último permite que las tuplas pueden usarse como claves de diccionarios (que se verán <a href=\"#dictionaries\">más adelante</a>), en cambio las listas no.\n",
    "```python\n",
    "[\"Esto\", \"es\", \"una\", \"lista\"]\n",
    "(\"Esto\", \"es\", \"una\", \"tupla\")\n",
    "```"
   ]
  },
  {
   "cell_type": "markdown",
   "metadata": {},
   "source": [
    "Una de las ventajas de las tuplas es que son mucho más rápidas."
   ]
  },
  {
   "cell_type": "code",
   "execution_count": 61,
   "metadata": {},
   "outputs": [
    {
     "name": "stdout",
     "output_type": "stream",
     "text": [
      "41.5 ns ± 0.892 ns per loop (mean ± std. dev. of 7 runs, 10,000,000 loops each)\n"
     ]
    }
   ],
   "source": [
    "%%timeit\n",
    "lista = [0, 1, 2, 3, 4, 5, 6, 7, 8, 9] # se muestra el mejor resultado de 7 ejecuciones"
   ]
  },
  {
   "cell_type": "code",
   "execution_count": 62,
   "metadata": {
    "scrolled": true
   },
   "outputs": [
    {
     "name": "stdout",
     "output_type": "stream",
     "text": [
      "8.61 ns ± 0.106 ns per loop (mean ± std. dev. of 7 runs, 100,000,000 loops each)\n"
     ]
    }
   ],
   "source": [
    "%%timeit\n",
    "tupla = (0, 1, 2, 3, 4, 5, 6, 7, 8, 9)"
   ]
  },
  {
   "cell_type": "markdown",
   "metadata": {},
   "source": [
    "<span class=\"label label-danger\"><i class=\"fa fa-bomb\" aria-hidden=\"true\"></i> ¡Cuidado!</span> la evaluación de la siguiente celda dará error, dado que las tuplas, una vez creadas, no pueden modificarse."
   ]
  },
  {
   "cell_type": "code",
   "execution_count": 63,
   "metadata": {},
   "outputs": [],
   "source": [
    "#tupla[0] = 'Pico' # => TypeError: 'tuple' object does not support item assignment"
   ]
  },
  {
   "cell_type": "markdown",
   "metadata": {},
   "source": [
    "Más ejemplos de cosas que pueden hacerse con tuplas:"
   ]
  },
  {
   "cell_type": "markdown",
   "metadata": {},
   "source": [
    "Recuerda que una cadena de la forma *`f\"···\"`* es una **cadena de formato** o **cadena-f**. Dentro de una cadena de formato las expresiones encerradas entre llaves **{·}** se evaluan antes de imprimir la cadena. A este proceso de mezclar porciones literales y expresiones que se evaluan se le conoce como <a href=\"https://es.qwe.wiki/wiki/String_interpolation\"><b class=\"concept\">interpolación de cadenas</b></a>.\n"
   ]
  },
  {
   "cell_type": "code",
   "execution_count": 64,
   "metadata": {},
   "outputs": [
    {
     "name": "stdout",
     "output_type": "stream",
     "text": [
      "a: 1, b: 2\n",
      "a: 2, b: 1\n"
     ]
    }
   ],
   "source": [
    "a, b = 1, 2     # inicialización simultánea de varias variables.\n",
    "print(f\"a: {a}, b: {b}\")\n",
    "a, b = b, a     # intercambio de valores de variables\n",
    "print(f\"a: {a}, b: {b}\")\n",
    "a, _ = 12, 13   # recuperación de valores de una tupla, ignorando los que no interesan"
   ]
  },
  {
   "cell_type": "markdown",
   "metadata": {},
   "source": [
    "<span class=\"label label-danger\"><i class=\"fa fa-bomb\" aria-hidden=\"true\"></i> ¡Cuidado!</span> la evaluación de la siguiente celda dará error, dado que a la izquierda hay más variables que valores a la derecha."
   ]
  },
  {
   "cell_type": "code",
   "execution_count": 65,
   "metadata": {},
   "outputs": [],
   "source": [
    "#a, b, c = (1, 2) # => ValueError: not enough values to unpack (expected 3, got 2)"
   ]
  },
  {
   "cell_type": "markdown",
   "metadata": {},
   "source": [
    "<span class=\"label label-danger\"><i class=\"fa fa-bomb\" aria-hidden=\"true\"></i> ¡Cuidado!</span> la evaluación de la siguiente celda dará error, dado que a la izquierda hay menos variables que valores a la derecha."
   ]
  },
  {
   "cell_type": "code",
   "execution_count": 66,
   "metadata": {},
   "outputs": [],
   "source": [
    "# a, b = 1, 2, 3 # => ValueError: too many values to unpack (expected 2)"
   ]
  },
  {
   "cell_type": "markdown",
   "metadata": {},
   "source": [
    "<span class=\"label label-danger\"><i class=\"fa fa-bomb\" aria-hidden=\"true\"></i> ¡Cuidado!</span> Si se quiere tener una tupla de un elemento, es necesario utilizar una coma tras ese elemento, aunque no haya un segundo."
   ]
  },
  {
   "cell_type": "code",
   "execution_count": 67,
   "metadata": {},
   "outputs": [
    {
     "name": "stdout",
     "output_type": "stream",
     "text": [
      "type(t1): <class 'int'>\n",
      "type(t2): <class 'tuple'>\n",
      "t1: 1\n",
      "t2: (1,)\n"
     ]
    }
   ],
   "source": [
    "t1 = ((1))\n",
    "t2 = (1,)\n",
    "print(f\"type(t1): {type(t1)}\")\n",
    "print(f\"type(t2): {type(t2)}\")\n",
    "print(f\"t1: {t1}\")\n",
    "print(f\"t2: {t2}\")"
   ]
  },
  {
   "cell_type": "markdown",
   "metadata": {},
   "source": [
    "<div class=\"alert alert-info\">\n",
    "   <i style=\"font-size: larger;\" class=\"fa fa-info-circle\" aria-hidden=\"true\"></i> Las asignaciones con «desempaquetado» se pueden hacer también para listas y con anidamientos de elementos más complejas.\n",
    "</div>"
   ]
  },
  {
   "cell_type": "code",
   "execution_count": 68,
   "metadata": {},
   "outputs": [
    {
     "data": {
      "text/plain": [
       "(1, 2, 3)"
      ]
     },
     "execution_count": 68,
     "metadata": {},
     "output_type": "execute_result"
    }
   ],
   "source": [
    "[a, [b, c]] = [1, [2, 3]]\n",
    "a, b, c"
   ]
  },
  {
   "cell_type": "code",
   "execution_count": 69,
   "metadata": {},
   "outputs": [
    {
     "data": {
      "text/plain": [
       "(1, [2, 3])"
      ]
     },
     "execution_count": 69,
     "metadata": {},
     "output_type": "execute_result"
    }
   ],
   "source": [
    "[a, b] = (1, [2, 3])\n",
    "a, b"
   ]
  },
  {
   "cell_type": "code",
   "execution_count": 70,
   "metadata": {},
   "outputs": [
    {
     "data": {
      "text/plain": [
       "(1, 2, 3)"
      ]
     },
     "execution_count": 70,
     "metadata": {},
     "output_type": "execute_result"
    }
   ],
   "source": [
    "a, (b,c) = [1, [2, 3]]\n",
    "a, b, c"
   ]
  },
  {
   "cell_type": "code",
   "execution_count": 71,
   "metadata": {},
   "outputs": [
    {
     "data": {
      "text/plain": [
       "(1, [2, 3])"
      ]
     },
     "execution_count": 71,
     "metadata": {},
     "output_type": "execute_result"
    }
   ],
   "source": [
    "a, b = [1, [2, 3]]\n",
    "a, b"
   ]
  },
  {
   "cell_type": "markdown",
   "metadata": {},
   "source": [
    "# Conjuntos <a id=\"sets\"></a>   <a href=\"#lists\"><i class=\"fa fa-list-alt\"></i></a>\n",
    "\n",
    "Los <i class=\"concept\">conjuntos</i> son colecciones de objetos en las que el orden no es relevante y donde no se permiten duplicados.\n",
    "\n",
    "Se pueden modificar (aunque existe una versión no modificable, los \n",
    " <a href=\"https://docs.python.org/3/library/stdtypes.html#frozenset\">frozenset</a>). \n",
    "\n",
    "La comprobación de que un elemento pertenece a un conjunto (operador `in`) es más eficiente y rápida que la comprobación \n",
    "de que un elemento pertenece a una lista.\n",
    "\n",
    "Solo se pueden utilizar conjuntos de elementos de tipos inmutables.\n"
   ]
  },
  {
   "cell_type": "code",
   "execution_count": 72,
   "metadata": {},
   "outputs": [
    {
     "name": "stdout",
     "output_type": "stream",
     "text": [
      "{'Arlanza', 'Nilo', 'Vena', 'Cerezo', 'Pico'}\n",
      "<class 'set'>\n",
      "Arlanza\n",
      "{'Nilo', 'Vena', 'Cerezo', 'Pico'}\n"
     ]
    }
   ],
   "source": [
    "ríos = { \"Nilo\", \"Arlanza\", \"Cerezo\", \"Pico\", \"Vena\", \"Nilo\", \"Cerezo\" }\n",
    "print(ríos) # El orden no tiene porque coincidir con el utilizado en la definición\n",
    "print(type(ríos))\n",
    "# Tomamos el elemento del conjunto con pop\n",
    "print(ríos.pop())\n",
    "print(ríos)"
   ]
  },
  {
   "cell_type": "markdown",
   "metadata": {
    "slideshow": {
     "slide_type": "subslide"
    }
   },
   "source": [
    "### Operaciones con conjuntos <a id=\"setsOperators\"></a>   <a href=\"#lists\"><i class=\"fa fa-list-alt\"></i></a>\n",
    "\n",
    "Con el tipo de datos `set` se pueden hacer las mismas operaciones que con los conjuntos matemáticos: intersección, diferencia, unión, comprobación de pertenencia, etcétera"
   ]
  },
  {
   "cell_type": "code",
   "execution_count": 73,
   "metadata": {
    "scrolled": true
   },
   "outputs": [
    {
     "data": {
      "text/plain": [
       "({'Arlanza', 'Cerezo', 'Nilo', 'Pico'},\n",
       " {'Bernesga', 'Cerezo', 'Danubio', 'Nilo'})"
      ]
     },
     "execution_count": 73,
     "metadata": {},
     "output_type": "execute_result"
    }
   ],
   "source": [
    "unos_ríos = { \"Nilo\", \"Arlanza\", \"Cerezo\", \"Pico\", \"Misisipi\" } # A\n",
    "otros_ríos = { \"Nilo\", \"Danubio\", \"Cerezo\" }                    # B\n",
    "otros_ríos.add(\"Bernesga\")                                      # A ∪ {e} \n",
    "unos_ríos.remove(\"Misisipi\")                                    # A - {e}\n",
    "unos_ríos, otros_ríos                                           # A, B"
   ]
  },
  {
   "cell_type": "code",
   "execution_count": 74,
   "metadata": {},
   "outputs": [
    {
     "data": {
      "text/plain": [
       "True"
      ]
     },
     "execution_count": 74,
     "metadata": {},
     "output_type": "execute_result"
    }
   ],
   "source": [
    "\"Bernesga\" in otros_ríos  # ¿e ∊ A?"
   ]
  },
  {
   "cell_type": "code",
   "execution_count": 75,
   "metadata": {},
   "outputs": [
    {
     "data": {
      "text/plain": [
       "{1, 4}"
      ]
     },
     "execution_count": 75,
     "metadata": {},
     "output_type": "execute_result"
    }
   ],
   "source": [
    "A = {1, 2, 3}; B = {2, 3, 4}\n",
    "A.symmetric_difference(B)"
   ]
  },
  {
   "cell_type": "code",
   "execution_count": 76,
   "metadata": {},
   "outputs": [
    {
     "data": {
      "text/plain": [
       "{1, 4}"
      ]
     },
     "execution_count": 76,
     "metadata": {},
     "output_type": "execute_result"
    }
   ],
   "source": [
    "# A.symmetric_difference(B) también puede hacer con el operador `^``\n",
    "A ^ B "
   ]
  },
  {
   "cell_type": "code",
   "execution_count": 77,
   "metadata": {},
   "outputs": [
    {
     "data": {
      "text/plain": [
       "({'Arlanza', 'Cerezo', 'Nilo', 'Pico'},\n",
       " {'Bernesga', 'Cerezo', 'Danubio', 'Nilo'})"
      ]
     },
     "execution_count": 77,
     "metadata": {},
     "output_type": "execute_result"
    }
   ],
   "source": [
    "unos_ríos, otros_ríos    # A, B"
   ]
  },
  {
   "cell_type": "code",
   "execution_count": 78,
   "metadata": {},
   "outputs": [
    {
     "data": {
      "text/plain": [
       "{'Cerezo', 'Nilo'}"
      ]
     },
     "execution_count": 78,
     "metadata": {},
     "output_type": "execute_result"
    }
   ],
   "source": [
    "unos_ríos & otros_ríos    # A ∩ B"
   ]
  },
  {
   "cell_type": "code",
   "execution_count": 79,
   "metadata": {
    "scrolled": false
   },
   "outputs": [
    {
     "name": "stdout",
     "output_type": "stream",
     "text": [
      "False\n",
      "False\n",
      "False\n"
     ]
    }
   ],
   "source": [
    "print(unos_ríos.isdisjoint(otros_ríos))  # ¿A ∩ B == ∅?\n",
    "print(unos_ríos.issubset(otros_ríos))    # ¿A ⊆ B?\n",
    "print(unos_ríos.issuperset(otros_ríos))  # ¿A ⊇ B?"
   ]
  },
  {
   "cell_type": "code",
   "execution_count": 80,
   "metadata": {},
   "outputs": [
    {
     "name": "stdout",
     "output_type": "stream",
     "text": [
      "False\n",
      "False\n",
      "False\n"
     ]
    }
   ],
   "source": [
    "# También se pueden usar operadores para isdisjoint, issubset, issuperset\n",
    "print(unos_ríos & otros_ríos == set())  # ¿A ∩ B == ∅?\n",
    "print(unos_ríos <= otros_ríos)          # ¿A ⊆ B?\n",
    "print(unos_ríos >= otros_ríos)          # ¿A ⊇ B?"
   ]
  },
  {
   "cell_type": "code",
   "execution_count": 81,
   "metadata": {},
   "outputs": [
    {
     "data": {
      "text/plain": [
       "({'Arlanza', 'Cerezo', 'Nilo', 'Pico'},\n",
       " {'Bernesga', 'Cerezo', 'Danubio', 'Nilo'})"
      ]
     },
     "execution_count": 81,
     "metadata": {},
     "output_type": "execute_result"
    }
   ],
   "source": [
    "unos_ríos, otros_ríos    # A, B"
   ]
  },
  {
   "cell_type": "code",
   "execution_count": 82,
   "metadata": {
    "scrolled": false
   },
   "outputs": [
    {
     "name": "stdout",
     "output_type": "stream",
     "text": [
      "{'Arlanza', 'Pico'}\n",
      "{'Bernesga', 'Danubio'}\n",
      "{'Danubio', 'Bernesga', 'Pico', 'Arlanza'}\n"
     ]
    }
   ],
   "source": [
    "print(unos_ríos.difference(otros_ríos))           # A - B\n",
    "print(otros_ríos.difference(unos_ríos))           # B - A\n",
    "print(unos_ríos.symmetric_difference(otros_ríos)) # A ∆ B"
   ]
  },
  {
   "cell_type": "code",
   "execution_count": 83,
   "metadata": {},
   "outputs": [
    {
     "name": "stdout",
     "output_type": "stream",
     "text": [
      "{'Arlanza', 'Pico'}\n",
      "{'Danubio', 'Bernesga', 'Pico', 'Arlanza'}\n"
     ]
    }
   ],
   "source": [
    "# Mismas operaciones que en la celda previa, pero usando operadores\n",
    "print(unos_ríos - otros_ríos)  # A - B\n",
    "print(unos_ríos ^ otros_ríos)  # A ∆ B"
   ]
  },
  {
   "cell_type": "code",
   "execution_count": 84,
   "metadata": {},
   "outputs": [
    {
     "data": {
      "text/plain": [
       "({'Arlanza', 'Cerezo', 'Nilo', 'Pico'},\n",
       " {'Bernesga', 'Cerezo', 'Danubio', 'Nilo'})"
      ]
     },
     "execution_count": 84,
     "metadata": {},
     "output_type": "execute_result"
    }
   ],
   "source": [
    "unos_ríos, otros_ríos    # A, B"
   ]
  },
  {
   "cell_type": "code",
   "execution_count": 85,
   "metadata": {},
   "outputs": [
    {
     "data": {
      "text/plain": [
       "({'Arlanza', 'Bernesga', 'Cerezo', 'Danubio', 'Nilo', 'Pico'},\n",
       " {'Cerezo', 'Nilo'})"
      ]
     },
     "execution_count": 85,
     "metadata": {},
     "output_type": "execute_result"
    }
   ],
   "source": [
    "unión = unos_ríos.union(otros_ríos)               # A ∪ B\n",
    "intersección = unos_ríos.intersection(otros_ríos) # A ∩ B\n",
    "unión, intersección"
   ]
  },
  {
   "cell_type": "code",
   "execution_count": 86,
   "metadata": {},
   "outputs": [
    {
     "data": {
      "text/plain": [
       "({'Arlanza', 'Bernesga', 'Cerezo', 'Danubio', 'Nilo', 'Pico'},\n",
       " {'Cerezo', 'Nilo'})"
      ]
     },
     "execution_count": 86,
     "metadata": {},
     "output_type": "execute_result"
    }
   ],
   "source": [
    "# Mismas operaciones que en la celda previa, pero usando operadores\n",
    "(unos_ríos | otros_ríos), (unos_ríos & otros_ríos)    # A ∪ B, A ∩ B"
   ]
  },
  {
   "cell_type": "code",
   "execution_count": 87,
   "metadata": {},
   "outputs": [
    {
     "data": {
      "text/plain": [
       "({'Arlanza', 'Bernesga', 'Danubio', 'Pico'},\n",
       " {'Arlanza', 'Bernesga', 'Danubio', 'Pico'})"
      ]
     },
     "execution_count": 87,
     "metadata": {},
     "output_type": "execute_result"
    }
   ],
   "source": [
    "# A ∪ B - A ∩ B == A ∆ B\n",
    "unión.difference(intersección), unos_ríos.symmetric_difference(otros_ríos)"
   ]
  },
  {
   "cell_type": "markdown",
   "metadata": {},
   "source": [
    "# Diccionarios (colecciones indexadas por nombre)   <a id=\"dictionaries\"></a><a href=\"#index\"><i class=\"fa fa-list-alt\" aria-hidden=\"true\"></i></a>\n",
    "\n",
    "Los <i class=\"concept\">diccionarios</i> son estructuras de datos en las que los elementos constituyentes se pueden recuperar utilizando claves que no tienen porque ser valores numéricos, como ocurre con las listas y las tuplas. **Las claves de acceso pueden ser cualquier valor _inmutable_**, aunque lo más habitual es usar cadenas.\n",
    "\n",
    "Como en los conjuntos, **el orden no es relevante** en los diccionarios.\n",
    "\n",
    "Se delimitan con llaves (como los conjuntos), sus elementos se separan por comas (como en las listas y los conjuntos), pero éstos consisten en pares <i class=\"concept\">clave</i> y <i class=\"concept\">valor</i> (la clave separada del valor por dos puntos `:`). Los valores pueden ser de tipos arbitrarios y distintos para cada par. Las claves tienen que ser <a href=\"https://docs.python.org/2/glossary.html#term-hashable\"><i class=\"concept\">hashables</i></a>. Un elemento es *hashable* (o *resumible*) si se le puede asignar un valor <i>hash</i> que no cambie en el tiempo de vida del elemento. Un <a href=\"https://es.wikipedia.org/wiki/Funci%C3%B3n_hash\">valor de <i>hash</i></a> es una especie de <i>firma</i> que se puede asociar al elemento, que depende de su valor y que será único para ese elemento. Todos los tipos inmutables de Python son <i>hashables</i>. Los contenedores mutables, como las listas y diccionarios, no lo son."
   ]
  },
  {
   "cell_type": "code",
   "execution_count": 88,
   "metadata": {},
   "outputs": [],
   "source": [
    "un_río = {'nombre': 'Nilo', 'longitud': 6853, # km\n",
    "          'ciudades': ['El Cairo', 'Jartum', 'Jinja', 'Yuba']}"
   ]
  },
  {
   "cell_type": "code",
   "execution_count": 89,
   "metadata": {},
   "outputs": [],
   "source": [
    "# También podemos pasar una **secuencia** de pares clave/valor al constructor de diccionarios\n",
    "un_río = dict([('nombre', 'Nilo'), ('longitud', 6853), # km\n",
    "               ('ciudades', ['El Cairo', 'Jartum', 'Jinja', 'Yuba'])])"
   ]
  },
  {
   "cell_type": "markdown",
   "metadata": {},
   "source": [
    "El acceso a los elementos se hace con la misma sintaxis que en las listas, pero ahora en vez de un índice se utiliza el valor de la clave del elemento que quiere recuperarse o modificarse."
   ]
  },
  {
   "cell_type": "code",
   "execution_count": 90,
   "metadata": {},
   "outputs": [
    {
     "name": "stdout",
     "output_type": "stream",
     "text": [
      "nombre del río: Nilo\n",
      "ciudades por las que pasa: ['El Cairo', 'Jartum', 'Jinja', 'Yuba']\n"
     ]
    }
   ],
   "source": [
    "print(f\"nombre del río: {un_río['nombre']}\")\n",
    "print(f\"ciudades por las que pasa: {un_río['ciudades']}\")"
   ]
  },
  {
   "cell_type": "markdown",
   "metadata": {},
   "source": [
    "Si se utiliza una clave de acceso no existente en el diccionario, se genera un error.."
   ]
  },
  {
   "cell_type": "code",
   "execution_count": 91,
   "metadata": {},
   "outputs": [],
   "source": [
    "# Da error\n",
    "#print(f\"su caudal es: {un_río['caudal']}\") # => KeyError: 'caudal' "
   ]
  },
  {
   "cell_type": "markdown",
   "metadata": {},
   "source": [
    "<span class=\"label label-info\"><i class=\"fa fa-info-circle\" aria-hidden=\"true\"></i> Truco</span> Si quieres evitar el error de utilizar una clave inexistente, puedes utilizar el método `get` cuyo segundo valor será devuelto en caso de que la clave no exista en el diccionario."
   ]
  },
  {
   "cell_type": "code",
   "execution_count": 92,
   "metadata": {
    "slideshow": {
     "slide_type": "subslide"
    }
   },
   "outputs": [
    {
     "name": "stdout",
     "output_type": "stream",
     "text": [
      "su caudal es: None\n",
      "su caudal es: eso no lo sé\n"
     ]
    }
   ],
   "source": [
    "print(f\"su caudal es: {un_río.get('caudal')}\")\n",
    "print(f\"su caudal es: {un_río.get('caudal', 'eso no lo sé')}\")"
   ]
  },
  {
   "cell_type": "markdown",
   "metadata": {},
   "source": [
    "La modificación de los valores se hace como en la lista, pero usando la clave como valor de acceso."
   ]
  },
  {
   "cell_type": "code",
   "execution_count": 93,
   "metadata": {},
   "outputs": [
    {
     "name": "stdout",
     "output_type": "stream",
     "text": [
      "{'nombre': 'Nilo', 'longitud': 6853, 'ciudades': ['El Cairo', 'Jartum', 'Jinja', 'Yuba'], 'caudal': 2.83}\n"
     ]
    }
   ],
   "source": [
    "un_río['caudal'] = 2.830 # m^3/s , valor erróneo!!! el Nilo tiene un caudal mucho mayor\n",
    "print(un_río)"
   ]
  },
  {
   "cell_type": "markdown",
   "metadata": {},
   "source": [
    "Se pueden modificar varios elementos usando el método `update`."
   ]
  },
  {
   "cell_type": "code",
   "execution_count": 94,
   "metadata": {},
   "outputs": [
    {
     "name": "stdout",
     "output_type": "stream",
     "text": [
      "lo que sé de este río es: {'nombre': 'Nilo', 'longitud': 6853, 'ciudades': ['El Cairo', 'Jartum', 'Jinja', 'Yuba'], 'caudal': 2830, 'afluentes': ['Nilo blanco', 'Nilo azul', 'Ora', 'Gumara', 'Dinder', 'Sobat', '...']}\n"
     ]
    }
   ],
   "source": [
    "un_río.update({'caudal': 2830, 'afluentes': ['Nilo blanco', 'Nilo azul',\n",
    "    'Ora', 'Gumara', 'Dinder', 'Sobat', '...']})\n",
    "print(f\"lo que sé de este río es: {un_río}\")"
   ]
  },
  {
   "cell_type": "markdown",
   "metadata": {},
   "source": [
    "Se pueden eliminar un elemento usando el **operador** `del`."
   ]
  },
  {
   "cell_type": "code",
   "execution_count": 95,
   "metadata": {},
   "outputs": [
    {
     "name": "stdout",
     "output_type": "stream",
     "text": [
      "{'nombre': 'Nilo', 'longitud': 6853, 'ciudades': ['El Cairo', 'Jartum', 'Jinja', 'Yuba'], 'caudal': 2830}\n"
     ]
    }
   ],
   "source": [
    "del un_río['afluentes']\n",
    "print(un_río)"
   ]
  },
  {
   "cell_type": "code",
   "execution_count": 96,
   "metadata": {},
   "outputs": [
    {
     "data": {
      "text/plain": [
       "(dict_keys(['nombre', 'longitud', 'ciudades', 'caudal']),\n",
       " dict_values(['Nilo', 6853, ['El Cairo', 'Jartum', 'Jinja', 'Yuba'], 2830]))"
      ]
     },
     "execution_count": 96,
     "metadata": {},
     "output_type": "execute_result"
    }
   ],
   "source": [
    "un_río.keys(), un_río.values()"
   ]
  },
  {
   "cell_type": "code",
   "execution_count": 97,
   "metadata": {},
   "outputs": [
    {
     "name": "stdout",
     "output_type": "stream",
     "text": [
      "<class 'dict_keys'> <class 'dict_values'>\n"
     ]
    }
   ],
   "source": [
    "print(type(un_río.keys()), type(un_río.values()))"
   ]
  },
  {
   "cell_type": "code",
   "execution_count": 98,
   "metadata": {},
   "outputs": [
    {
     "name": "stdout",
     "output_type": "stream",
     "text": [
      "dict_items([('nombre', 'Nilo'), ('longitud', 6853), ('ciudades', ['El Cairo', 'Jartum', 'Jinja', 'Yuba']), ('caudal', 2830)])\n",
      "<class 'dict_items'>\n"
     ]
    }
   ],
   "source": [
    "print(un_río.items())\n",
    "print(type(un_río.items()))"
   ]
  },
  {
   "cell_type": "markdown",
   "metadata": {},
   "source": [
    "Estos tres últimos métodos: <kbd>keys</kbd>, <kbd>values</kbd> y <kbd>items</kbd>, van a ser muy útiles en combinación con las estructuras de bucle."
   ]
  },
  {
   "cell_type": "markdown",
   "metadata": {},
   "source": [
    "# Vectores, matrices y tensores  <a id=\"arrays\"></a><a href=\"#index\"><i class=\"fa fa-list-alt\" aria-hidden=\"true\"></i></a>\n",
    "\n",
    "En Python no existen tipos específicos para los <i class=\"concept\">vectores</i>, las <i class=\"concept\">matrices</i> y los <i class=\"concept\">tensores</i>. Los vectores son fácilmente representables como listas, las matrices podrían representarse como listas de listas, y del mismo modo los tensores de más dimensiones podrían representarse como listas de tensores de dimensiones menores. Pero el acceso a los elementos usando esta representación se hace un poco engorroso. Además tendríamos que programar las operaciones para manipular estos objetos: sumas, productos, traspuestas, inversas, ..."
   ]
  },
  {
   "cell_type": "markdown",
   "metadata": {},
   "source": [
    "<div class=\"alert alert-info\" style=\"text-indent:-.65em; padding-left: 2.2em\">\n",
    "   <i style=\"font-size: larger;\" class=\"fa fa-info-circle\" aria-hidden=\"true\"></i> Un <a href=\"https://en.wikipedia.org/wiki/Tensor\"><i class=\"concept\">tensor</i></a> es un conjunto de valores ordenados en varias dimensiones, arreglo multi dimensional de valores, de modo que se puede hacer referencia a cada valor en la colección (el arreglo) usando las coordenadas que ocupa el valor en la ordenación. Una <a href=\"https://es.wikipedia.org/wiki/Matriz_(matem%C3%A1ticas)\"><i class=\"concept\">matriz</i></a> es un caso especial de tensor de dimensión 2. Un <a href=\"https://es.wikipedia.org/wiki/Vector\"><i class=\"concept\">vector</i></a> es un caso especial de tensor de dimensión 1.\n",
    "</div>\n"
   ]
  },
  {
   "cell_type": "code",
   "execution_count": 99,
   "metadata": {},
   "outputs": [
    {
     "name": "stdout",
     "output_type": "stream",
     "text": [
      "v_suma => [6, 6, 6]\n",
      "M => [[2, 3], [4, 5]]\n",
      "M[0][1] => 3\n",
      "T => [[[2, 3, 1], [4, 5, -2]], [[3, -1, 69], [0, 1, -1]]]\n",
      "T[1][0][2] => 69\n"
     ]
    }
   ],
   "source": [
    "# Un ejemplo de vectores\n",
    "v1 = [7, 9, 6]\n",
    "v2 = [-1, -3, 0]\n",
    "# La suma de vectores\n",
    "v_suma = [v1[0]+v2[0], v1[1]+v2[1], v1[2]+v2[2]] # MÉTODO AVANZADO: v_suma = [e1+e2 for e1, e2 in zip(v1, v2)]\n",
    "print(f\"v_suma => {v_suma}\")\n",
    "\n",
    "# Un ejemplo de matriz\n",
    "M = [[2, 3], [4, 5]]\n",
    "print(f\"M => {M}\")\n",
    "# Accediendo a un elemento de M\n",
    "print(f\"M[0][1] => {M[0][1]}\")\n",
    "\n",
    "# Un ejemplo de tensor\n",
    "M1 = [[2, 3, 1], [4, 5, -2]]\n",
    "M2 = [[3, -1, 69], [0, 1, -1]]\n",
    "T = [M1, M2]\n",
    "print(f\"T => {T}\")\n",
    "# Accediendo a un elemento de T\n",
    "print(f\"T[1][0][2] => {T[1][0][2]}\")"
   ]
  },
  {
   "cell_type": "markdown",
   "metadata": {},
   "source": [
    "Para facilitar un poco la utilización de este tipo de objetos existe la biblioteca [Numpy](http://www.numpy.org/).\n",
    "\n",
    "Numpy ofrece el tipo `array` que se puede utilizar para representar tensores de dimensiones arbitrarias (también tiene el tipo `matrix` para los tensores bi-dimensionales, [_aunque su uso_](https://stackoverflow.com/questions/4151128/what-are-the-differences-between-numpy-arrays-and-matrices-which-one-should-i-u)\n",
    "[_se desaconseja_](https://docs.scipy.org/doc/numpy/user/numpy-for-matlab-users.html#array-or-matrix-which-should-i-use)).\n",
    "\n",
    "Para poder utilizar estos tipos, lo único que tenemos que hacer es importar el paquete `numpy`. Además, la tradición establecida es renombrarlo a `np` para ahorrarnos pulsaciones de teclado."
   ]
  },
  {
   "cell_type": "code",
   "execution_count": 100,
   "metadata": {},
   "outputs": [],
   "source": [
    "import numpy as np # Esto importa la biblioteca `numpy` con el nombre `np`"
   ]
  },
  {
   "cell_type": "markdown",
   "metadata": {},
   "source": [
    "Ahora podemos utilizar toda la funcionalidad que proporcionan `numpy`, lo que nos permitirá manipular tensores como si fueran tipos básicos."
   ]
  },
  {
   "cell_type": "code",
   "execution_count": 101,
   "metadata": {},
   "outputs": [
    {
     "name": "stdout",
     "output_type": "stream",
     "text": [
      "v_suma => [6 6 6]\n"
     ]
    }
   ],
   "source": [
    "# Un ejemplo de vectores\n",
    "v1 = np.array([7, 9, 6])\n",
    "v2 = np.array([-1, -3, 0])\n",
    "# La suma de vectores\n",
    "v_suma = v1 + v2\n",
    "print(f\"v_suma => {v_suma}\")"
   ]
  },
  {
   "cell_type": "code",
   "execution_count": 102,
   "metadata": {},
   "outputs": [
    {
     "name": "stdout",
     "output_type": "stream",
     "text": [
      "M =>\n",
      "[[2 3]\n",
      " [4 5]]\n",
      "M[0, 1] => 3\n"
     ]
    }
   ],
   "source": [
    "# Un ejemplo de matriz\n",
    "M = np.array([[2, 3], [4, 5]])\n",
    "print(f\"M =>\\n{M}\")\n",
    "# Accediendo a un elemento de M\n",
    "print(f\"M[0, 1] => {M[0, 1]}\")"
   ]
  },
  {
   "cell_type": "code",
   "execution_count": 103,
   "metadata": {
    "scrolled": false
   },
   "outputs": [
    {
     "name": "stdout",
     "output_type": "stream",
     "text": [
      "T =>\n",
      " [[[ 2  3  1]\n",
      "  [ 4  5 -2]]\n",
      "\n",
      " [[ 3 -1 69]\n",
      "  [ 0  1 -1]]]\n",
      "T[1, 0, 2] => 69\n",
      "T[1][0][2] => 69\n"
     ]
    }
   ],
   "source": [
    "# Un ejemplo de tensor\n",
    "t1 = [[2, 3, 1], [4, 5, -2]]\n",
    "t2 = [[3, -1, 69], [0, 1, -1]]\n",
    "T = np.array([t1, t2])\n",
    "print(f\"T =>\\n {T}\")\n",
    "# Accediendo a un elemento de T\n",
    "print(f\"T[1, 0, 2] => {T[1, 0, 2]}\")\n",
    "print(f\"T[1][0][2] => {T[1][0][2]}\")    # También se puede acceder así"
   ]
  },
  {
   "cell_type": "markdown",
   "metadata": {},
   "source": [
    "**Truco:** Un importante concepto en Numpy es el de [<i class=\"concept\">broadcasting</i>](https://docs.scipy.org/doc/numpy-1.13.0/user/basics.broadcasting.html), básicamente consiste en que cuando se combina con un operador dos <i>arrays</i>, las dimensiones del <i>array</i> de menos dimensiones se transforman para hacerlo compatible con el del mayor dimensión."
   ]
  },
  {
   "cell_type": "code",
   "execution_count": 104,
   "metadata": {},
   "outputs": [
    {
     "name": "stdout",
     "output_type": "stream",
     "text": [
      "M + 10 =>\n",
      " [[ 8 13]\n",
      " [14  5]\n",
      " [12 13]]\n",
      "M * 5 =>\n",
      " [[-10  15]\n",
      " [ 20 -25]\n",
      " [ 10  15]]\n",
      "M - v =>\n",
      " [[-4  0]\n",
      " [ 2 -8]\n",
      " [ 0  0]]\n"
     ]
    }
   ],
   "source": [
    "M = np.array([[-2, 3], [4, -5], [2, 3]])\n",
    "v = np.array([[2, 3]])\n",
    "print(f\"M + 10 =>\\n {M + 10}\")\n",
    "print(f\"M * 5 =>\\n {M * 5}\")\n",
    "print(f\"M - v =>\\n {M - v}\")"
   ]
  },
  {
   "cell_type": "code",
   "execution_count": 105,
   "metadata": {
    "scrolled": true
   },
   "outputs": [
    {
     "name": "stdout",
     "output_type": "stream",
     "text": [
      "M =>\n",
      " [[-2  3]\n",
      " [ 4 -5]\n",
      " [ 2  3]]\n",
      "M == 2 =>\n",
      " [[False False]\n",
      " [False False]\n",
      " [ True False]]\n",
      "M > 2 =>\n",
      " [[False  True]\n",
      " [ True False]\n",
      " [False  True]]\n",
      "M == v =>\n",
      " [[False  True]\n",
      " [False False]\n",
      " [ True  True]]\n"
     ]
    }
   ],
   "source": [
    "print(f\"M =>\\n {M}\")\n",
    "print(f\"M == 2 =>\\n {M == 2}\")\n",
    "print(f\"M > 2 =>\\n {M > 2}\")\n",
    "print(f\"M == v =>\\n {M == v}\")"
   ]
  },
  {
   "cell_type": "markdown",
   "metadata": {},
   "source": [
    "**Truco:** Cuando se trabaja con arrays, los equivalentes a `sum`, `all` y `any`, que se usaban para colecciones, son `np.sum`, `np.all` y `np.any`."
   ]
  },
  {
   "cell_type": "code",
   "execution_count": 106,
   "metadata": {},
   "outputs": [
    {
     "name": "stdout",
     "output_type": "stream",
     "text": [
      "M =>\n",
      " [[-2  3]\n",
      " [ 4 -5]\n",
      " [ 2  3]]\n",
      "M > -10 =>\n",
      " [[ True  True]\n",
      " [ True  True]\n",
      " [ True  True]]\n",
      "np.all(M > -10) => True\n",
      "np.sum(M) =>\n",
      " 5\n"
     ]
    }
   ],
   "source": [
    "print(f\"M =>\\n {M}\")\n",
    "print(f\"M > -10 =>\\n {M > -10}\")\n",
    "print(f\"np.all(M > -10) => {np.all(M > -10)}\")\n",
    "print(f\"np.sum(M) =>\\n {np.sum(M)}\")"
   ]
  },
  {
   "cell_type": "markdown",
   "metadata": {},
   "source": [
    "<span class=\"label label-info\"><i class=\"fa fa-info-circle\" aria-hidden=\"true\"></i> Truco</span> El operador `*` es la multiplicación elemento a elemento, para la multiplicación de matrices, se usa `@`."
   ]
  },
  {
   "cell_type": "code",
   "execution_count": 107,
   "metadata": {
    "scrolled": true
   },
   "outputs": [
    {
     "name": "stdout",
     "output_type": "stream",
     "text": [
      "M =>\n",
      " [[-2  3]\n",
      " [ 4 -5]]\n",
      "M * M =>\n",
      " [[ 4  9]\n",
      " [16 25]]\n",
      "M @ M =>\n",
      " [[ 16 -21]\n",
      " [-28  37]]\n"
     ]
    }
   ],
   "source": [
    "M = np.array([[-2, 3], [4, -5]])\n",
    "print(f\"M =>\\n {M}\")\n",
    "print(f\"M * M =>\\n {M * M}\")\n",
    "print(f\"M @ M =>\\n {M @ M}\")"
   ]
  },
  {
   "cell_type": "markdown",
   "metadata": {},
   "source": [
    "# Ejercicios de Autoevaluación"
   ]
  },
  {
   "cell_type": "markdown",
   "metadata": {},
   "source": [
    "### Ejercicio 1\n",
    "Dada una lista, ¿como podriamos invertirla? Aplica los mismos conceptos que vimos en el slicing de strings."
   ]
  },
  {
   "cell_type": "code",
   "execution_count": 108,
   "metadata": {},
   "outputs": [
    {
     "name": "stdout",
     "output_type": "stream",
     "text": [
      "[500, 400, 300, 200, 100]\n"
     ]
    }
   ],
   "source": [
    "aList = [100, 200, 300, 400, 500]\n",
    "aList = aList[::-1]\n",
    "print(aList)"
   ]
  },
  {
   "cell_type": "markdown",
   "metadata": {},
   "source": [
    "### Ejercicio 2\n",
    "Crea una funcion que acepte como parametros una lista y un valor y que elimine el valor de la lista. Por ejemplo si la entrada es list1 = [5, 20, 15, 20, 25, 50, 20] y valor=20 la salida deberia ser [5, 15, 25, 50]"
   ]
  },
  {
   "cell_type": "code",
   "execution_count": 109,
   "metadata": {},
   "outputs": [
    {
     "name": "stdout",
     "output_type": "stream",
     "text": [
      "[5, 15, 25, 50]\n",
      "[5, 15, 25, 50]\n"
     ]
    }
   ],
   "source": [
    "def delete_value(listValues, val):\n",
    "   while val in listValues:\n",
    "      listValues.remove(val)\n",
    "   return listValues\n",
    "\n",
    "def removeValue(sampleList, val):\n",
    "   return [value for value in sampleList if value != val]\n",
    "\n",
    "list1 = [5, 20, 15, 20, 25, 50, 20]\n",
    "delete_value(list1, 20)\n",
    "print(list1)\n",
    "\n",
    "list1 = [5, 20, 15, 20, 25, 50, 20]\n",
    "print(removeValue(list1, 20))"
   ]
  },
  {
   "cell_type": "code",
   "execution_count": 110,
   "metadata": {},
   "outputs": [
    {
     "name": "stdout",
     "output_type": "stream",
     "text": [
      "382 ns ± 5.69 ns per loop (mean ± std. dev. of 7 runs, 1,000,000 loops each)\n"
     ]
    }
   ],
   "source": [
    "%%timeit\n",
    "list1 = [5, 20, 15, 20, 25, 50, 20]\n",
    "delete_value(list1, 20)"
   ]
  },
  {
   "cell_type": "code",
   "execution_count": 111,
   "metadata": {},
   "outputs": [
    {
     "name": "stdout",
     "output_type": "stream",
     "text": [
      "479 ns ± 21.2 ns per loop (mean ± std. dev. of 7 runs, 1,000,000 loops each)\n"
     ]
    }
   ],
   "source": [
    "%%timeit\n",
    "list1 = [5, 20, 15, 20, 25, 50, 20]\n",
    "removeValue(list1, 20)"
   ]
  },
  {
   "cell_type": "markdown",
   "metadata": {},
   "source": [
    "### Ejercicio 3\n",
    "Dado el siguiente diccionario, ¿cómo accederias al valor indicado por \"history\"?"
   ]
  },
  {
   "cell_type": "code",
   "execution_count": 112,
   "metadata": {},
   "outputs": [
    {
     "name": "stdout",
     "output_type": "stream",
     "text": [
      "80\n"
     ]
    }
   ],
   "source": [
    "sampleDict = { \n",
    "   \"class\":{ \n",
    "      \"student\":{ \n",
    "         \"name\":\"Mike\",\n",
    "         \"marks\":{ \n",
    "            \"physics\":70,\n",
    "            \"history\":80\n",
    "         }\n",
    "      }\n",
    "   }\n",
    "}\n",
    "# SOLUCION POSIBLE\n",
    "print(sampleDict['class']['student']['marks']['history'])"
   ]
  },
  {
   "cell_type": "markdown",
   "metadata": {},
   "source": [
    "### Ejercicio 4\n",
    "Escribe una funcion que identifique si la llave (key) de un diccionario ya existe o no"
   ]
  },
  {
   "cell_type": "code",
   "execution_count": 113,
   "metadata": {},
   "outputs": [
    {
     "name": "stdout",
     "output_type": "stream",
     "text": [
      "True\n",
      "False\n",
      "Key is present in the dictionary\n",
      "Key is not present in the dictionary\n"
     ]
    }
   ],
   "source": [
    "#SOLUCION PROPUESTA\n",
    "def is_key_present(dictionary, key):\n",
    "  print(key in dictionary)\n",
    "\n",
    "d = {1: 10, 2: 20, 3: 30, 4: 40, 5: 50, 6: 60}\n",
    "\n",
    "is_key_present(d, 5)\n",
    "is_key_present(d, 9)\n",
    "# Esta otra función aquí trabaja con la variable global `d`, por lo cuál debe existir antes de llamarla\n",
    "def is_key_present(x):\n",
    "  if x in d:\n",
    "      print('Key is present in the dictionary')\n",
    "  else:\n",
    "      print('Key is not present in the dictionary')\n",
    "is_key_present(5)\n",
    "is_key_present(9)"
   ]
  },
  {
   "cell_type": "markdown",
   "metadata": {},
   "source": [
    "### Ejercicio 5\n",
    "Escribe una funcion que reciba una lista como parametro y calcula la suma de todos sus elementos."
   ]
  },
  {
   "cell_type": "code",
   "execution_count": 114,
   "metadata": {},
   "outputs": [
    {
     "name": "stdout",
     "output_type": "stream",
     "text": [
      "-5\n"
     ]
    }
   ],
   "source": [
    "#SOLUCION PROPUESTA\n",
    "def sum_list(items):\n",
    "    return sum(items)\n",
    "print(sum_list([1,2,-8]))"
   ]
  },
  {
   "cell_type": "markdown",
   "metadata": {},
   "source": [
    "### Ejercicio 6\n",
    "Escribe una funcion que dada una lista que contiene strings, calcule el numero de esos strings que tiene un longitud mayor de dos y ademas que la primera letra es igual a la ultima letra. Por ejemplo si el parametro de entrada fuera ['abc', 'xyz', 'aba', '1221'] la salida deberia ser 2."
   ]
  },
  {
   "cell_type": "code",
   "execution_count": 115,
   "metadata": {},
   "outputs": [
    {
     "name": "stdout",
     "output_type": "stream",
     "text": [
      "2\n"
     ]
    }
   ],
   "source": [
    "#SOLUCION PROPUESTA\n",
    "def check_list(list_strings):\n",
    "  counter = 0\n",
    "  for element in list_strings:\n",
    "      if len(element) > 2 and element[0] == element[-1]:\n",
    "          counter += 1\n",
    "  return counter\n",
    "\n",
    "print(check_list(['abc', 'xyz', 'aba', '1221']))"
   ]
  },
  {
   "cell_type": "markdown",
   "metadata": {},
   "source": [
    "### Ejercicio 7\n",
    "Escribe un programa que elimine los duplicados de una lista y devuelva la lista sin duplicados."
   ]
  },
  {
   "cell_type": "code",
   "execution_count": 121,
   "metadata": {},
   "outputs": [
    {
     "name": "stdout",
     "output_type": "stream",
     "text": [
      "[10, 20, 30, 40, 50, 60, 80]\n",
      "[80, 40, 60, 50, 30, 20, 10]\n"
     ]
    }
   ],
   "source": [
    "# Convierto lista en conjunto para eliminar duplicados, y luego vuelvo a convertir en lista\n",
    "def remove_duplicates(list_numbers):\n",
    "  return sorted((list(set(list_numbers))))\n",
    "\n",
    "a = [10,20,30,20,10,50,60,40,80,50,40]\n",
    "\n",
    "print(remove_duplicates(a))\n",
    "\n",
    "\n",
    "dup_items = []\n",
    "uniq_items = []\n",
    "# Otra forma de hacerlo\n",
    "for x in a:\n",
    "    if x not in dup_items:\n",
    "        uniq_items.append(x)\n",
    "        # El método insert() inserta el objeto x en la posición dada, desplazando los elementos existentes a la derecha.\n",
    "        dup_items.insert(0,x)\n",
    "\n",
    "print(dup_items)"
   ]
  },
  {
   "cell_type": "markdown",
   "metadata": {},
   "source": [
    "### Ejercicio 8\n",
    "Escribir un programa que almacene en una lista los siguientes precios, 50, 75, 46, 22, 80, 65, 8, y muestre por pantalla el menor y el mayor de los precios."
   ]
  },
  {
   "cell_type": "code",
   "execution_count": 117,
   "metadata": {
    "collapsed": true
   },
   "outputs": [
    {
     "name": "stdout",
     "output_type": "stream",
     "text": [
      "El mínimo precio es 8 y el máximo precio es 80\n"
     ]
    }
   ],
   "source": [
    "#SOLUCION PROPUESTA\n",
    "price_list = [50, 75, 46, 22, 80, 65, 8]\n",
    "print(f\"El mínimo precio es {min(price_list)} y el máximo precio es {max(price_list)}\")"
   ]
  },
  {
   "cell_type": "markdown",
   "metadata": {},
   "source": [
    "### Ejercicio 9\n",
    "Escribir un programa que almacene las asignaturas de un curso (por ejemplo Visualizacion, IA, DL, Estadistica y Series) \n",
    "en una lista, pregunte al usuario la nota que ha sacado en cada asignatura, las almacene en una lista de notas, y después las muestre por pantalla con el mensaje: \n",
    "\n",
    "\"En *curso* has sacado *nota*.\""
   ]
  },
  {
   "cell_type": "code",
   "execution_count": 118,
   "metadata": {},
   "outputs": [
    {
     "name": "stdout",
     "output_type": "stream",
     "text": [
      "En Matemáticas has sacado 4\n",
      "En Física has sacado 4.5\n",
      "En Química has sacado 3.8\n",
      "En Historia has sacado 4563\n",
      "En Lengua has sacado 152\n"
     ]
    }
   ],
   "source": [
    "#SOLUCION PROPUESTA\n",
    "subjects = [\"Matemáticas\", \"Física\", \"Química\", \"Historia\", \"Lengua\"]\n",
    "scores = []\n",
    "for subject in subjects:\n",
    "    score = input(\"¿Qué nota has sacado en \" + subject + \"?\")\n",
    "    scores.append(score)\n",
    "for i in range(len(subjects)):\n",
    "    print(\"En \" + subjects[i] + \" has sacado \" + scores[i])"
   ]
  }
 ],
 "metadata": {
  "kernelspec": {
   "display_name": "dataScience",
   "language": "python",
   "name": "python3"
  },
  "language_info": {
   "codemirror_mode": {
    "name": "ipython",
    "version": 3
   },
   "file_extension": ".py",
   "mimetype": "text/x-python",
   "name": "python",
   "nbconvert_exporter": "python",
   "pygments_lexer": "ipython3",
   "version": "3.9.21"
  }
 },
 "nbformat": 4,
 "nbformat_minor": 2
}
